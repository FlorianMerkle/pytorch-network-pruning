{
 "cells": [
  {
   "cell_type": "code",
   "execution_count": 1,
   "metadata": {},
   "outputs": [],
   "source": [
    "import torch\n",
    "import torch.nn as nn\n",
    "import torch.nn.functional as F\n",
    "import torchvision\n",
    "import torch.optim as optim\n",
    "\n",
    "from src.models import ResNet, MNIST_CNN, CIFAR_CNN\n",
    "from src.helpers import evaluate_rob_accuracy, evaluate_clean_accuracy, load_model, safe_model,_evaluate_model\n",
    "from src.data_loader import load_torchvision_dataset, load_imagenette\n",
    "#from src.pruning import identify_layers, _evaluate_sparsity\n",
    "\n",
    "import time\n",
    "\n",
    "#device = torch.device(\"cuda:0\")\n",
    "device = torch.device(\"cpu\")\n",
    "\n",
    "dtype = torch.float32"
   ]
  },
  {
   "cell_type": "markdown",
   "metadata": {},
   "source": [
    "# Double Update vs. Single Update Fast Adversarial Training\n",
    "Specs:\n",
    "\n",
    "CIFAR CNN: 4 Conv (16,16,32,32) with batchnorm, 2 FC (128,10)\n",
    "\n",
    "Data: Cifar (32,32,3)\n",
    "\n",
    "30 Epochs with eps=8/255\n",
    "\n",
    "\n",
    "\n",
    "Standard Fast Adv. Training:\n",
    "Clean: 63.05%\n",
    "Robust: 59.34%\n",
    "\n",
    "Fast Adv. Training w Double Update:\n",
    "Clean: 63.99%\n",
    "Robust: 61.35%\n",
    "\n",
    "\n"
   ]
  },
  {
   "cell_type": "code",
   "execution_count": null,
   "metadata": {},
   "outputs": [],
   "source": []
  },
  {
   "cell_type": "code",
   "execution_count": null,
   "metadata": {},
   "outputs": [],
   "source": []
  },
  {
   "cell_type": "markdown",
   "metadata": {},
   "source": [
    "# Initialization"
   ]
  },
  {
   "cell_type": "code",
   "execution_count": 2,
   "metadata": {},
   "outputs": [
    {
     "name": "stdout",
     "output_type": "stream",
     "text": [
      "identifying layers\n"
     ]
    }
   ],
   "source": [
    "#model = ResNet()\n",
    "#model = MNIST_CNN()\n",
    "model = CIFAR_CNN()"
   ]
  },
  {
   "cell_type": "code",
   "execution_count": 7,
   "metadata": {},
   "outputs": [
    {
     "name": "stdout",
     "output_type": "stream",
     "text": [
      "Files already downloaded and verified\n",
      "Files already downloaded and verified\n"
     ]
    }
   ],
   "source": [
    "train_loader, test_loader = load_torchvision_dataset('CIFAR10')"
   ]
  },
  {
   "cell_type": "code",
   "execution_count": 4,
   "metadata": {},
   "outputs": [],
   "source": [
    "PATH = './saved-models/CIFAR-baseline-150-epochs.pth'\n",
    "model = load_model(model, PATH)"
   ]
  },
  {
   "cell_type": "markdown",
   "metadata": {},
   "source": [
    "# Experiment\n",
    "\n",
    "\n",
    "1. Prune\n",
    "2. Train\n",
    "3. measure robust accuracy\n"
   ]
  },
  {
   "cell_type": "code",
   "execution_count": null,
   "metadata": {
    "scrolled": false
   },
   "outputs": [],
   "source": [
    "stats = run()"
   ]
  },
  {
   "cell_type": "code",
   "execution_count": 9,
   "metadata": {},
   "outputs": [],
   "source": [
    "from foolbox import PyTorchModel, accuracy, samples\n",
    "from foolbox.attacks import LinfPGD, FGSM, L0BrendelBethgeAttack, L2CarliniWagnerAttack\n",
    "\n",
    "def run():\n",
    "    model = CIFAR_CNN()\n",
    "    compression_rates = [1,2,4,8,16]\n",
    "    stats = {}\n",
    "    for ratio in compression_rates:\n",
    "        model.prune_magnitude_global_unstruct(1-1/ratio)\n",
    "        train_data = model.fit(train_loader, test_loader, 20, device)\n",
    "        images, labels = next(iter(test_loader))\n",
    "        stats[f'ratio']['l0_robustness'] = bb_attack(model, images, labels)\n",
    "        stats[f'ratio']['l2_robustness'] = cw_attack(model, images, labels)\n",
    "        stats[f'ratio']['linf_robustness'] = pgd_attack(model, images, labels)\n",
    "        stats[f'ratio']['clean_accuracy'] = train_data['accuracy']\n",
    "        \n",
    "    return(stats)\n",
    "        \n",
    "        \n",
    "        \n",
    "    "
   ]
  },
  {
   "cell_type": "code",
   "execution_count": 4,
   "metadata": {},
   "outputs": [],
   "source": [
    "def bb_attack(model, images, labels, eps=8/255):\n",
    "    model.eval()\n",
    "    fmodel = PyTorchModel(model, bounds=(0, 1))\n",
    "    attack = L0BrendelBethgeAttack()\n",
    "    raw_advs, clipped_advs, success = attack(fmodel, images, labels, epsilons=eps)\n",
    "    model.train()\n",
    "\n",
    "    return torch.sum(success)/len(success)\n",
    "\n",
    "def cw_attack(model, images, labels, eps=8/255):\n",
    "    model.eval()\n",
    "    fmodel = PyTorchModel(model, bounds=(0, 1))\n",
    "    attack = L2CarliniWagnerAttack()\n",
    "    raw_advs, clipped_advs, success = attack(fmodel, images, labels, epsilons=eps)\n",
    "    model.train()\n",
    "\n",
    "    return torch.sum(success)/len(success)\n",
    "\n",
    "def pgd_attack(model, images, labels, eps=8/255):\n",
    "    model.eval()\n",
    "    fmodel = PyTorchModel(model, bounds=(0, 1))\n",
    "    attack = LinfPGD()\n",
    "    raw_advs, clipped_advs, success = attack(fmodel, images, labels, epsilons=eps)\n",
    "    model.train()\n",
    "\n",
    "    return torch.sum(success)/len(success)"
   ]
  },
  {
   "cell_type": "code",
   "execution_count": 8,
   "metadata": {},
   "outputs": [],
   "source": [
    "a = torch.rand((5,2))"
   ]
  },
  {
   "cell_type": "code",
   "execution_count": 9,
   "metadata": {},
   "outputs": [
    {
     "data": {
      "text/plain": [
       "tensor(5.4796)"
      ]
     },
     "execution_count": 9,
     "metadata": {},
     "output_type": "execute_result"
    }
   ],
   "source": [
    "torch.sum(a)"
   ]
  },
  {
   "cell_type": "code",
   "execution_count": 17,
   "metadata": {},
   "outputs": [],
   "source": []
  },
  {
   "cell_type": "code",
   "execution_count": 18,
   "metadata": {},
   "outputs": [
    {
     "data": {
      "text/plain": [
       "512"
      ]
     },
     "execution_count": 18,
     "metadata": {},
     "output_type": "execute_result"
    }
   ],
   "source": [
    "len(images)"
   ]
  },
  {
   "cell_type": "code",
   "execution_count": null,
   "metadata": {},
   "outputs": [],
   "source": []
  },
  {
   "cell_type": "code",
   "execution_count": null,
   "metadata": {},
   "outputs": [],
   "source": []
  },
  {
   "cell_type": "code",
   "execution_count": null,
   "metadata": {},
   "outputs": [],
   "source": []
  },
  {
   "cell_type": "code",
   "execution_count": null,
   "metadata": {},
   "outputs": [],
   "source": []
  },
  {
   "cell_type": "code",
   "execution_count": null,
   "metadata": {},
   "outputs": [],
   "source": []
  },
  {
   "cell_type": "code",
   "execution_count": null,
   "metadata": {},
   "outputs": [],
   "source": []
  },
  {
   "cell_type": "code",
   "execution_count": null,
   "metadata": {},
   "outputs": [],
   "source": []
  },
  {
   "cell_type": "markdown",
   "metadata": {},
   "source": [
    "# Test"
   ]
  },
  {
   "cell_type": "code",
   "execution_count": 4,
   "metadata": {},
   "outputs": [
    {
     "name": "stdout",
     "output_type": "stream",
     "text": [
      "[1,     1] loss: 4.13015, train_accuracy: 4.17\n",
      "[1,     2] loss: 3.66484, train_accuracy: 4.88\n",
      "[1,     3] loss: 3.12940, train_accuracy: 6.97\n",
      "[1,     4] loss: 2.90560, train_accuracy: 8.98\n",
      "[1,     5] loss: 2.72787, train_accuracy: 9.70\n",
      "[1,     6] loss: 2.53809, train_accuracy: 10.22\n",
      "[1,     7] loss: 2.40960, train_accuracy: 15.62\n",
      "[1,     8] loss: 2.43231, train_accuracy: 14.13\n",
      "[1,     9] loss: 2.44054, train_accuracy: 14.78\n",
      "[1,    10] loss: 2.36526, train_accuracy: 17.90\n",
      "[1,    11] loss: 2.37196, train_accuracy: 19.01\n",
      "[1,    12] loss: 2.28873, train_accuracy: 18.49\n",
      "[1,    13] loss: 2.31310, train_accuracy: 14.58\n",
      "[1,    14] loss: 2.30206, train_accuracy: 18.55\n",
      "[1,    15] loss: 2.27567, train_accuracy: 15.89\n",
      "[1,    16] loss: 2.21592, train_accuracy: 18.03\n",
      "[1,    17] loss: 2.19046, train_accuracy: 20.05\n",
      "[1,    18] loss: 2.15967, train_accuracy: 23.11\n",
      "[1,    19] loss: 2.23406, train_accuracy: 18.68\n",
      "[1,    20] loss: 2.25862, train_accuracy: 17.45\n",
      "[1,    21] loss: 2.12274, train_accuracy: 23.24\n",
      "[1,    22] loss: 2.17765, train_accuracy: 20.05\n",
      "[1,    23] loss: 2.17858, train_accuracy: 23.18\n",
      "[1,    24] loss: 2.23169, train_accuracy: 17.32\n",
      "[1,    25] loss: 2.18564, train_accuracy: 17.97\n",
      "[1,    26] loss: 2.19388, train_accuracy: 19.53\n",
      "[1,    27] loss: 2.15015, train_accuracy: 19.08\n",
      "[1,    28] loss: 2.12199, train_accuracy: 21.61\n",
      "[1,    29] loss: 2.18580, train_accuracy: 18.62\n",
      "[1,    30] loss: 2.16209, train_accuracy: 21.81\n",
      "[1,    31] loss: 2.14573, train_accuracy: 22.85\n",
      "[1,    32] loss: 2.13041, train_accuracy: 24.48\n",
      "[1,    33] loss: 2.16252, train_accuracy: 20.05\n",
      "[1,    34] loss: 2.13558, train_accuracy: 23.44\n",
      "[1,    35] loss: 2.16724, train_accuracy: 19.86\n",
      "[1,    36] loss: 2.21078, train_accuracy: 17.84\n",
      "[1,    37] loss: 2.18081, train_accuracy: 18.82\n",
      "[1,    38] loss: 2.14555, train_accuracy: 20.05\n",
      "[1,    39] loss: 2.11903, train_accuracy: 21.22\n",
      "[1,    40] loss: 2.17089, train_accuracy: 20.64\n",
      "[1,    41] loss: 2.19014, train_accuracy: 18.23\n",
      "[1,    42] loss: 2.15069, train_accuracy: 25.00\n",
      "[1,    43] loss: 2.12383, train_accuracy: 24.93\n",
      "[1,    44] loss: 2.07686, train_accuracy: 24.87\n",
      "[1,    45] loss: 2.10713, train_accuracy: 22.14\n",
      "[1,    46] loss: 2.08371, train_accuracy: 24.80\n",
      "[1,    47] loss: 2.16578, train_accuracy: 20.83\n",
      "[1,    48] loss: 2.16394, train_accuracy: 22.40\n",
      "[1,    49] loss: 2.09479, train_accuracy: 23.57\n",
      "[1,    50] loss: 2.19689, train_accuracy: 17.90\n",
      "[1,    51] loss: 2.14077, train_accuracy: 22.85\n",
      "[1,    52] loss: 2.09430, train_accuracy: 22.85\n",
      "[1,    53] loss: 2.10679, train_accuracy: 22.01\n",
      "[1,    54] loss: 2.15999, train_accuracy: 20.70\n",
      "[1,    55] loss: 2.20202, train_accuracy: 18.82\n",
      "[1,    56] loss: 2.14481, train_accuracy: 20.70\n",
      "[1,    57] loss: 2.10255, train_accuracy: 22.33\n",
      "[1,    58] loss: 2.05739, train_accuracy: 23.89\n",
      "[1,    59] loss: 2.07499, train_accuracy: 23.63\n",
      "[1,    60] loss: 2.09256, train_accuracy: 22.01\n",
      "[1,    61] loss: 2.14301, train_accuracy: 22.14\n",
      "[1,    62] loss: 2.12803, train_accuracy: 22.79\n",
      "[1,    63] loss: 2.04009, train_accuracy: 25.46\n",
      "[1,    64] loss: 2.10628, train_accuracy: 21.88\n",
      "[1,    65] loss: 2.10198, train_accuracy: 20.90\n",
      "[1,    66] loss: 2.08540, train_accuracy: 24.15\n",
      "[1,    67] loss: 2.07839, train_accuracy: 22.98\n",
      "[1,    68] loss: 2.07711, train_accuracy: 22.98\n",
      "[1,    69] loss: 2.06060, train_accuracy: 20.31\n",
      "[1,    70] loss: 2.06125, train_accuracy: 25.65\n",
      "[1,    71] loss: 2.08271, train_accuracy: 26.24\n",
      "[1,    72] loss: 2.01735, train_accuracy: 26.43\n",
      "[1,    73] loss: 2.06047, train_accuracy: 23.83\n",
      "[1,    74] loss: 2.08206, train_accuracy: 22.01\n",
      "[1,    75] loss: 2.01236, train_accuracy: 25.72\n",
      "[1,    76] loss: 2.02874, train_accuracy: 28.06\n",
      "[1,    77] loss: 2.05377, train_accuracy: 25.78\n",
      "[1,    78] loss: 2.12314, train_accuracy: 23.24\n",
      "[1,    79] loss: 2.07924, train_accuracy: 24.48\n",
      "[1,    80] loss: 1.98147, train_accuracy: 29.10\n",
      "[1,    81] loss: 2.04405, train_accuracy: 24.28\n",
      "[1,    82] loss: 1.98542, train_accuracy: 27.41\n",
      "[1,    83] loss: 2.08550, train_accuracy: 23.63\n",
      "[1,    84] loss: 2.03384, train_accuracy: 21.81\n",
      "[1,    85] loss: 2.02156, train_accuracy: 24.93\n",
      "[1,    86] loss: 2.08230, train_accuracy: 23.50\n",
      "[1,    87] loss: 2.01108, train_accuracy: 26.56\n",
      "[1,    88] loss: 2.12468, train_accuracy: 21.48\n",
      "[1,    89] loss: 1.99321, train_accuracy: 26.76\n",
      "[1,    90] loss: 2.01881, train_accuracy: 25.00\n",
      "[1,    91] loss: 1.95153, train_accuracy: 27.54\n",
      "[1,    92] loss: 2.01250, train_accuracy: 26.30\n",
      "[1,    93] loss: 1.99616, train_accuracy: 23.83\n",
      "[1,    94] loss: 2.03431, train_accuracy: 24.54\n",
      "[1,    95] loss: 2.03092, train_accuracy: 23.70\n",
      "[1,    96] loss: 2.03473, train_accuracy: 24.74\n",
      "[1,    97] loss: 2.06312, train_accuracy: 23.76\n",
      "[1,    98] loss: 1.99822, train_accuracy: 27.68\n",
      "duration: 353.1993157863617 - train loss:  19.75298612215081  - train accuracy:  190.92081587099128  - validation accuracy:  34.82  - validation loss:  1.7801462471485139\n",
      "duration: 353 s - train loss: 19.75299 - train accuracy: 190.92 - validation loss: 1.78 - validation accuracy: 34.82 \n",
      "Finished Training\n"
     ]
    },
    {
     "data": {
      "text/plain": [
       "{'criterion': CrossEntropyLoss(),\n",
       " 'optimizer': Adam (\n",
       " Parameter Group 0\n",
       "     amsgrad: False\n",
       "     betas: (0.9, 0.999)\n",
       "     eps: 1e-08\n",
       "     lr: 0.001\n",
       "     weight_decay: 0\n",
       " ),\n",
       " 'hist': 'Not implemented',\n",
       " 'val_accuracy': 34.82}"
      ]
     },
     "execution_count": 4,
     "metadata": {},
     "output_type": "execute_result"
    }
   ],
   "source": [
    "model.fit_free(train_loader, test_loader, 1, device, number_of_replays=3, eps = 8/255)"
   ]
  },
  {
   "cell_type": "code",
   "execution_count": 5,
   "metadata": {},
   "outputs": [
    {
     "name": "stdout",
     "output_type": "stream",
     "text": [
      "[1,     1] loss: 1.96565, train_accuracy: 28.91\n",
      "[1,    11] loss: 1.97713, train_accuracy: 27.93\n",
      "[1,    21] loss: 1.93998, train_accuracy: 27.34\n",
      "[1,    31] loss: 1.85866, train_accuracy: 31.05\n",
      "[1,    41] loss: 1.93476, train_accuracy: 29.88\n",
      "[1,    51] loss: 1.81361, train_accuracy: 33.79\n",
      "[1,    61] loss: 1.79394, train_accuracy: 34.96\n",
      "[1,    71] loss: 1.87157, train_accuracy: 32.42\n",
      "[1,    81] loss: 1.81604, train_accuracy: 33.98\n",
      "[1,    91] loss: 1.78834, train_accuracy: 31.84\n",
      "duration: 255 s - train loss: 1.84690 - train accuracy: 32.50 - validation loss: 1.53757 - validation accuracy: 44.68 \n",
      "Finished Training\n"
     ]
    },
    {
     "data": {
      "text/plain": [
       "{'criterion': CrossEntropyLoss(),\n",
       " 'optimizer': Adam (\n",
       " Parameter Group 0\n",
       "     amsgrad: False\n",
       "     betas: (0.9, 0.999)\n",
       "     eps: 1e-08\n",
       "     lr: 0.001\n",
       "     weight_decay: 0\n",
       " ),\n",
       " 'hist': 'Not implemented',\n",
       " 'val_accuracy': 44.68}"
      ]
     },
     "execution_count": 5,
     "metadata": {},
     "output_type": "execute_result"
    }
   ],
   "source": [
    "model.fit_fast(train_loader, test_loader, 1, device,eps = 8/255)"
   ]
  },
  {
   "cell_type": "code",
   "execution_count": 6,
   "metadata": {},
   "outputs": [
    {
     "name": "stdout",
     "output_type": "stream",
     "text": [
      "[1,     1] loss: 1.70809, train_accuracy: 39.65\n",
      "[1,    11] loss: 1.82264, train_accuracy: 33.59\n",
      "[1,    21] loss: 1.73971, train_accuracy: 32.81\n",
      "[1,    31] loss: 1.81496, train_accuracy: 35.94\n",
      "[1,    41] loss: 1.78697, train_accuracy: 31.45\n",
      "[1,    51] loss: 1.78453, train_accuracy: 33.20\n",
      "[1,    61] loss: 1.72529, train_accuracy: 35.55\n",
      "[1,    71] loss: 1.67665, train_accuracy: 38.67\n",
      "[1,    81] loss: 1.74809, train_accuracy: 35.55\n",
      "[1,    91] loss: 1.71799, train_accuracy: 38.67\n",
      "duration: 320 s - train loss: 1.76333 - train accuracy: 35.67 - validation loss: 1.45301 - validation accuracy: 48.06 \n",
      "Finished Training\n"
     ]
    },
    {
     "data": {
      "text/plain": [
       "{'criterion': CrossEntropyLoss(),\n",
       " 'optimizer': Adam (\n",
       " Parameter Group 0\n",
       "     amsgrad: False\n",
       "     betas: (0.9, 0.999)\n",
       "     eps: 1e-08\n",
       "     lr: 0.001\n",
       "     weight_decay: 0\n",
       " ),\n",
       " 'hist': 'Not implemented',\n",
       " 'val_accuracy': 48.06}"
      ]
     },
     "execution_count": 6,
     "metadata": {},
     "output_type": "execute_result"
    }
   ],
   "source": [
    "model.fit_fast_with_double_update(train_loader, test_loader, 1, device,eps = 8/255)"
   ]
  },
  {
   "cell_type": "code",
   "execution_count": 9,
   "metadata": {},
   "outputs": [],
   "source": [
    "\n",
    "\n",
    "            \n",
    "            "
   ]
  },
  {
   "cell_type": "code",
   "execution_count": null,
   "metadata": {},
   "outputs": [],
   "source": []
  }
 ],
 "metadata": {
  "kernelspec": {
   "display_name": "Python 3",
   "language": "python",
   "name": "python3"
  },
  "language_info": {
   "codemirror_mode": {
    "name": "ipython",
    "version": 3
   },
   "file_extension": ".py",
   "mimetype": "text/x-python",
   "name": "python",
   "nbconvert_exporter": "python",
   "pygments_lexer": "ipython3",
   "version": "3.7.4"
  }
 },
 "nbformat": 4,
 "nbformat_minor": 4
}
