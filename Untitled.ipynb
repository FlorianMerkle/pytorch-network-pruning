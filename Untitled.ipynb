{
 "cells": [
  {
   "cell_type": "code",
   "execution_count": 1,
   "metadata": {},
   "outputs": [],
   "source": [
    "import torch\n",
    "import torchvision\n",
    "import torchvision.transforms as transforms"
   ]
  },
  {
   "cell_type": "code",
   "execution_count": 13,
   "metadata": {},
   "outputs": [],
   "source": [
    "transform = transforms.Compose(\n",
    "    [transforms.ToTensor(),\n",
    "     transforms.Normalize((0.5), (0.5))])\n",
    "\n",
    "trainset = torchvision.datasets.MNIST(root='./data', train=True,\n",
    "                                        download=True, transform=transform)\n",
    "trainloader = torch.utils.data.DataLoader(trainset, batch_size=4,\n",
    "                                          shuffle=True, num_workers=2)\n",
    "\n",
    "testset = torchvision.datasets.MNIST(root='./data', train=False,\n",
    "                                       download=True, transform=transform)\n",
    "testloader = torch.utils.data.DataLoader(testset, batch_size=4,\n",
    "                                         shuffle=False, num_workers=2)\n"
   ]
  },
  {
   "cell_type": "code",
   "execution_count": 80,
   "metadata": {},
   "outputs": [],
   "source": [
    "import torch.nn.functional as F\n",
    "import torch.nn as nn\n",
    "\n",
    "\n",
    "class MyLinearLayer(nn.Module):\n",
    "    \"\"\" Custom Linear layer with pruning mask\"\"\"\n",
    "    def __init__(self, shape, bias=True, activation='relu'):\n",
    "        super().__init__()\n",
    "        self.b, self.a = bias, activation\n",
    "        weights = torch.empty(shape)\n",
    "        self.weights = nn.Parameter(weights)  # nn.Parameter is a Tensor that's a module parameter.\n",
    "        mask = torch.ones(shape)\n",
    "        self.mask = nn.Parameter(mask, requires_grad=False)\n",
    "        if self.b == True:\n",
    "            bias = torch.zeros(self.weights.shape[-1])\n",
    "            self.bias = nn.Parameter(bias)\n",
    "\n",
    "        # initialize weights and biases\n",
    "        nn.init.xavier_uniform_(self.weights)\n",
    "\n",
    "    def forward(self, inputs):\n",
    "        #print(inputs.shape)\n",
    "        #print(self.weights.shape)\n",
    "        #print(self.mask.shape)\n",
    "        x = torch.mm(inputs, self.weights*self.mask)\n",
    "        if self.b == True:\n",
    "            x = torch.add(x, self.bias)\n",
    "        if self.a == 'relu':\n",
    "            x = F.relu(x)\n",
    "        return x\n",
    "\n",
    "class MyConvLayer(nn.Module):\n",
    "    \"\"\" Custom Conv layer with pruning mask\"\"\"\n",
    "    def __init__(self, shape, bias=True, stride=1, padding=0):\n",
    "        super().__init__()\n",
    "        self.b, self.s, self.p = bias, stride, padding\n",
    "        weights = torch.empty(shape)\n",
    "        self.weights = nn.Parameter(weights)  # nn.Parameter is a Tensor that's a module parameter.\n",
    "        mask = torch.ones(shape)\n",
    "        self.mask = nn.Parameter(mask, requires_grad=False)\n",
    "        if self.b == True:\n",
    "            bias = torch.zeros(self.weights.shape[0])\n",
    "            self.bias = nn.Parameter(bias)\n",
    "\n",
    "        # initialize weights and biases\n",
    "        nn.init.xavier_uniform_(self.weights)\n",
    "\n",
    "    def forward(self, inputs):\n",
    "        x = F.conv2d(inputs, self.weights*self.mask, bias=None, stride=self.s, padding=self.p)\n",
    "        if self.b == True:\n",
    "            #reshape the bias\n",
    "            b = self.bias.reshape((1, self.bias.shape[0], 1,1))\n",
    "            x = torch.add(x, b)\n",
    "        return F.relu(x)\n",
    "    \n",
    "    \n",
    "\n",
    "class Net(nn.Module):\n",
    "    def __init__(self):\n",
    "        super(Net, self).__init__()\n",
    "        #self.conv1 = nn.Conv2d(1, 6, 5)\n",
    "        self.conv1 = MyConvLayer((6,1,5,5))\n",
    "        self.pool = nn.AvgPool2d(2, 2)\n",
    "        self.conv2 = MyConvLayer((16, 6, 5, 5))\n",
    "        self.fc1 = MyLinearLayer((16 * 4 * 4, 120))\n",
    "        self.fc2 = MyLinearLayer((120, 84))\n",
    "        self.fc3 = MyLinearLayer((84, 10), 'None')\n",
    "        #self.fc1 = nn.Linear(16 * 4 * 4, 120)\n",
    "        #self.fc2 = nn.Linear(120, 84)\n",
    "        #self.fc3 = nn.Linear(84, 10)\n",
    "\n",
    "\n",
    "    def forward(self, x):\n",
    "        x = self.pool(self.conv1(x))\n",
    "        x = self.pool(self.conv2(x))\n",
    "        x = x.view(-1, 16 * 4 * 4)\n",
    "        #print(x.shape)\n",
    "        x = self.fc1(x)\n",
    "        x = self.fc2(x)\n",
    "        x = self.fc3(x)\n",
    "        return x\n",
    "\n",
    "\n",
    "net = Net()"
   ]
  },
  {
   "cell_type": "code",
   "execution_count": 81,
   "metadata": {},
   "outputs": [],
   "source": [
    "import torch.optim as optim\n",
    "\n",
    "criterion = nn.CrossEntropyLoss()\n",
    "optimizer = optim.SGD(net.parameters(), lr=0.001, momentum=0.9)"
   ]
  },
  {
   "cell_type": "code",
   "execution_count": 82,
   "metadata": {},
   "outputs": [
    {
     "name": "stdout",
     "output_type": "stream",
     "text": [
      "[1,  2000] loss: 1.589\n",
      "[1,  4000] loss: 0.601\n",
      "[1,  6000] loss: 0.456\n",
      "[1,  8000] loss: 0.423\n",
      "[1, 10000] loss: 0.146\n",
      "[1, 12000] loss: 0.104\n",
      "[1, 14000] loss: 0.102\n",
      "[2,  2000] loss: 0.089\n",
      "[2,  4000] loss: 0.079\n",
      "[2,  6000] loss: 0.067\n",
      "[2,  8000] loss: 0.071\n",
      "[2, 10000] loss: 0.068\n",
      "[2, 12000] loss: 0.063\n",
      "[2, 14000] loss: 0.065\n",
      "Finished Training\n"
     ]
    }
   ],
   "source": [
    "for epoch in range(2):  # loop over the dataset multiple times\n",
    "\n",
    "    running_loss = 0.0\n",
    "    for i, data in enumerate(trainloader, 0):\n",
    "        # get the inputs; data is a list of [inputs, labels]\n",
    "        inputs, labels = data\n",
    "\n",
    "        # zero the parameter gradients\n",
    "        optimizer.zero_grad()\n",
    "\n",
    "        # forward + backward + optimize\n",
    "        outputs = net(inputs)\n",
    "        loss = criterion(outputs, labels)\n",
    "        loss.backward()\n",
    "        optimizer.step()\n",
    "\n",
    "        # print statistics\n",
    "        running_loss += loss.item()\n",
    "        if i % 2000 == 1999:    # print every 2000 mini-batches\n",
    "            print('[%d, %5d] loss: %.3f' %\n",
    "                  (epoch + 1, i + 1, running_loss / 2000))\n",
    "            running_loss = 0.0\n",
    "\n",
    "print('Finished Training')"
   ]
  },
  {
   "cell_type": "code",
   "execution_count": 83,
   "metadata": {},
   "outputs": [
    {
     "name": "stdout",
     "output_type": "stream",
     "text": [
      "Accuracy of the network on the 10000 test images: 98 %\n"
     ]
    }
   ],
   "source": [
    "correct = 0\n",
    "total = 0\n",
    "with torch.no_grad():\n",
    "    for data in testloader:\n",
    "        images, labels = data\n",
    "        outputs = net(images)\n",
    "        _, predicted = torch.max(outputs.data, 1)\n",
    "        total += labels.size(0)\n",
    "        correct += (predicted == labels).sum().item()\n",
    "\n",
    "print('Accuracy of the network on the 10000 test images: %d %%' % (\n",
    "    100 * correct / total))"
   ]
  },
  {
   "cell_type": "code",
   "execution_count": 78,
   "metadata": {},
   "outputs": [
    {
     "name": "stdout",
     "output_type": "stream",
     "text": [
      "Accuracy of the network on the 10000 test images: 98 %\n"
     ]
    }
   ],
   "source": [
    "correct = 0\n",
    "total = 0\n",
    "with torch.no_grad():\n",
    "    for data in testloader:\n",
    "        images, labels = data\n",
    "        outputs = net(images)\n",
    "        _, predicted = torch.max(outputs.data, 1)\n",
    "        total += labels.size(0)\n",
    "        correct += (predicted == labels).sum().item()\n",
    "\n",
    "print('Accuracy of the network on the 10000 test images: %d %%' % (\n",
    "    100 * correct / total))"
   ]
  },
  {
   "cell_type": "code",
   "execution_count": 74,
   "metadata": {},
   "outputs": [
    {
     "name": "stdout",
     "output_type": "stream",
     "text": [
      "Net(\n",
      "  (conv1): MyConvLayer()\n",
      "  (pool): AvgPool2d(kernel_size=2, stride=2, padding=0)\n",
      "  (conv2): MyConvLayer()\n",
      "  (fc1): Linear(in_features=256, out_features=120, bias=True)\n",
      "  (fc2): Linear(in_features=120, out_features=84, bias=True)\n",
      "  (fc3): Linear(in_features=84, out_features=10, bias=True)\n",
      ")\n"
     ]
    }
   ],
   "source": [
    "print(net)"
   ]
  },
  {
   "cell_type": "code",
   "execution_count": null,
   "metadata": {},
   "outputs": [],
   "source": []
  }
 ],
 "metadata": {
  "kernelspec": {
   "display_name": "Python 3",
   "language": "python",
   "name": "python3"
  },
  "language_info": {
   "codemirror_mode": {
    "name": "ipython",
    "version": 3
   },
   "file_extension": ".py",
   "mimetype": "text/x-python",
   "name": "python",
   "nbconvert_exporter": "python",
   "pygments_lexer": "ipython3",
   "version": "3.8.3"
  }
 },
 "nbformat": 4,
 "nbformat_minor": 4
}
