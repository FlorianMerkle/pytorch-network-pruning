{
 "cells": [
  {
   "cell_type": "code",
   "execution_count": 1,
   "metadata": {},
   "outputs": [],
   "source": [
    "import torch\n",
    "import torch.nn as nn\n",
    "import torch.nn.functional as F\n",
    "import torchvision\n",
    "import torch.optim as optim\n",
    "\n",
    "from src.models import ResNet, MNIST_CNN, CIFAR_CNN\n",
    "from src.helpers import evaluate_rob_accuracy, evaluate_clean_accuracy, load_model, safe_model\n",
    "from src.data_loader import load_torchvision_dataset, load_imagenette\n",
    "\n",
    "#device = torch.device(\"cuda:0\")\n",
    "device = torch.device(\"cpu\")\n",
    "\n",
    "dtype = torch.float32"
   ]
  },
  {
   "cell_type": "markdown",
   "metadata": {},
   "source": [
    "# Helper Functions"
   ]
  },
  {
   "cell_type": "code",
   "execution_count": 2,
   "metadata": {},
   "outputs": [],
   "source": [
    "#model = ResNet()\n",
    "#model = MNIST_CNN()\n",
    "model = CIFAR_CNN()"
   ]
  },
  {
   "cell_type": "code",
   "execution_count": null,
   "metadata": {},
   "outputs": [],
   "source": []
  },
  {
   "cell_type": "code",
   "execution_count": 3,
   "metadata": {
    "scrolled": true
   },
   "outputs": [
    {
     "name": "stdout",
     "output_type": "stream",
     "text": [
      "Files already downloaded and verified\n",
      "Files already downloaded and verified\n"
     ]
    }
   ],
   "source": [
    "train_loader, test_loader = load_torchvision_dataset('CIFAR10')"
   ]
  },
  {
   "cell_type": "code",
   "execution_count": 4,
   "metadata": {
    "scrolled": true
   },
   "outputs": [],
   "source": [
    "PATH = './saved-models/CIFAR-baseline-150-epochs.pth'\n",
    "model = load_model(model, PATH)"
   ]
  },
  {
   "cell_type": "markdown",
   "metadata": {},
   "source": [
    "# Without adversarial training"
   ]
  },
  {
   "cell_type": "code",
   "execution_count": 5,
   "metadata": {},
   "outputs": [
    {
     "data": {
      "text/plain": [
       "(72.49, 0.0)"
      ]
     },
     "execution_count": 5,
     "metadata": {},
     "output_type": "execute_result"
    }
   ],
   "source": [
    "evaluate_clean_accuracy(model, test_loader, device)"
   ]
  },
  {
   "cell_type": "code",
   "execution_count": 6,
   "metadata": {
    "scrolled": true
   },
   "outputs": [
    {
     "data": {
      "text/plain": [
       "42.29"
      ]
     },
     "execution_count": 6,
     "metadata": {},
     "output_type": "execute_result"
    }
   ],
   "source": [
    "evaluate_rob_accuracy(model, test_loader, device, epsilon=16/255, attack='FGSM')"
   ]
  },
  {
   "cell_type": "markdown",
   "metadata": {},
   "source": [
    "# After 5 epochs of adversarial training"
   ]
  },
  {
   "cell_type": "code",
   "execution_count": 7,
   "metadata": {
    "scrolled": true
   },
   "outputs": [
    {
     "name": "stdout",
     "output_type": "stream",
     "text": [
      "[1,     1] loss: 1.46292, train_accuracy: 51.07\n",
      "[1,    21] loss: 1.34121, train_accuracy: 54.88\n",
      "[1,    41] loss: 1.26299, train_accuracy: 55.66\n",
      "[1,    61] loss: 1.37453, train_accuracy: 53.12\n",
      "[1,    81] loss: 1.33547, train_accuracy: 53.03\n",
      "duration: 2564 s - train loss: 1.34276 - train accuracy: 53.45 - validation loss: 1.16 - validation accuracy: 59.07 \n",
      "[2,     1] loss: 1.24305, train_accuracy: 58.20\n",
      "[2,    21] loss: 1.29893, train_accuracy: 54.20\n",
      "[2,    41] loss: 1.30814, train_accuracy: 51.46\n",
      "[2,    61] loss: 1.28371, train_accuracy: 54.20\n",
      "[2,    81] loss: 1.23635, train_accuracy: 55.66\n",
      "duration: 2561 s - train loss: 1.29883 - train accuracy: 54.13 - validation loss: 1.16 - validation accuracy: 59.26 \n",
      "[3,     1] loss: 1.32356, train_accuracy: 54.79\n",
      "[3,    21] loss: 1.25065, train_accuracy: 54.59\n",
      "[3,    41] loss: 1.27436, train_accuracy: 54.59\n",
      "[3,    61] loss: 1.22230, train_accuracy: 58.89\n",
      "[3,    81] loss: 1.34580, train_accuracy: 53.71\n",
      "duration: 2564 s - train loss: 1.29002 - train accuracy: 54.35 - validation loss: 1.17 - validation accuracy: 58.87 \n",
      "[4,     1] loss: 1.29013, train_accuracy: 53.32\n",
      "[4,    21] loss: 1.27792, train_accuracy: 54.98\n",
      "[4,    41] loss: 1.36206, train_accuracy: 52.64\n",
      "[4,    61] loss: 1.22849, train_accuracy: 56.64\n",
      "[4,    81] loss: 1.18603, train_accuracy: 55.96\n",
      "duration: 2569 s - train loss: 1.28081 - train accuracy: 54.61 - validation loss: 1.17 - validation accuracy: 58.71 \n",
      "[5,     1] loss: 1.28384, train_accuracy: 56.45\n",
      "[5,    21] loss: 1.26434, train_accuracy: 55.76\n",
      "[5,    41] loss: 1.32903, train_accuracy: 54.30\n",
      "[5,    61] loss: 1.29442, train_accuracy: 54.49\n",
      "[5,    81] loss: 1.24081, train_accuracy: 54.30\n",
      "duration: 2569 s - train loss: 1.28214 - train accuracy: 54.73 - validation loss: 1.16 - validation accuracy: 59.11 \n",
      "Finished Training\n"
     ]
    }
   ],
   "source": [
    "train_specs = model.fit_adv(train_loader, train_loader, 5, device, 16/255, attack='PGD')"
   ]
  },
  {
   "cell_type": "code",
   "execution_count": 8,
   "metadata": {},
   "outputs": [
    {
     "data": {
      "text/plain": [
       "(71.41, 0.0)"
      ]
     },
     "execution_count": 8,
     "metadata": {},
     "output_type": "execute_result"
    }
   ],
   "source": [
    "evaluate_clean_accuracy(model, test_loader, device)"
   ]
  },
  {
   "cell_type": "code",
   "execution_count": 9,
   "metadata": {
    "scrolled": true
   },
   "outputs": [
    {
     "data": {
      "text/plain": [
       "53.38"
      ]
     },
     "execution_count": 9,
     "metadata": {},
     "output_type": "execute_result"
    }
   ],
   "source": [
    "evaluate_rob_accuracy(model, test_loader, device, epsilon=16/255, attack='FGSM')"
   ]
  },
  {
   "cell_type": "code",
   "execution_count": 10,
   "metadata": {
    "scrolled": true
   },
   "outputs": [
    {
     "data": {
      "text/plain": [
       "'./saved-models/CIFAR-clean-150e-adv-5e.pth'"
      ]
     },
     "execution_count": 10,
     "metadata": {},
     "output_type": "execute_result"
    }
   ],
   "source": [
    "PATH = './saved-models/CIFAR-clean-150e-adv-5e.pth'\n",
    "safe_model(\n",
    "    PATH, \n",
    "    model, \n",
    "    train_specs['optimizer'], \n",
    "    description='adv training with pgd and eps=16/255 for 5 epoch', \n",
    "    epoch=155)"
   ]
  },
  {
   "cell_type": "markdown",
   "metadata": {},
   "source": [
    "# After 10 epochs of adversarial training"
   ]
  },
  {
   "cell_type": "code",
   "execution_count": 11,
   "metadata": {},
   "outputs": [
    {
     "name": "stdout",
     "output_type": "stream",
     "text": [
      "[1,     1] loss: 1.30868, train_accuracy: 55.08\n",
      "[1,    21] loss: 1.27957, train_accuracy: 57.91\n",
      "[1,    41] loss: 1.24230, train_accuracy: 57.71\n",
      "[1,    61] loss: 1.30919, train_accuracy: 54.10\n",
      "[1,    81] loss: 1.22572, train_accuracy: 55.66\n",
      "duration: 2956 s - train loss: 1.27886 - train accuracy: 54.77 - validation loss: 1.17 - validation accuracy: 59.13 \n",
      "[2,     1] loss: 1.30269, train_accuracy: 55.86\n",
      "[2,    21] loss: 1.32282, train_accuracy: 54.00\n",
      "[2,    41] loss: 1.25334, train_accuracy: 56.54\n",
      "[2,    61] loss: 1.33375, train_accuracy: 52.54\n",
      "[2,    81] loss: 1.20439, train_accuracy: 56.45\n",
      "duration: 2906 s - train loss: 1.27294 - train accuracy: 55.12 - validation loss: 1.18 - validation accuracy: 58.67 \n",
      "[3,     1] loss: 1.30653, train_accuracy: 52.64\n",
      "[3,    21] loss: 1.33507, train_accuracy: 50.78\n",
      "[3,    41] loss: 1.27715, train_accuracy: 55.08\n",
      "[3,    61] loss: 1.31228, train_accuracy: 53.22\n",
      "[3,    81] loss: 1.30228, train_accuracy: 54.00\n",
      "duration: 2808 s - train loss: 1.27001 - train accuracy: 55.02 - validation loss: 1.16 - validation accuracy: 58.95 \n",
      "[4,     1] loss: 1.20234, train_accuracy: 57.91\n",
      "[4,    21] loss: 1.20510, train_accuracy: 57.42\n",
      "[4,    41] loss: 1.31565, train_accuracy: 53.03\n",
      "[4,    61] loss: 1.22196, train_accuracy: 56.15\n",
      "[4,    81] loss: 1.24655, train_accuracy: 56.05\n",
      "duration: 3691 s - train loss: 1.26238 - train accuracy: 55.46 - validation loss: 1.17 - validation accuracy: 59.04 \n",
      "[5,     1] loss: 1.21605, train_accuracy: 57.23\n",
      "[5,    21] loss: 1.36349, train_accuracy: 51.95\n",
      "[5,    41] loss: 1.28931, train_accuracy: 54.30\n",
      "[5,    61] loss: 1.22650, train_accuracy: 55.66\n",
      "[5,    81] loss: 1.23371, train_accuracy: 56.15\n",
      "duration: 3146 s - train loss: 1.26328 - train accuracy: 55.32 - validation loss: 1.16 - validation accuracy: 59.25 \n",
      "Finished Training\n"
     ]
    }
   ],
   "source": [
    "train_specs = model.fit_adv(train_loader, train_loader, 5, device, 16/255, attack='PGD')"
   ]
  },
  {
   "cell_type": "code",
   "execution_count": 12,
   "metadata": {},
   "outputs": [
    {
     "data": {
      "text/plain": [
       "(71.63, 0.0)"
      ]
     },
     "execution_count": 12,
     "metadata": {},
     "output_type": "execute_result"
    }
   ],
   "source": [
    "evaluate_clean_accuracy(model, test_loader, device)"
   ]
  },
  {
   "cell_type": "code",
   "execution_count": 13,
   "metadata": {},
   "outputs": [
    {
     "data": {
      "text/plain": [
       "54.82"
      ]
     },
     "execution_count": 13,
     "metadata": {},
     "output_type": "execute_result"
    }
   ],
   "source": [
    "evaluate_rob_accuracy(model, test_loader, device, epsilon=16/255, attack='FGSM')"
   ]
  },
  {
   "cell_type": "code",
   "execution_count": 10,
   "metadata": {
    "scrolled": true
   },
   "outputs": [
    {
     "data": {
      "text/plain": [
       "'./saved-models/CIFAR-clean-150e-adv-5e.pth'"
      ]
     },
     "execution_count": 10,
     "metadata": {},
     "output_type": "execute_result"
    }
   ],
   "source": [
    "PATH = './saved-models/CIFAR-clean-150e-adv-10e.pth'\n",
    "safe_model(\n",
    "    PATH, \n",
    "    model, \n",
    "    train_specs['optimizer'], \n",
    "    description='adv training with pgd and eps=16/255 for 10 epoch', \n",
    "    epoch=160)"
   ]
  },
  {
   "cell_type": "markdown",
   "metadata": {},
   "source": [
    "# After 40 epochs of adversarial training"
   ]
  },
  {
   "cell_type": "code",
   "execution_count": null,
   "metadata": {},
   "outputs": [],
   "source": []
  },
  {
   "cell_type": "code",
   "execution_count": null,
   "metadata": {
    "scrolled": true
   },
   "outputs": [],
   "source": [
    "train_specs = model.fit(train_loader, test_loader, 50, device)"
   ]
  },
  {
   "cell_type": "code",
   "execution_count": 24,
   "metadata": {},
   "outputs": [
    {
     "data": {
      "text/plain": [
       "'./saved-models/CIFAR-baseline-150-epochs.pth'"
      ]
     },
     "execution_count": 24,
     "metadata": {},
     "output_type": "execute_result"
    }
   ],
   "source": [
    "PATH = './saved-models/CIFAR-baseline-150-epochs.pth'\n",
    "safe_model(\n",
    "    PATH, \n",
    "    model, \n",
    "    train_specs['optimizer'], \n",
    "    description='Baseline Model trained for 150 epochs', \n",
    "    epoch=100)"
   ]
  },
  {
   "cell_type": "code",
   "execution_count": null,
   "metadata": {},
   "outputs": [],
   "source": []
  },
  {
   "cell_type": "code",
   "execution_count": null,
   "metadata": {},
   "outputs": [],
   "source": [
    "PATH = './saved-models/CIFAR-baseline-pgd-adv.pth'\n",
    "safe_model(\n",
    "    PATH, \n",
    "    model, \n",
    "    train_specs['optimizer'], \n",
    "    description='Trained the baseline model for 20 more epochs with pgd, eps=16/255)', \n",
    "    epoch=120)"
   ]
  },
  {
   "cell_type": "code",
   "execution_count": null,
   "metadata": {
    "scrolled": true
   },
   "outputs": [],
   "source": [
    "\n",
    "evaluate_rob_accuracy(model, test_loader, device, 16/255, attack='FGSM')"
   ]
  },
  {
   "cell_type": "code",
   "execution_count": null,
   "metadata": {
    "scrolled": true
   },
   "outputs": [],
   "source": [
    "\n",
    "evaluate_rob_accuracy(model, test_loader, device, 16/255, attack='FGSM')"
   ]
  },
  {
   "cell_type": "code",
   "execution_count": null,
   "metadata": {},
   "outputs": [],
   "source": []
  },
  {
   "cell_type": "code",
   "execution_count": null,
   "metadata": {},
   "outputs": [],
   "source": []
  },
  {
   "cell_type": "code",
   "execution_count": null,
   "metadata": {},
   "outputs": [],
   "source": []
  },
  {
   "cell_type": "code",
   "execution_count": null,
   "metadata": {},
   "outputs": [],
   "source": []
  },
  {
   "cell_type": "code",
   "execution_count": null,
   "metadata": {},
   "outputs": [],
   "source": []
  },
  {
   "cell_type": "code",
   "execution_count": null,
   "metadata": {},
   "outputs": [],
   "source": []
  },
  {
   "cell_type": "code",
   "execution_count": 18,
   "metadata": {},
   "outputs": [],
   "source": []
  },
  {
   "cell_type": "code",
   "execution_count": null,
   "metadata": {},
   "outputs": [],
   "source": []
  },
  {
   "cell_type": "code",
   "execution_count": 3,
   "metadata": {},
   "outputs": [],
   "source": []
  },
  {
   "cell_type": "code",
   "execution_count": 5,
   "metadata": {},
   "outputs": [],
   "source": []
  },
  {
   "cell_type": "code",
   "execution_count": null,
   "metadata": {},
   "outputs": [],
   "source": []
  },
  {
   "cell_type": "code",
   "execution_count": null,
   "metadata": {},
   "outputs": [],
   "source": []
  },
  {
   "cell_type": "code",
   "execution_count": null,
   "metadata": {},
   "outputs": [],
   "source": []
  },
  {
   "cell_type": "code",
   "execution_count": null,
   "metadata": {},
   "outputs": [],
   "source": []
  },
  {
   "cell_type": "code",
   "execution_count": null,
   "metadata": {},
   "outputs": [],
   "source": []
  }
 ],
 "metadata": {
  "kernelspec": {
   "display_name": "Python 3",
   "language": "python",
   "name": "python3"
  },
  "language_info": {
   "codemirror_mode": {
    "name": "ipython",
    "version": 3
   },
   "file_extension": ".py",
   "mimetype": "text/x-python",
   "name": "python",
   "nbconvert_exporter": "python",
   "pygments_lexer": "ipython3",
   "version": "3.8.3"
  }
 },
 "nbformat": 4,
 "nbformat_minor": 4
}
