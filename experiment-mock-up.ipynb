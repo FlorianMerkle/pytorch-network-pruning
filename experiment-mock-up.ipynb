{
 "cells": [
  {
   "cell_type": "code",
   "execution_count": 1,
   "metadata": {},
   "outputs": [
    {
     "name": "stdout",
     "output_type": "stream",
     "text": [
      "cuda:0\n"
     ]
    }
   ],
   "source": [
    "import torch\n",
    "import torch.nn as nn\n",
    "import torch.nn.functional as F\n",
    "import torchvision\n",
    "import torch.optim as optim\n",
    "from torchvision import transforms, datasets\n",
    "\n",
    "\n",
    "from src.models import CifarResNet, MNIST_CNN, CIFAR_CNN\n",
    "from src.helpers import evaluate_rob_accuracy, evaluate_clean_accuracy, load_model, safe_model,_evaluate_model\n",
    "from src.data_loader import load_torchvision_dataset, load_imagenette\n",
    "import subprocess\n",
    "\n",
    "\n",
    "import time\n",
    "\n",
    "if torch.cuda.is_available() == True:\n",
    "    device = torch.device(\"cuda:0\")\n",
    "else:\n",
    "    device = torch.device(\"cpu\")\n",
    "print(device)\n",
    "dtype = torch.float32"
   ]
  },
  {
   "cell_type": "markdown",
   "metadata": {},
   "source": [
    "# Unpruned"
   ]
  },
  {
   "cell_type": "code",
   "execution_count": 2,
   "metadata": {
    "scrolled": false
   },
   "outputs": [
    {
     "ename": "NameError",
     "evalue": "name 'get_loaders' is not defined",
     "output_type": "error",
     "traceback": [
      "\u001b[0;31m---------------------------------------------------------------------------\u001b[0m",
      "\u001b[0;31mNameError\u001b[0m                                 Traceback (most recent call last)",
      "\u001b[0;32m/tmp/ipykernel_1691155/2822486892.py\u001b[0m in \u001b[0;36m<module>\u001b[0;34m\u001b[0m\n\u001b[1;32m      1\u001b[0m \u001b[0;31m#train_loader, test_loader = load_torchvision_dataset('CIFAR10', data_augmentation=True, batchsize=128)\u001b[0m\u001b[0;34m\u001b[0m\u001b[0;34m\u001b[0m\u001b[0m\n\u001b[0;32m----> 2\u001b[0;31m \u001b[0mtrain_loader\u001b[0m\u001b[0;34m,\u001b[0m \u001b[0mtest_loader\u001b[0m \u001b[0;34m=\u001b[0m \u001b[0mget_loaders\u001b[0m\u001b[0;34m(\u001b[0m\u001b[0;36m128\u001b[0m\u001b[0;34m)\u001b[0m\u001b[0;34m\u001b[0m\u001b[0;34m\u001b[0m\u001b[0m\n\u001b[0m\u001b[1;32m      3\u001b[0m \u001b[0mmodel\u001b[0m \u001b[0;34m=\u001b[0m \u001b[0mCifarResNet\u001b[0m\u001b[0;34m(\u001b[0m\u001b[0;34m)\u001b[0m\u001b[0;34m\u001b[0m\u001b[0;34m\u001b[0m\u001b[0m\n\u001b[1;32m      4\u001b[0m \u001b[0mmodel\u001b[0m\u001b[0;34m.\u001b[0m\u001b[0mto\u001b[0m\u001b[0;34m(\u001b[0m\u001b[0mdevice\u001b[0m\u001b[0;34m)\u001b[0m\u001b[0;34m\u001b[0m\u001b[0;34m\u001b[0m\u001b[0m\n\u001b[1;32m      5\u001b[0m \u001b[0;31m#model.prune_magnitude_global_unstruct(.0, device)\u001b[0m\u001b[0;34m\u001b[0m\u001b[0;34m\u001b[0m\u001b[0m\n",
      "\u001b[0;31mNameError\u001b[0m: name 'get_loaders' is not defined"
     ]
    }
   ],
   "source": [
    "#train_loader, test_loader = load_torchvision_dataset('CIFAR10', data_augmentation=True, batchsize=128)\n",
    "train_loader, test_loader = get_loaders(128)\n",
    "model = CifarResNet()\n",
    "model.to(device)\n",
    "#model.prune_magnitude_global_unstruct(.0, device)\n",
    "#hist = model.fit_fast_locuslab(train_loader, test_loader , 15, device, eps=8,patience=None, evaluate_robustness=False)\n",
    "masks = list(filter(lambda x: 'mask' in x,list(model.state_dict().keys())))\n",
    "for mask in masks:\n",
    "    print(len(torch.nonzero(model.state_dict()[mask]))/torch.prod(torch.tensor(model.state_dict()[mask].shape)))\n",
    "train_locus(model, train_loader, test_loader)"
   ]
  },
  {
   "cell_type": "code",
   "execution_count": null,
   "metadata": {},
   "outputs": [],
   "source": [
    "evaluate_standard(test_loader, model)"
   ]
  },
  {
   "cell_type": "code",
   "execution_count": null,
   "metadata": {},
   "outputs": [],
   "source": [
    "evaluate_pgd(test_loader, model, 30, 3)"
   ]
  },
  {
   "cell_type": "markdown",
   "metadata": {},
   "source": [
    "# Pruned - 0.2"
   ]
  },
  {
   "cell_type": "code",
   "execution_count": null,
   "metadata": {
    "scrolled": true
   },
   "outputs": [],
   "source": [
    "#train_loader, test_loader = load_torchvision_dataset('CIFAR10', data_augmentation=True, batchsize=128)\n",
    "train_loader, test_loader = get_loaders(128)\n",
    "model = CifarResNet()\n",
    "model.to(device)\n",
    "model.prune_magnitude_global_unstruct(.2, device)\n",
    "masks = list(filter(lambda x: 'mask' in x,list(model.state_dict().keys())))\n",
    "for mask in masks:\n",
    "    print(len(torch.nonzero(model.state_dict()[mask]))/torch.prod(torch.tensor(model.state_dict()[mask].shape)))\n",
    "#hist = model.fit_fast_locuslab(train_loader, test_loader , 15, device, eps=8,patience=None, evaluate_robustness=False)\n",
    "train_locus(model)\n",
    "masks = list(filter(lambda x: 'weights' in x,list(model.state_dict().keys())))\n",
    "for mask in masks:\n",
    "    print(len(torch.nonzero(model.state_dict()[mask]))/torch.prod(torch.tensor(model.state_dict()[mask].shape)))"
   ]
  },
  {
   "cell_type": "code",
   "execution_count": null,
   "metadata": {},
   "outputs": [],
   "source": [
    "evaluate_standard(test_loader, model)"
   ]
  },
  {
   "cell_type": "code",
   "execution_count": null,
   "metadata": {},
   "outputs": [],
   "source": [
    "evaluate_pgd(test_loader, model, 30, 3)"
   ]
  },
  {
   "cell_type": "markdown",
   "metadata": {},
   "source": [
    "# Pruned - 0.4"
   ]
  },
  {
   "cell_type": "code",
   "execution_count": null,
   "metadata": {},
   "outputs": [],
   "source": [
    "#train_loader, test_loader = load_torchvision_dataset('CIFAR10', data_augmentation=True, batchsize=128)\n",
    "train_loader, test_loader = get_loaders(128)\n",
    "model = CifarResNet()\n",
    "model.to(device)\n",
    "model.prune_magnitude_global_unstruct(.4, device)\n",
    "masks = list(filter(lambda x: 'weights' in x,list(model.state_dict().keys())))\n",
    "for mask in masks:\n",
    "    print(len(torch.nonzero(model.state_dict()[mask]))/torch.prod(torch.tensor(model.state_dict()[mask].shape)))\n",
    "#hist = model.fit_fast_locuslab(train_loader, test_loader , 15, device, eps=8,patience=None, evaluate_robustness=False)\n",
    "train_locus(model)\n",
    "masks = list(filter(lambda x: 'weights' in x,list(model.state_dict().keys())))\n",
    "for mask in masks:\n",
    "    print(len(torch.nonzero(model.state_dict()[mask]))/torch.prod(torch.tensor(model.state_dict()[mask].shape)))"
   ]
  },
  {
   "cell_type": "code",
   "execution_count": null,
   "metadata": {},
   "outputs": [],
   "source": [
    "evaluate_standard(test_loader, model)"
   ]
  },
  {
   "cell_type": "code",
   "execution_count": null,
   "metadata": {},
   "outputs": [],
   "source": [
    "evaluate_pgd(test_loader, model, 30, 3)"
   ]
  },
  {
   "cell_type": "markdown",
   "metadata": {},
   "source": [
    "# Pruned - 0.6"
   ]
  },
  {
   "cell_type": "code",
   "execution_count": null,
   "metadata": {},
   "outputs": [],
   "source": [
    "#train_loader, test_loader = load_torchvision_dataset('CIFAR10', data_augmentation=True, batchsize=128)\n",
    "train_loader, test_loader = get_loaders(128)\n",
    "model = CifarResNet()\n",
    "model.to(device)\n",
    "\n",
    "model.prune_magnitude_global_unstruct(.6, device)\n",
    "masks = list(filter(lambda x: 'weights' in x,list(model.state_dict().keys())))\n",
    "for mask in masks:\n",
    "    print(len(torch.nonzero(model.state_dict()[mask]))/torch.prod(torch.tensor(model.state_dict()[mask].shape)))\n",
    "#hist = model.fit_fast_locuslab(train_loader, test_loader , 15, device, eps=8,patience=None, evaluate_robustness=False)\n",
    "train_locus(model)\n",
    "masks = list(filter(lambda x: 'weights' in x,list(model.state_dict().keys())))\n",
    "for mask in masks:\n",
    "    print(len(torch.nonzero(model.state_dict()[mask]))/torch.prod(torch.tensor(model.state_dict()[mask].shape)))"
   ]
  },
  {
   "cell_type": "code",
   "execution_count": null,
   "metadata": {},
   "outputs": [],
   "source": [
    "evaluate_standard(test_loader, model)"
   ]
  },
  {
   "cell_type": "code",
   "execution_count": null,
   "metadata": {},
   "outputs": [],
   "source": [
    "evaluate_pgd(test_loader, model, 30, 3)"
   ]
  },
  {
   "cell_type": "markdown",
   "metadata": {},
   "source": [
    "# Pruned - 0.8"
   ]
  },
  {
   "cell_type": "code",
   "execution_count": null,
   "metadata": {},
   "outputs": [],
   "source": [
    "#train_loader, test_loader = load_torchvision_dataset('CIFAR10', data_augmentation=True, batchsize=128)\n",
    "train_loader, test_loader = get_loaders(128)\n",
    "model = CifarResNet()\n",
    "model.to(device)\n",
    "\n",
    "model.prune_magnitude_global_unstruct(.8, device)\n",
    "masks = list(filter(lambda x: 'weights' in x,list(model.state_dict().keys())))\n",
    "for mask in masks:\n",
    "    print(len(torch.nonzero(model.state_dict()[mask]))/torch.prod(torch.tensor(model.state_dict()[mask].shape)))\n",
    "#hist = model.fit_fast_locuslab(train_loader, test_loader , 15, device, eps=8,patience=None, evaluate_robustness=False)\n",
    "train_locus(model)\n",
    "masks = list(filter(lambda x: 'weights' in x,list(model.state_dict().keys())))\n",
    "for mask in masks:\n",
    "    print(len(torch.nonzero(model.state_dict()[mask]))/torch.prod(torch.tensor(model.state_dict()[mask].shape)))"
   ]
  },
  {
   "cell_type": "code",
   "execution_count": null,
   "metadata": {},
   "outputs": [],
   "source": [
    "evaluate_standard(test_loader, model)"
   ]
  },
  {
   "cell_type": "code",
   "execution_count": null,
   "metadata": {},
   "outputs": [],
   "source": [
    "evaluate_pgd(test_loader, model, 30, 3)"
   ]
  },
  {
   "cell_type": "markdown",
   "metadata": {},
   "source": [
    "# Pruned - 0.9"
   ]
  },
  {
   "cell_type": "code",
   "execution_count": null,
   "metadata": {},
   "outputs": [],
   "source": [
    "#train_loader, test_loader = load_torchvision_dataset('CIFAR10', data_augmentation=True, batchsize=128)\n",
    "train_loader, test_loader = get_loaders(128)\n",
    "model = CifarResNet()\n",
    "model.to(device)\n",
    "\n",
    "model.prune_magnitude_global_unstruct(.9, device)\n",
    "masks = list(filter(lambda x: 'weights' in x,list(model.state_dict().keys())))\n",
    "for mask in masks:\n",
    "    print(len(torch.nonzero(model.state_dict()[mask]))/torch.prod(torch.tensor(model.state_dict()[mask].shape)))\n",
    "#hist = model.fit_fast_locuslab(train_loader, test_loader , 15, device, eps=8,patience=None, evaluate_robustness=False)\n",
    "train_locus(model)\n",
    "masks = list(filter(lambda x: 'weights' in x,list(model.state_dict().keys())))\n",
    "for mask in masks:\n",
    "    print(len(torch.nonzero(model.state_dict()[mask]))/torch.prod(torch.tensor(model.state_dict()[mask].shape)))"
   ]
  },
  {
   "cell_type": "code",
   "execution_count": null,
   "metadata": {},
   "outputs": [],
   "source": [
    "evaluate_standard(test_loader, model)"
   ]
  },
  {
   "cell_type": "code",
   "execution_count": null,
   "metadata": {},
   "outputs": [],
   "source": [
    "evaluate_pgd(test_loader, model, 30, 3)"
   ]
  },
  {
   "cell_type": "markdown",
   "metadata": {},
   "source": [
    "# Pruned - 0.95"
   ]
  },
  {
   "cell_type": "code",
   "execution_count": null,
   "metadata": {},
   "outputs": [],
   "source": [
    "#train_loader, test_loader = load_torchvision_dataset('CIFAR10', data_augmentation=True, batchsize=128)\n",
    "train_loader, test_loader = get_loaders(128)\n",
    "model = CifarResNet()\n",
    "model.to(device)\n",
    "\n",
    "model.prune_magnitude_global_unstruct(.95, device)\n",
    "masks = list(filter(lambda x: 'weights' in x,list(model.state_dict().keys())))\n",
    "for mask in masks:\n",
    "    print(len(torch.nonzero(model.state_dict()[mask]))/torch.prod(torch.tensor(model.state_dict()[mask].shape)))\n",
    "#hist = model.fit_fast_locuslab(train_loader, test_loader , 15, device, eps=8,patience=None, evaluate_robustness=False)\n",
    "train_locus(model)\n",
    "masks = list(filter(lambda x: 'weights' in x,list(model.state_dict().keys())))\n",
    "for mask in masks:\n",
    "    print(len(torch.nonzero(model.state_dict()[mask]))/torch.prod(torch.tensor(model.state_dict()[mask].shape)))"
   ]
  },
  {
   "cell_type": "code",
   "execution_count": null,
   "metadata": {},
   "outputs": [],
   "source": [
    "evaluate_standard(test_loader, model)"
   ]
  },
  {
   "cell_type": "code",
   "execution_count": null,
   "metadata": {},
   "outputs": [],
   "source": [
    "evaluate_pgd(test_loader, model, 30, 3)"
   ]
  },
  {
   "cell_type": "markdown",
   "metadata": {},
   "source": [
    "# Pruned - 0.98"
   ]
  },
  {
   "cell_type": "code",
   "execution_count": null,
   "metadata": {},
   "outputs": [],
   "source": [
    "#train_loader, test_loader = load_torchvision_dataset('CIFAR10', data_augmentation=True, batchsize=128)\n",
    "train_loader, test_loader = get_loaders(128)\n",
    "model = CifarResNet()\n",
    "model.to(device)\n",
    "masks = list(filter(lambda x: 'weights' in x,list(model.state_dict().keys())))\n",
    "for mask in masks:\n",
    "    print(len(torch.nonzero(model.state_dict()[mask]))/torch.prod(torch.tensor(model.state_dict()[mask].shape)))\n",
    "model.prune_magnitude_global_unstruct(.98, device)\n",
    "masks = list(filter(lambda x: 'weights' in x,list(model.state_dict().keys())))\n",
    "for mask in masks:\n",
    "    print(len(torch.nonzero(model.state_dict()[mask]))/torch.prod(torch.tensor(model.state_dict()[mask].shape)))\n",
    "#hist = model.fit_fast_locuslab(train_loader, test_loader , 15, device, eps=8,patience=None, evaluate_robustness=False)\n",
    "train_locus(model)\n",
    "masks = list(filter(lambda x: 'weights' in x,list(model.state_dict().keys())))\n",
    "for mask in masks:\n",
    "    print(len(torch.nonzero(model.state_dict()[mask]))/torch.prod(torch.tensor(model.state_dict()[mask].shape)))"
   ]
  },
  {
   "cell_type": "code",
   "execution_count": null,
   "metadata": {},
   "outputs": [],
   "source": [
    "evaluate_standard(test_loader, model)"
   ]
  },
  {
   "cell_type": "code",
   "execution_count": null,
   "metadata": {},
   "outputs": [],
   "source": [
    "evaluate_pgd(test_loader, model, 30, 3)"
   ]
  },
  {
   "cell_type": "code",
   "execution_count": null,
   "metadata": {},
   "outputs": [],
   "source": []
  },
  {
   "cell_type": "code",
   "execution_count": null,
   "metadata": {},
   "outputs": [],
   "source": []
  },
  {
   "cell_type": "code",
   "execution_count": null,
   "metadata": {},
   "outputs": [],
   "source": []
  },
  {
   "cell_type": "code",
   "execution_count": null,
   "metadata": {},
   "outputs": [],
   "source": []
  },
  {
   "cell_type": "code",
   "execution_count": null,
   "metadata": {},
   "outputs": [],
   "source": []
  },
  {
   "cell_type": "code",
   "execution_count": null,
   "metadata": {
    "scrolled": true
   },
   "outputs": [],
   "source": [
    "train_loader, test_loader = get_loaders(128)\n",
    "model = CifarResNet()\n",
    "model.to(device)\n",
    "model.fit_fast_new(train_loader, test_loader,device, pruning_ratio=0.2, pruning_steps=14)"
   ]
  },
  {
   "cell_type": "code",
   "execution_count": null,
   "metadata": {},
   "outputs": [],
   "source": []
  },
  {
   "cell_type": "markdown",
   "metadata": {},
   "source": [
    "### Standard"
   ]
  },
  {
   "cell_type": "code",
   "execution_count": null,
   "metadata": {},
   "outputs": [],
   "source": [
    "evaluate_standard(test_loader, model)"
   ]
  },
  {
   "cell_type": "code",
   "execution_count": null,
   "metadata": {
    "scrolled": true
   },
   "outputs": [],
   "source": [
    "evaluate_pgd(test_loader, model,30, 5)"
   ]
  },
  {
   "cell_type": "markdown",
   "metadata": {},
   "source": [
    "### 7 steps, 0.4"
   ]
  },
  {
   "cell_type": "code",
   "execution_count": null,
   "metadata": {},
   "outputs": [],
   "source": [
    "evaluate_standard(test_loader, model)"
   ]
  },
  {
   "cell_type": "code",
   "execution_count": null,
   "metadata": {
    "scrolled": true
   },
   "outputs": [],
   "source": [
    "evaluate_pgd(test_loader, model, 30, 3)"
   ]
  },
  {
   "cell_type": "markdown",
   "metadata": {},
   "source": [
    "### 14 steps, 0.8"
   ]
  },
  {
   "cell_type": "code",
   "execution_count": null,
   "metadata": {},
   "outputs": [],
   "source": [
    "evaluate_standard(test_loader, model)"
   ]
  },
  {
   "cell_type": "code",
   "execution_count": null,
   "metadata": {
    "scrolled": true
   },
   "outputs": [],
   "source": [
    "evaluate_pgd(test_loader, model, 30, 3)"
   ]
  },
  {
   "cell_type": "markdown",
   "metadata": {},
   "source": [
    "### 2 steps, 0.2"
   ]
  },
  {
   "cell_type": "code",
   "execution_count": null,
   "metadata": {},
   "outputs": [],
   "source": [
    "evaluate_standard(test_loader, model)"
   ]
  },
  {
   "cell_type": "code",
   "execution_count": null,
   "metadata": {
    "scrolled": true
   },
   "outputs": [],
   "source": [
    "evaluate_pgd(test_loader, model, 30, 3)"
   ]
  },
  {
   "cell_type": "code",
   "execution_count": null,
   "metadata": {},
   "outputs": [],
   "source": []
  },
  {
   "cell_type": "code",
   "execution_count": null,
   "metadata": {},
   "outputs": [],
   "source": []
  },
  {
   "cell_type": "code",
   "execution_count": null,
   "metadata": {},
   "outputs": [],
   "source": []
  },
  {
   "cell_type": "code",
   "execution_count": null,
   "metadata": {},
   "outputs": [],
   "source": []
  },
  {
   "cell_type": "code",
   "execution_count": null,
   "metadata": {},
   "outputs": [],
   "source": []
  },
  {
   "cell_type": "code",
   "execution_count": null,
   "metadata": {},
   "outputs": [],
   "source": []
  },
  {
   "cell_type": "code",
   "execution_count": null,
   "metadata": {},
   "outputs": [],
   "source": []
  },
  {
   "cell_type": "code",
   "execution_count": null,
   "metadata": {},
   "outputs": [],
   "source": []
  },
  {
   "cell_type": "code",
   "execution_count": null,
   "metadata": {},
   "outputs": [],
   "source": []
  },
  {
   "cell_type": "code",
   "execution_count": null,
   "metadata": {},
   "outputs": [],
   "source": [
    "print (\"Pre Start GPU MEMORY: %s\" % get_gpu_memory_map())\n",
    "ARCHITECTURE = 'PreActResNet18'\n",
    "TRAINING_METHOD = 'fast'\n",
    "PRUNING_METHOD = 'unstructured_global_magnitude'\n",
    "ratios = [1,2,4,8,16,32,64]\n",
    "train_loader, test_loader = load_torchvision_dataset('CIFAR10', data_augmentation=False, batchsize=128)\n",
    "EPOCHS = 50\n",
    "model = CifarResNet()\n",
    "model.to(device)\n",
    "stats = []\n",
    "#PATH = './experiment-models/unstructured_global_magnitude-fast-1-99.pt'\n",
    "#checkpoint = torch.load(PATH)\n",
    "#model.load_state_dict(checkpoint['model_state_dict'])\n",
    "    \n",
    "for ratio in ratios:\n",
    "    torch.cuda.empty_cache()\n",
    "    rate = 1-1/ratio\n",
    "    model.prune_magnitude_global_unstruct(rate, device)\n",
    "    model.train()\n",
    "    hist = model.fit_fast_locuslab(train_loader, test_loader , 15, device, eps=8,patience=None, evaluate_robustness=False)\n",
    "    model.eval()\n",
    "    clean_acc = evaluate_standard(test_loader, model)[1]\n",
    "    rob_acc = evaluate_pgd(test_loader, model, 30, 3)[1]\n",
    "    state_dict = model.state_dict()\n",
    "    stats.append(\n",
    "        {\n",
    "            'ratio': ratio,\n",
    "            'clean accuracy': clean_acc,\n",
    "            'robust accuracy':rob_acc,\n",
    "            'history': hist,\n",
    "        }\n",
    "        \n",
    "    )\n",
    "    "
   ]
  },
  {
   "cell_type": "code",
   "execution_count": null,
   "metadata": {},
   "outputs": [],
   "source": []
  },
  {
   "cell_type": "code",
   "execution_count": null,
   "metadata": {},
   "outputs": [],
   "source": []
  },
  {
   "cell_type": "code",
   "execution_count": null,
   "metadata": {},
   "outputs": [],
   "source": []
  },
  {
   "cell_type": "code",
   "execution_count": null,
   "metadata": {},
   "outputs": [],
   "source": []
  },
  {
   "cell_type": "code",
   "execution_count": null,
   "metadata": {},
   "outputs": [],
   "source": [
    "for i,stat in enumerate(stats):\n",
    "    print(i, stat['ratio'], stat['clean accuracy'], stat['robust accuracy'])\n",
    "    "
   ]
  },
  {
   "cell_type": "code",
   "execution_count": null,
   "metadata": {},
   "outputs": [],
   "source": [
    "for j, stat in enumerate(stats):\n",
    "    print(stat['ratio'], stat['clean accuracy'], stat['robust accuracy'])\n",
    "    for i,epoch_stats in enumerate(stat['history']):\n",
    "        #print(epoch_stats)\n",
    "        print(i, epoch_stats['robust accuracy'], epoch_stats['clean accuracy'])"
   ]
  },
  {
   "cell_type": "code",
   "execution_count": null,
   "metadata": {},
   "outputs": [],
   "source": [
    "for j, stat in enumerate(stats):\n",
    "    print(stat['ratio'], stat['clean accuracy'], stat['robust accuracy'])\n",
    "    for i,epoch_stats in enumerate(stat['history']):\n",
    "        model.load_state_dict(epoch_stats['state dict'])\n",
    "        print(i, evaluate_standard(test_loader, model))\n",
    "        print(i, evaluate_pgd(test_loader, model,20,1))"
   ]
  },
  {
   "cell_type": "code",
   "execution_count": null,
   "metadata": {},
   "outputs": [],
   "source": []
  },
  {
   "cell_type": "code",
   "execution_count": null,
   "metadata": {
    "scrolled": true
   },
   "outputs": [],
   "source": [
    "for i, hist in enumerate(stats[0]['history']):\n",
    "    print(i, hist['clean accuracy'])\n",
    "    model.load_state_dict(hist['state dict'])\n",
    "    #print(evaluate_pgd(test_loader, model, 10,2))\n",
    "    print(evaluate_standard(test_loader, model))"
   ]
  },
  {
   "cell_type": "code",
   "execution_count": null,
   "metadata": {},
   "outputs": [],
   "source": []
  },
  {
   "cell_type": "markdown",
   "metadata": {},
   "source": [
    "# Functions"
   ]
  },
  {
   "cell_type": "code",
   "execution_count": null,
   "metadata": {},
   "outputs": [],
   "source": [
    "import copy\n",
    "epochs = 15\n",
    "\n",
    "epsilon = 8\n",
    "alpha = 10\n",
    "std = torch.tensor((1,1,1)).view(3,1,1).cuda()\n",
    "pgd_alpha = (2 / 255.) / std\n",
    "lr_min = 0.\n",
    "lr_max = 0.2\n",
    "momentum = .9\n",
    "weight_decay = 5e-4\n",
    "lower_limit = torch.tensor((0,0,0)).view(3,1,1).cuda()\n",
    "upper_limit = torch.tensor((1,1,1)).view(3,1,1).cuda()\n",
    "\n",
    "def train_locus(model, train_loader, test_loader, pruning_ratio=0, pruning_steps=1, epochs = 20, epsilon = 8, alpha = 10, pgd_alpha = 2, lr_min = 0.,lr_max = 0.2, momentum = .9, weight_decay = 5e-4):\n",
    "    std = torch.tensor((1,1,1)).view(3,1,1).cuda()\n",
    "    pgd_alpha = (pgd_alpha / 255.) / std\n",
    "    lower_limit = torch.tensor((0,0,0)).view(3,1,1).cuda()\n",
    "    upper_limit = torch.tensor((1,1,1)).view(3,1,1).cuda()\n",
    "    epsilon = (epsilon / 255.) / std\n",
    "    alpha = (alpha / 255.) / std\n",
    "    pgd_alpha = (2 / 255.) / std\n",
    "\n",
    "\n",
    "    model.train()\n",
    "\n",
    "    opt = torch.optim.SGD(model.parameters(), lr=lr_max, momentum=momentum, weight_decay=weight_decay)\n",
    "    #amp_args = dict(opt_level=args.opt_level, loss_scale=args.loss_scale, verbosity=False)\n",
    "    #if args.opt_level == 'O2':\n",
    "    #    amp_args['master_weights'] = args.master_weights\n",
    "    #model, opt = amp.initialize(model, opt, **amp_args)\n",
    "    criterion = nn.CrossEntropyLoss()\n",
    "\n",
    "\n",
    "    lr_steps = epochs * len(train_loader)\n",
    "    scheduler = torch.optim.lr_scheduler.CyclicLR(opt, base_lr=lr_min, max_lr=lr_max, step_size_up=lr_steps / 2, step_size_down=lr_steps / 2)\n",
    "    \n",
    "    pruning_intervals = round(epochs/(pruning_steps + 1))\n",
    "    print(pruning_intervals)\n",
    "    pruning_schedule = [ epoch % pruning_intervals == 0 and epoch / pruning_intervals != 0 for epoch in list(range(epochs))]\n",
    "    print(pruning_schedule)\n",
    "    pruning_step = 1\n",
    "    # Training\n",
    "    prev_robust_acc = 0.\n",
    "    start_train_time = time.time()\n",
    "    #logger.info('Epoch \\t Seconds \\t LR \\t \\t Train Loss \\t Train Acc')\n",
    "    for epoch in range(epochs):\n",
    "        if pruning_schedule[epoch] == True:\n",
    "            pruning_step_ratio = pruning_ratio/pruning_steps*pruning_step\n",
    "            print(pruning_step_ratio)\n",
    "            model.prune_magnitude_global_unstruct(pruning_step_ratio, device)\n",
    "            pruning_step+=1\n",
    "            \n",
    "        print('start epoch:', epoch)\n",
    "        \n",
    "        start_epoch_time = time.time()\n",
    "        train_loss = 0\n",
    "        train_acc = 0\n",
    "        train_n = 0\n",
    "        for i, (X, y) in enumerate(train_loader):\n",
    "            X, y = X.cuda(), y.cuda()\n",
    "            if i == 0:\n",
    "                first_batch = (X, y)\n",
    "            delta = torch.zeros_like(X).cuda()\n",
    "            delta.requires_grad = True\n",
    "            output = model(X + delta[:X.size(0)])\n",
    "            loss = F.cross_entropy(output, y)\n",
    "            #with amp.scale_loss(loss, opt) as scaled_loss:\n",
    "            #    scaled_loss.backward()\n",
    "            loss.backward()\n",
    "            grad = delta.grad.detach()\n",
    "            delta.data = clamp(delta + alpha * torch.sign(grad), -epsilon, epsilon)\n",
    "            #print(type(lower_limit))\n",
    "            #print(type(X))\n",
    "            delta.data[:X.size(0)] = clamp(delta[:X.size(0)], lower_limit - X, upper_limit - X)\n",
    "            delta = delta.detach()\n",
    "            output = model(X + delta[:X.size(0)])\n",
    "            loss = criterion(output, y)\n",
    "            opt.zero_grad()\n",
    "            #with amp.scale_loss(loss, opt) as scaled_loss:\n",
    "            #    scaled_loss.backward()\n",
    "            loss.backward()\n",
    "            opt.step()\n",
    "            train_loss += loss.item() * y.size(0)\n",
    "            train_acc += (output.max(1)[1] == y).sum().item()\n",
    "            train_n += y.size(0)\n",
    "            scheduler.step()\n",
    "        \n",
    "            # Check current PGD robustness of model using random minibatch\n",
    "        X, y = first_batch\n",
    "        pgd_delta = attack_pgd(model, X, y, epsilon, pgd_alpha, 7, 1, opt)\n",
    "        with torch.no_grad():\n",
    "            output = model(clamp(X + pgd_delta[:X.size(0)], lower_limit, upper_limit))\n",
    "        robust_acc = evaluate_pgd(test_loader, model, 7, 1)[1]\n",
    "        print('robustness: ',robust_acc, )\n",
    "        if robust_acc - prev_robust_acc < -0.2:\n",
    "            break\n",
    "        if robust_acc > prev_robust_acc:\n",
    "            prev_robust_acc = robust_acc\n",
    "            best_state_dict = copy.deepcopy(model.state_dict())\n",
    "        epoch_time = time.time()\n",
    "        lr = scheduler.get_last_lr()[0]\n",
    "        #logger.info('%d \\t %.1f \\t \\t %.4f \\t %.4f \\t %.4f', epoch, epoch_time - start_epoch_time, lr, train_loss/train_n, train_acc/train_n)\n",
    "        print(epoch, epoch_time - start_epoch_time, lr, train_loss/train_n, train_acc/train_n)\n",
    "    train_time = time.time()\n",
    "    \n",
    "    #best_state_dict = model.state_dict()\n",
    "    #torch.save(best_state_dict, os.path.join(args.out_dir, 'model.pth'))\n",
    "    #logger.info('Total train time: %.4f minutes', (train_time - start_train_time)/60)\n",
    "\n",
    "    # Evaluation\n",
    "    model_test = CifarResNet().cuda()\n",
    "    model.load_state_dict(best_state_dict)\n",
    "    model.eval()\n",
    "\n",
    "    pgd_loss, pgd_acc = evaluate_pgd(test_loader, model, 30, 3)\n",
    "    test_loss, test_acc = evaluate_standard(test_loader, model)\n",
    "\n",
    "    #logger.info('Test Loss \\t Test Acc \\t PGD Loss \\t PGD Acc')\n",
    "    #logger.info('%.4f \\t \\t %.4f \\t %.4f \\t %.4f', test_loss, test_acc, pgd_loss, pgd_acc)\n",
    "\n",
    "def get_loaders(batch_size):\n",
    "    dir_ = '/home/florian/dev/pytorch-network-pruning/data'\n",
    "    train_transform = transforms.Compose([\n",
    "        transforms.RandomCrop(32, padding=4),\n",
    "        transforms.RandomHorizontalFlip(),\n",
    "        transforms.ToTensor(),\n",
    "        #transforms.Normalize(cifar10_mean, cifar10_std),\n",
    "    ])\n",
    "    test_transform = transforms.Compose([\n",
    "        transforms.ToTensor(),\n",
    "        #transforms.Normalize(cifar10_mean, cifar10_std),\n",
    "    ])\n",
    "    num_workers = 2\n",
    "    train_dataset = datasets.CIFAR10(\n",
    "        dir_, train=True, transform=train_transform, download=True)\n",
    "    test_dataset = datasets.CIFAR10(\n",
    "        dir_, train=False, transform=test_transform, download=True)\n",
    "    train_loader = torch.utils.data.DataLoader(\n",
    "        dataset=train_dataset,\n",
    "        batch_size=batch_size,\n",
    "        shuffle=True,\n",
    "        pin_memory=True,\n",
    "        num_workers=num_workers,\n",
    "    )\n",
    "    test_loader = torch.utils.data.DataLoader(\n",
    "        dataset=test_dataset,\n",
    "        batch_size=batch_size,\n",
    "        shuffle=False,\n",
    "        pin_memory=True,\n",
    "        num_workers=2,\n",
    "    )\n",
    "    return train_loader, test_loader"
   ]
  },
  {
   "cell_type": "code",
   "execution_count": null,
   "metadata": {},
   "outputs": [],
   "source": []
  }
 ],
 "metadata": {
  "kernelspec": {
   "display_name": "Python 3 (ipykernel)",
   "language": "python",
   "name": "python3"
  },
  "language_info": {
   "codemirror_mode": {
    "name": "ipython",
    "version": 3
   },
   "file_extension": ".py",
   "mimetype": "text/x-python",
   "name": "python",
   "nbconvert_exporter": "python",
   "pygments_lexer": "ipython3",
   "version": "3.9.7"
  }
 },
 "nbformat": 4,
 "nbformat_minor": 4
}
