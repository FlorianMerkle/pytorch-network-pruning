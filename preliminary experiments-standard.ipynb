{
 "cells": [
  {
   "cell_type": "code",
   "execution_count": null,
   "metadata": {},
   "outputs": [],
   "source": [
    "import torch\n",
    "import torch.nn as nn\n",
    "import torch.nn.functional as F\n",
    "import torchvision\n",
    "import torch.optim as optim\n",
    "\n",
    "from src.models import CifarResNet, MNIST_CNN, CIFAR_CNN\n",
    "from src.helpers import evaluate_rob_accuracy, evaluate_clean_accuracy, load_model, safe_model,_evaluate_model\n",
    "from src.data_loader import load_torchvision_dataset, load_imagenette\n",
    "#from src.pruning import identify_layers, _evaluate_sparsity\n",
    "\n",
    "import time\n",
    "\n",
    "if torch.cuda.is_available() == True:\n",
    "    device = torch.device(\"cuda:0\")\n",
    "else:\n",
    "    device = torch.device(\"cpu\")\n",
    "print(device)\n",
    "dtype = torch.float32"
   ]
  },
  {
   "cell_type": "code",
   "execution_count": null,
   "metadata": {},
   "outputs": [],
   "source": [
    "import pandas as pd"
   ]
  },
  {
   "cell_type": "code",
   "execution_count": null,
   "metadata": {},
   "outputs": [],
   "source": [
    "pd.read_pickle('./results/preliminary-double.pkl')"
   ]
  },
  {
   "cell_type": "code",
   "execution_count": null,
   "metadata": {},
   "outputs": [],
   "source": [
    "\n",
    "evaluate_clean_accuracy(model.to(device), test_loader, device)"
   ]
  },
  {
   "cell_type": "code",
   "execution_count": null,
   "metadata": {},
   "outputs": [],
   "source": [
    "from foolbox import PyTorchModel, accuracy, samples\n",
    "from foolbox.attacks import LinfPGD, FGSM, L0BrendelBethgeAttack, L2CarliniWagnerAttack\n",
    "\n",
    "epochs = 500\n",
    "\n",
    "\n",
    "def run(training_method):\n",
    "    model = CIFAR_CNN().to(device)\n",
    "    #print(model.device)\n",
    "    compression_rates = [1,2,4,8,16]\n",
    "    stats = {}\n",
    "    for ratio in compression_rates:\n",
    "        print('compression rate: ', 1-1/ratio)\n",
    "        fit = get_train_method(model, training_method)\n",
    "        model.prune_magnitude_global_unstruct(1-1/ratio, device)\n",
    "        #print(fit)\n",
    "        train_data = fit(train_loader, test_loader, epochs, device, eps=8/255, patience=5)\n",
    "        images, labels = next(iter(test_loader))\n",
    "        images, labels = images.to(device), labels.to(device)\n",
    "        #stats[f'ratio']['l0_robustness'] = bb_attack(model, images, labels).item()\n",
    "        #print('bb done')\n",
    "        stats[f'{ratio}'] = {}\n",
    "        stats[f'{ratio}']['l2_robustness'] = cw_attack(model, images, labels).item()\n",
    "        print('cw done')\n",
    "        stats[f'{ratio}']['linf_robustness'] = pgd_attack(model, images, labels).item()\n",
    "        print('pgd done')\n",
    "        stats[f'{ratio}']['clean_accuracy'] = train_data['val_accuracy']\n",
    "        \n",
    "    return(stats)\n",
    "        \n",
    "        \n",
    "        \n",
    "\n",
    "def get_train_method(model, method):\n",
    "    if method=='standard':\n",
    "        return model.fit\n",
    "    if method=='free':\n",
    "        return model.fit_free\n",
    "    if method=='fast':\n",
    "        return model.fit_fast\n",
    "    if method=='fast_double':\n",
    "        return model.fit_fast_with_double_update\n",
    "\n",
    "def bb_attack(model, images, labels, eps=8/255):\n",
    "    model.eval()\n",
    "    fmodel = PyTorchModel(model, bounds=(0, 1))\n",
    "    attack = L0BrendelBethgeAttack()\n",
    "    raw_advs, clipped_advs, success = attack(fmodel, images, labels, epsilons=eps)\n",
    "    model.train()\n",
    "\n",
    "    return (1 - torch.sum(success)/len(success)) / 100\n",
    "\n",
    "def cw_attack(model, images, labels, eps=8/255):\n",
    "    model.eval()\n",
    "    fmodel = PyTorchModel(model, bounds=(0, 1))\n",
    "    attack = L2CarliniWagnerAttack()\n",
    "    raw_advs, clipped_advs, success = attack(fmodel, images, labels, epsilons=eps)\n",
    "    model.train()\n",
    "\n",
    "    return (1 - torch.sum(success)/len(success)) / 100\n",
    "\n",
    "def pgd_attack(model, images, labels, eps=8/255):\n",
    "    model.eval()\n",
    "    fmodel = PyTorchModel(model, bounds=(0, 1))\n",
    "    attack = LinfPGD()\n",
    "    raw_advs, clipped_advs, success = attack(fmodel, images, labels, epsilons=eps)\n",
    "    model.train()\n",
    "\n",
    "    return (1 - torch.sum(success)/len(success)) / 100"
   ]
  },
  {
   "cell_type": "markdown",
   "metadata": {},
   "source": [
    "# Double Update vs. Single Update Fast Adversarial Training\n",
    "Specs:\n",
    "\n",
    "CIFAR CNN: 4 Conv (16,16,32,32) with batchnorm, 2 FC (128,10)\n",
    "\n",
    "Data: Cifar (32,32,3)\n",
    "\n",
    "30 Epochs with eps=8/255\n",
    "\n",
    "\n",
    "\n",
    "Standard Fast Adv. Training:\n",
    "Clean: 63.05%\n",
    "Robust: 59.34%\n",
    "\n",
    "Fast Adv. Training w Double Update:\n",
    "Clean: 63.99%\n",
    "Robust: 61.35%\n",
    "\n",
    "\n"
   ]
  },
  {
   "cell_type": "markdown",
   "metadata": {},
   "source": [
    "# Initialization"
   ]
  },
  {
   "cell_type": "code",
   "execution_count": null,
   "metadata": {},
   "outputs": [],
   "source": [
    "model = CIFAR_CNN()"
   ]
  },
  {
   "cell_type": "code",
   "execution_count": null,
   "metadata": {},
   "outputs": [],
   "source": [
    "train_loader, test_loader = load_torchvision_dataset('CIFAR10')"
   ]
  },
  {
   "cell_type": "code",
   "execution_count": null,
   "metadata": {},
   "outputs": [],
   "source": [
    "PATH = './saved-models/CIFAR-baseline-150-epochs.pth'\n",
    "model = load_model(model, PATH)"
   ]
  },
  {
   "cell_type": "markdown",
   "metadata": {},
   "source": [
    "# Experiment\n",
    "\n",
    "\n",
    "1. Prune\n",
    "2. Train\n",
    "3. measure robust accuracy\n"
   ]
  },
  {
   "cell_type": "code",
   "execution_count": null,
   "metadata": {
    "scrolled": true
   },
   "outputs": [],
   "source": [
    "standard_stats = run('standard')"
   ]
  },
  {
   "cell_type": "code",
   "execution_count": null,
   "metadata": {},
   "outputs": [],
   "source": [
    "standard_stats['1']['l2_robustness']"
   ]
  },
  {
   "cell_type": "code",
   "execution_count": null,
   "metadata": {},
   "outputs": [],
   "source": [
    "import pandas as pd\n",
    "df = pd.DataFrame(data=standard_stats).T\n",
    "df['l2_robustness'] = df['l2_robustness']*10000\n",
    "df['linf_robustness'] = df['linf_robustness']*10000\n",
    "df.to_pickle('./results/preliminary-standard-no-augmentation.pkl')\n",
    "df"
   ]
  },
  {
   "cell_type": "code",
   "execution_count": null,
   "metadata": {
    "scrolled": true
   },
   "outputs": [],
   "source": [
    "fast_stats = run('fast')"
   ]
  },
  {
   "cell_type": "code",
   "execution_count": null,
   "metadata": {
    "scrolled": true
   },
   "outputs": [],
   "source": [
    "free_stats = run('free')"
   ]
  },
  {
   "cell_type": "code",
   "execution_count": null,
   "metadata": {
    "scrolled": false
   },
   "outputs": [],
   "source": [
    "double_stats = run('fast_double')"
   ]
  },
  {
   "cell_type": "markdown",
   "metadata": {},
   "source": [
    "# Attacks"
   ]
  },
  {
   "cell_type": "code",
   "execution_count": null,
   "metadata": {},
   "outputs": [],
   "source": [
    "images, labels = next(iter(test_loader))\n",
    "images, labels = images.to(device), labels.to(device)\n"
   ]
  },
  {
   "cell_type": "code",
   "execution_count": null,
   "metadata": {},
   "outputs": [],
   "source": [
    "pgd_attack(model, images, labels, eps=8/255)"
   ]
  },
  {
   "cell_type": "code",
   "execution_count": null,
   "metadata": {},
   "outputs": [],
   "source": [
    "cw_attack(model, images, labels, eps=8/255)"
   ]
  },
  {
   "cell_type": "code",
   "execution_count": null,
   "metadata": {},
   "outputs": [],
   "source": [
    "bb_attack(model, images, labels)"
   ]
  }
 ],
 "metadata": {
  "kernelspec": {
   "display_name": "Python 3 (ipykernel)",
   "language": "python",
   "name": "python3"
  },
  "language_info": {
   "codemirror_mode": {
    "name": "ipython",
    "version": 3
   },
   "file_extension": ".py",
   "mimetype": "text/x-python",
   "name": "python",
   "nbconvert_exporter": "python",
   "pygments_lexer": "ipython3",
   "version": "3.9.7"
  }
 },
 "nbformat": 4,
 "nbformat_minor": 4
}
