{
 "cells": [
  {
   "cell_type": "code",
   "execution_count": 1,
   "metadata": {},
   "outputs": [
    {
     "name": "stdout",
     "output_type": "stream",
     "text": [
      "cuda:0\n"
     ]
    }
   ],
   "source": [
    "import torch\n",
    "import torch.nn as nn\n",
    "import torch.nn.functional as F\n",
    "import torchvision\n",
    "import torch.optim as optim\n",
    "\n",
    "from src.models import ResNet, MNIST_CNN, CIFAR_CNN\n",
    "from src.helpers import evaluate_rob_accuracy, evaluate_clean_accuracy, load_model, safe_model,_evaluate_model\n",
    "from src.data_loader import load_torchvision_dataset, load_imagenette\n",
    "#from src.pruning import identify_layers, _evaluate_sparsity\n",
    "\n",
    "import time\n",
    "\n",
    "if torch.cuda.is_available() == True:\n",
    "    device = torch.device(\"cuda:0\")\n",
    "else:\n",
    "    device = torch.device(\"cpu\")\n",
    "print(device)\n",
    "dtype = torch.float32"
   ]
  },
  {
   "cell_type": "markdown",
   "metadata": {},
   "source": [
    "# Double Update vs. Single Update Fast Adversarial Training\n",
    "Specs:\n",
    "\n",
    "CIFAR CNN: 4 Conv (16,16,32,32) with batchnorm, 2 FC (128,10)\n",
    "\n",
    "Data: Cifar (32,32,3)\n",
    "\n",
    "30 Epochs with eps=8/255\n",
    "\n",
    "\n",
    "\n",
    "Standard Fast Adv. Training:\n",
    "Clean: 63.05%\n",
    "Robust: 59.34%\n",
    "\n",
    "Fast Adv. Training w Double Update:\n",
    "Clean: 63.99%\n",
    "Robust: 61.35%\n",
    "\n",
    "\n"
   ]
  },
  {
   "cell_type": "markdown",
   "metadata": {},
   "source": [
    "# Initialization"
   ]
  },
  {
   "cell_type": "code",
   "execution_count": 2,
   "metadata": {},
   "outputs": [
    {
     "name": "stdout",
     "output_type": "stream",
     "text": [
      "identifying layers\n"
     ]
    }
   ],
   "source": [
    "#model = ResNet()\n",
    "#model = MNIST_CNN()\n",
    "model = CIFAR_CNN()"
   ]
  },
  {
   "cell_type": "code",
   "execution_count": 3,
   "metadata": {},
   "outputs": [
    {
     "name": "stdout",
     "output_type": "stream",
     "text": [
      "Files already downloaded and verified\n",
      "Files already downloaded and verified\n"
     ]
    }
   ],
   "source": [
    "train_loader, test_loader = load_torchvision_dataset('CIFAR10')"
   ]
  },
  {
   "cell_type": "code",
   "execution_count": 4,
   "metadata": {},
   "outputs": [],
   "source": [
    "PATH = './saved-models/CIFAR-baseline-150-epochs.pth'\n",
    "model = load_model(model, PATH)"
   ]
  },
  {
   "cell_type": "markdown",
   "metadata": {},
   "source": [
    "# Experiment\n",
    "\n",
    "\n",
    "1. Prune\n",
    "2. Train\n",
    "3. measure robust accuracy\n"
   ]
  },
  {
   "cell_type": "code",
   "execution_count": 9,
   "metadata": {
    "scrolled": true
   },
   "outputs": [
    {
     "name": "stdout",
     "output_type": "stream",
     "text": [
      "identifying layers\n",
      "[1,     1] loss: 2.95551, train_accuracy: 9.96\n",
      "[1,    11] loss: 2.29219, train_accuracy: 20.70\n",
      "[1,    21] loss: 2.15302, train_accuracy: 21.09\n",
      "[1,    31] loss: 1.98445, train_accuracy: 25.59\n",
      "[1,    41] loss: 1.94528, train_accuracy: 27.73\n",
      "[1,    51] loss: 1.93407, train_accuracy: 29.88\n",
      "[1,    61] loss: 1.95044, train_accuracy: 32.23\n",
      "[1,    71] loss: 1.85712, train_accuracy: 31.05\n",
      "[1,    81] loss: 1.86851, train_accuracy: 32.42\n",
      "[1,    91] loss: 1.85841, train_accuracy: 29.49\n",
      "duration: 52 s - train loss: 2.01714 - train accuracy: 27.45 - validation loss: 1.65 - validation accuracy: 39.49 \n",
      "[1.650033211708069]\n",
      "[2,     1] loss: 1.85536, train_accuracy: 31.05\n",
      "[2,    11] loss: 1.87218, train_accuracy: 30.66\n",
      "[2,    21] loss: 1.80468, train_accuracy: 33.01\n",
      "[2,    31] loss: 1.87402, train_accuracy: 32.62\n",
      "[2,    41] loss: 1.73729, train_accuracy: 36.13\n",
      "[2,    51] loss: 1.83807, train_accuracy: 32.81\n",
      "[2,    61] loss: 1.75290, train_accuracy: 35.94\n",
      "[2,    71] loss: 1.75644, train_accuracy: 35.55\n",
      "[2,    81] loss: 1.88993, train_accuracy: 31.05\n",
      "[2,    91] loss: 1.74778, train_accuracy: 38.09\n",
      "duration: 53 s - train loss: 1.81463 - train accuracy: 33.89 - validation loss: 1.53 - validation accuracy: 44.13 \n",
      "[1.650033211708069, 1.5271154999732972]\n",
      "[3,     1] loss: 1.84401, train_accuracy: 32.81\n",
      "[3,    11] loss: 1.79158, train_accuracy: 31.25\n",
      "[3,    21] loss: 1.78364, train_accuracy: 35.74\n",
      "[3,    31] loss: 1.73922, train_accuracy: 38.67\n",
      "[3,    41] loss: 1.73685, train_accuracy: 36.13\n",
      "[3,    51] loss: 1.78554, train_accuracy: 34.96\n",
      "[3,    61] loss: 1.74213, train_accuracy: 35.35\n",
      "[3,    71] loss: 1.74772, train_accuracy: 38.09\n",
      "[3,    81] loss: 1.67177, train_accuracy: 38.67\n",
      "[3,    91] loss: 1.70871, train_accuracy: 39.06\n",
      "duration: 53 s - train loss: 1.75340 - train accuracy: 36.25 - validation loss: 1.45 - validation accuracy: 48.31 \n",
      "[1.650033211708069, 1.5271154999732972, 1.4494285225868224]\n",
      "Finished Training\n",
      "cw done\n",
      "pgd done\n",
      "[1,     1] loss: 1.77365, train_accuracy: 36.52\n",
      "[1,    11] loss: 1.78801, train_accuracy: 37.30\n",
      "[1,    21] loss: 1.69018, train_accuracy: 37.89\n",
      "[1,    31] loss: 1.64667, train_accuracy: 38.28\n",
      "[1,    41] loss: 1.70981, train_accuracy: 37.70\n",
      "[1,    51] loss: 1.74846, train_accuracy: 38.48\n",
      "[1,    61] loss: 1.65723, train_accuracy: 39.65\n",
      "[1,    71] loss: 1.68283, train_accuracy: 37.70\n",
      "[1,    81] loss: 1.78499, train_accuracy: 38.09\n",
      "[1,    91] loss: 1.70438, train_accuracy: 39.26\n",
      "duration: 53 s - train loss: 1.71080 - train accuracy: 38.04 - validation loss: 1.41 - validation accuracy: 49.00 \n",
      "[1.4114649057388307]\n",
      "[2,     1] loss: 1.67368, train_accuracy: 40.82\n",
      "[2,    11] loss: 1.65964, train_accuracy: 37.70\n",
      "[2,    21] loss: 1.58562, train_accuracy: 42.77\n",
      "[2,    31] loss: 1.70369, train_accuracy: 37.70\n",
      "[2,    41] loss: 1.68048, train_accuracy: 38.48\n",
      "[2,    51] loss: 1.64002, train_accuracy: 39.45\n",
      "[2,    61] loss: 1.70196, train_accuracy: 41.21\n",
      "[2,    71] loss: 1.69641, train_accuracy: 39.06\n",
      "[2,    81] loss: 1.68040, train_accuracy: 38.28\n",
      "[2,    91] loss: 1.65795, train_accuracy: 41.02\n",
      "duration: 54 s - train loss: 1.66918 - train accuracy: 39.38 - validation loss: 1.37 - validation accuracy: 50.43 \n",
      "[1.4114649057388307, 1.371383672952652]\n",
      "[3,     1] loss: 1.73410, train_accuracy: 37.30\n",
      "[3,    11] loss: 1.70284, train_accuracy: 37.70\n",
      "[3,    21] loss: 1.68161, train_accuracy: 39.26\n"
     ]
    },
    {
     "ename": "KeyboardInterrupt",
     "evalue": "",
     "output_type": "error",
     "traceback": [
      "\u001b[0;31m---------------------------------------------------------------------------\u001b[0m",
      "\u001b[0;31mKeyboardInterrupt\u001b[0m                         Traceback (most recent call last)",
      "\u001b[0;32m<ipython-input-9-0e70dde4086e>\u001b[0m in \u001b[0;36m<module>\u001b[0;34m\u001b[0m\n\u001b[0;32m----> 1\u001b[0;31m \u001b[0mstandard_stats\u001b[0m \u001b[0;34m=\u001b[0m \u001b[0mrun\u001b[0m\u001b[0;34m(\u001b[0m\u001b[0;34m'standard'\u001b[0m\u001b[0;34m)\u001b[0m\u001b[0;34m\u001b[0m\u001b[0;34m\u001b[0m\u001b[0m\n\u001b[0m",
      "\u001b[0;32m<ipython-input-8-97a9decee754>\u001b[0m in \u001b[0;36mrun\u001b[0;34m(training_method)\u001b[0m\n\u001b[1;32m     14\u001b[0m         \u001b[0mmodel\u001b[0m\u001b[0;34m.\u001b[0m\u001b[0mprune_magnitude_global_unstruct\u001b[0m\u001b[0;34m(\u001b[0m\u001b[0;36m1\u001b[0m\u001b[0;34m-\u001b[0m\u001b[0;36m1\u001b[0m\u001b[0;34m/\u001b[0m\u001b[0mratio\u001b[0m\u001b[0;34m,\u001b[0m \u001b[0mdevice\u001b[0m\u001b[0;34m)\u001b[0m\u001b[0;34m\u001b[0m\u001b[0;34m\u001b[0m\u001b[0m\n\u001b[1;32m     15\u001b[0m         \u001b[0;31m#print(fit)\u001b[0m\u001b[0;34m\u001b[0m\u001b[0;34m\u001b[0m\u001b[0;34m\u001b[0m\u001b[0m\n\u001b[0;32m---> 16\u001b[0;31m         \u001b[0mtrain_data\u001b[0m \u001b[0;34m=\u001b[0m \u001b[0mfit\u001b[0m\u001b[0;34m(\u001b[0m\u001b[0mtrain_loader\u001b[0m\u001b[0;34m,\u001b[0m \u001b[0mtest_loader\u001b[0m\u001b[0;34m,\u001b[0m \u001b[0mepochs\u001b[0m\u001b[0;34m,\u001b[0m \u001b[0mdevice\u001b[0m\u001b[0;34m,\u001b[0m \u001b[0meps\u001b[0m\u001b[0;34m=\u001b[0m\u001b[0;36m8\u001b[0m\u001b[0;34m/\u001b[0m\u001b[0;36m255\u001b[0m\u001b[0;34m)\u001b[0m\u001b[0;34m\u001b[0m\u001b[0;34m\u001b[0m\u001b[0m\n\u001b[0m\u001b[1;32m     17\u001b[0m         \u001b[0mimages\u001b[0m\u001b[0;34m,\u001b[0m \u001b[0mlabels\u001b[0m \u001b[0;34m=\u001b[0m \u001b[0mnext\u001b[0m\u001b[0;34m(\u001b[0m\u001b[0miter\u001b[0m\u001b[0;34m(\u001b[0m\u001b[0mtest_loader\u001b[0m\u001b[0;34m)\u001b[0m\u001b[0;34m)\u001b[0m\u001b[0;34m\u001b[0m\u001b[0;34m\u001b[0m\u001b[0m\n\u001b[1;32m     18\u001b[0m         \u001b[0mimages\u001b[0m\u001b[0;34m,\u001b[0m \u001b[0mlabels\u001b[0m \u001b[0;34m=\u001b[0m \u001b[0mimages\u001b[0m\u001b[0;34m.\u001b[0m\u001b[0mto\u001b[0m\u001b[0;34m(\u001b[0m\u001b[0mdevice\u001b[0m\u001b[0;34m)\u001b[0m\u001b[0;34m,\u001b[0m \u001b[0mlabels\u001b[0m\u001b[0;34m.\u001b[0m\u001b[0mto\u001b[0m\u001b[0;34m(\u001b[0m\u001b[0mdevice\u001b[0m\u001b[0;34m)\u001b[0m\u001b[0;34m\u001b[0m\u001b[0;34m\u001b[0m\u001b[0m\n",
      "\u001b[0;32m~/pytorch-network-pruning/src/models.py\u001b[0m in \u001b[0;36mfit\u001b[0;34m(self, train_data, val_data, epochs, device, eps, number_of_replays)\u001b[0m\n\u001b[1;32m    108\u001b[0m \u001b[0;34m\u001b[0m\u001b[0m\n\u001b[1;32m    109\u001b[0m     \u001b[0;32mdef\u001b[0m \u001b[0mfit\u001b[0m\u001b[0;34m(\u001b[0m\u001b[0mself\u001b[0m\u001b[0;34m,\u001b[0m \u001b[0mtrain_data\u001b[0m\u001b[0;34m,\u001b[0m \u001b[0mval_data\u001b[0m\u001b[0;34m,\u001b[0m \u001b[0mepochs\u001b[0m\u001b[0;34m,\u001b[0m \u001b[0mdevice\u001b[0m\u001b[0;34m,\u001b[0m \u001b[0meps\u001b[0m \u001b[0;34m=\u001b[0m \u001b[0;36m8\u001b[0m\u001b[0;34m/\u001b[0m\u001b[0;36m255\u001b[0m\u001b[0;34m,\u001b[0m \u001b[0mnumber_of_replays\u001b[0m\u001b[0;34m=\u001b[0m\u001b[0;36m7\u001b[0m\u001b[0;34m)\u001b[0m\u001b[0;34m:\u001b[0m\u001b[0;34m\u001b[0m\u001b[0;34m\u001b[0m\u001b[0m\n\u001b[0;32m--> 110\u001b[0;31m         \u001b[0;32mreturn\u001b[0m \u001b[0m_fit\u001b[0m\u001b[0;34m(\u001b[0m\u001b[0mself\u001b[0m\u001b[0;34m,\u001b[0m \u001b[0mtrain_data\u001b[0m\u001b[0;34m,\u001b[0m \u001b[0mval_data\u001b[0m\u001b[0;34m,\u001b[0m \u001b[0mepochs\u001b[0m\u001b[0;34m,\u001b[0m \u001b[0mdevice\u001b[0m\u001b[0;34m)\u001b[0m\u001b[0;34m\u001b[0m\u001b[0;34m\u001b[0m\u001b[0m\n\u001b[0m\u001b[1;32m    111\u001b[0m \u001b[0;34m\u001b[0m\u001b[0m\n\u001b[1;32m    112\u001b[0m     \u001b[0;32mdef\u001b[0m \u001b[0mfit_adv\u001b[0m\u001b[0;34m(\u001b[0m\u001b[0mself\u001b[0m\u001b[0;34m,\u001b[0m \u001b[0mtrain_data\u001b[0m\u001b[0;34m,\u001b[0m \u001b[0mtest_data\u001b[0m\u001b[0;34m,\u001b[0m \u001b[0mepochs\u001b[0m\u001b[0;34m,\u001b[0m \u001b[0mdevice\u001b[0m\u001b[0;34m,\u001b[0m \u001b[0mepsilon\u001b[0m\u001b[0;34m,\u001b[0m \u001b[0mattack\u001b[0m\u001b[0;34m=\u001b[0m\u001b[0;34m'PGD'\u001b[0m\u001b[0;34m,\u001b[0m \u001b[0meps\u001b[0m \u001b[0;34m=\u001b[0m \u001b[0;36m8\u001b[0m\u001b[0;34m/\u001b[0m\u001b[0;36m255\u001b[0m\u001b[0;34m,\u001b[0m \u001b[0mnumber_of_replays\u001b[0m\u001b[0;34m=\u001b[0m\u001b[0;36m7\u001b[0m\u001b[0;34m)\u001b[0m\u001b[0;34m:\u001b[0m\u001b[0;34m\u001b[0m\u001b[0;34m\u001b[0m\u001b[0m\n",
      "\u001b[0;32m~/pytorch-network-pruning/src/training.py\u001b[0m in \u001b[0;36m_fit\u001b[0;34m(model, train_data, test_data, epochs, device)\u001b[0m\n\u001b[1;32m     76\u001b[0m \u001b[0;34m\u001b[0m\u001b[0m\n\u001b[1;32m     77\u001b[0m \u001b[0;34m\u001b[0m\u001b[0m\n\u001b[0;32m---> 78\u001b[0;31m         \u001b[0;32mfor\u001b[0m \u001b[0mi\u001b[0m\u001b[0;34m,\u001b[0m \u001b[0mdata\u001b[0m \u001b[0;32min\u001b[0m \u001b[0menumerate\u001b[0m\u001b[0;34m(\u001b[0m\u001b[0mtrain_data\u001b[0m\u001b[0;34m,\u001b[0m \u001b[0;36m0\u001b[0m\u001b[0;34m)\u001b[0m\u001b[0;34m:\u001b[0m\u001b[0;34m\u001b[0m\u001b[0;34m\u001b[0m\u001b[0m\n\u001b[0m\u001b[1;32m     79\u001b[0m             \u001b[0;31m# get the inputs; data is a list of [inputs, labels]\u001b[0m\u001b[0;34m\u001b[0m\u001b[0;34m\u001b[0m\u001b[0;34m\u001b[0m\u001b[0m\n\u001b[1;32m     80\u001b[0m             \u001b[0;31m#if i == 0:\u001b[0m\u001b[0;34m\u001b[0m\u001b[0;34m\u001b[0m\u001b[0;34m\u001b[0m\u001b[0m\n",
      "\u001b[0;32m~/anaconda3/envs/DL/lib/python3.8/site-packages/torch/utils/data/dataloader.py\u001b[0m in \u001b[0;36m__next__\u001b[0;34m(self)\u001b[0m\n\u001b[1;32m    433\u001b[0m         \u001b[0;32mif\u001b[0m \u001b[0mself\u001b[0m\u001b[0;34m.\u001b[0m\u001b[0m_sampler_iter\u001b[0m \u001b[0;32mis\u001b[0m \u001b[0;32mNone\u001b[0m\u001b[0;34m:\u001b[0m\u001b[0;34m\u001b[0m\u001b[0;34m\u001b[0m\u001b[0m\n\u001b[1;32m    434\u001b[0m             \u001b[0mself\u001b[0m\u001b[0;34m.\u001b[0m\u001b[0m_reset\u001b[0m\u001b[0;34m(\u001b[0m\u001b[0;34m)\u001b[0m\u001b[0;34m\u001b[0m\u001b[0;34m\u001b[0m\u001b[0m\n\u001b[0;32m--> 435\u001b[0;31m         \u001b[0mdata\u001b[0m \u001b[0;34m=\u001b[0m \u001b[0mself\u001b[0m\u001b[0;34m.\u001b[0m\u001b[0m_next_data\u001b[0m\u001b[0;34m(\u001b[0m\u001b[0;34m)\u001b[0m\u001b[0;34m\u001b[0m\u001b[0;34m\u001b[0m\u001b[0m\n\u001b[0m\u001b[1;32m    436\u001b[0m         \u001b[0mself\u001b[0m\u001b[0;34m.\u001b[0m\u001b[0m_num_yielded\u001b[0m \u001b[0;34m+=\u001b[0m \u001b[0;36m1\u001b[0m\u001b[0;34m\u001b[0m\u001b[0;34m\u001b[0m\u001b[0m\n\u001b[1;32m    437\u001b[0m         \u001b[0;32mif\u001b[0m \u001b[0mself\u001b[0m\u001b[0;34m.\u001b[0m\u001b[0m_dataset_kind\u001b[0m \u001b[0;34m==\u001b[0m \u001b[0m_DatasetKind\u001b[0m\u001b[0;34m.\u001b[0m\u001b[0mIterable\u001b[0m \u001b[0;32mand\u001b[0m\u001b[0;31m \u001b[0m\u001b[0;31m\\\u001b[0m\u001b[0;34m\u001b[0m\u001b[0;34m\u001b[0m\u001b[0m\n",
      "\u001b[0;32m~/anaconda3/envs/DL/lib/python3.8/site-packages/torch/utils/data/dataloader.py\u001b[0m in \u001b[0;36m_next_data\u001b[0;34m(self)\u001b[0m\n\u001b[1;32m    473\u001b[0m     \u001b[0;32mdef\u001b[0m \u001b[0m_next_data\u001b[0m\u001b[0;34m(\u001b[0m\u001b[0mself\u001b[0m\u001b[0;34m)\u001b[0m\u001b[0;34m:\u001b[0m\u001b[0;34m\u001b[0m\u001b[0;34m\u001b[0m\u001b[0m\n\u001b[1;32m    474\u001b[0m         \u001b[0mindex\u001b[0m \u001b[0;34m=\u001b[0m \u001b[0mself\u001b[0m\u001b[0;34m.\u001b[0m\u001b[0m_next_index\u001b[0m\u001b[0;34m(\u001b[0m\u001b[0;34m)\u001b[0m  \u001b[0;31m# may raise StopIteration\u001b[0m\u001b[0;34m\u001b[0m\u001b[0;34m\u001b[0m\u001b[0m\n\u001b[0;32m--> 475\u001b[0;31m         \u001b[0mdata\u001b[0m \u001b[0;34m=\u001b[0m \u001b[0mself\u001b[0m\u001b[0;34m.\u001b[0m\u001b[0m_dataset_fetcher\u001b[0m\u001b[0;34m.\u001b[0m\u001b[0mfetch\u001b[0m\u001b[0;34m(\u001b[0m\u001b[0mindex\u001b[0m\u001b[0;34m)\u001b[0m  \u001b[0;31m# may raise StopIteration\u001b[0m\u001b[0;34m\u001b[0m\u001b[0;34m\u001b[0m\u001b[0m\n\u001b[0m\u001b[1;32m    476\u001b[0m         \u001b[0;32mif\u001b[0m \u001b[0mself\u001b[0m\u001b[0;34m.\u001b[0m\u001b[0m_pin_memory\u001b[0m\u001b[0;34m:\u001b[0m\u001b[0;34m\u001b[0m\u001b[0;34m\u001b[0m\u001b[0m\n\u001b[1;32m    477\u001b[0m             \u001b[0mdata\u001b[0m \u001b[0;34m=\u001b[0m \u001b[0m_utils\u001b[0m\u001b[0;34m.\u001b[0m\u001b[0mpin_memory\u001b[0m\u001b[0;34m.\u001b[0m\u001b[0mpin_memory\u001b[0m\u001b[0;34m(\u001b[0m\u001b[0mdata\u001b[0m\u001b[0;34m)\u001b[0m\u001b[0;34m\u001b[0m\u001b[0;34m\u001b[0m\u001b[0m\n",
      "\u001b[0;32m~/anaconda3/envs/DL/lib/python3.8/site-packages/torch/utils/data/_utils/fetch.py\u001b[0m in \u001b[0;36mfetch\u001b[0;34m(self, possibly_batched_index)\u001b[0m\n\u001b[1;32m     42\u001b[0m     \u001b[0;32mdef\u001b[0m \u001b[0mfetch\u001b[0m\u001b[0;34m(\u001b[0m\u001b[0mself\u001b[0m\u001b[0;34m,\u001b[0m \u001b[0mpossibly_batched_index\u001b[0m\u001b[0;34m)\u001b[0m\u001b[0;34m:\u001b[0m\u001b[0;34m\u001b[0m\u001b[0;34m\u001b[0m\u001b[0m\n\u001b[1;32m     43\u001b[0m         \u001b[0;32mif\u001b[0m \u001b[0mself\u001b[0m\u001b[0;34m.\u001b[0m\u001b[0mauto_collation\u001b[0m\u001b[0;34m:\u001b[0m\u001b[0;34m\u001b[0m\u001b[0;34m\u001b[0m\u001b[0m\n\u001b[0;32m---> 44\u001b[0;31m             \u001b[0mdata\u001b[0m \u001b[0;34m=\u001b[0m \u001b[0;34m[\u001b[0m\u001b[0mself\u001b[0m\u001b[0;34m.\u001b[0m\u001b[0mdataset\u001b[0m\u001b[0;34m[\u001b[0m\u001b[0midx\u001b[0m\u001b[0;34m]\u001b[0m \u001b[0;32mfor\u001b[0m \u001b[0midx\u001b[0m \u001b[0;32min\u001b[0m \u001b[0mpossibly_batched_index\u001b[0m\u001b[0;34m]\u001b[0m\u001b[0;34m\u001b[0m\u001b[0;34m\u001b[0m\u001b[0m\n\u001b[0m\u001b[1;32m     45\u001b[0m         \u001b[0;32melse\u001b[0m\u001b[0;34m:\u001b[0m\u001b[0;34m\u001b[0m\u001b[0;34m\u001b[0m\u001b[0m\n\u001b[1;32m     46\u001b[0m             \u001b[0mdata\u001b[0m \u001b[0;34m=\u001b[0m \u001b[0mself\u001b[0m\u001b[0;34m.\u001b[0m\u001b[0mdataset\u001b[0m\u001b[0;34m[\u001b[0m\u001b[0mpossibly_batched_index\u001b[0m\u001b[0;34m]\u001b[0m\u001b[0;34m\u001b[0m\u001b[0;34m\u001b[0m\u001b[0m\n",
      "\u001b[0;32m~/anaconda3/envs/DL/lib/python3.8/site-packages/torch/utils/data/_utils/fetch.py\u001b[0m in \u001b[0;36m<listcomp>\u001b[0;34m(.0)\u001b[0m\n\u001b[1;32m     42\u001b[0m     \u001b[0;32mdef\u001b[0m \u001b[0mfetch\u001b[0m\u001b[0;34m(\u001b[0m\u001b[0mself\u001b[0m\u001b[0;34m,\u001b[0m \u001b[0mpossibly_batched_index\u001b[0m\u001b[0;34m)\u001b[0m\u001b[0;34m:\u001b[0m\u001b[0;34m\u001b[0m\u001b[0;34m\u001b[0m\u001b[0m\n\u001b[1;32m     43\u001b[0m         \u001b[0;32mif\u001b[0m \u001b[0mself\u001b[0m\u001b[0;34m.\u001b[0m\u001b[0mauto_collation\u001b[0m\u001b[0;34m:\u001b[0m\u001b[0;34m\u001b[0m\u001b[0;34m\u001b[0m\u001b[0m\n\u001b[0;32m---> 44\u001b[0;31m             \u001b[0mdata\u001b[0m \u001b[0;34m=\u001b[0m \u001b[0;34m[\u001b[0m\u001b[0mself\u001b[0m\u001b[0;34m.\u001b[0m\u001b[0mdataset\u001b[0m\u001b[0;34m[\u001b[0m\u001b[0midx\u001b[0m\u001b[0;34m]\u001b[0m \u001b[0;32mfor\u001b[0m \u001b[0midx\u001b[0m \u001b[0;32min\u001b[0m \u001b[0mpossibly_batched_index\u001b[0m\u001b[0;34m]\u001b[0m\u001b[0;34m\u001b[0m\u001b[0;34m\u001b[0m\u001b[0m\n\u001b[0m\u001b[1;32m     45\u001b[0m         \u001b[0;32melse\u001b[0m\u001b[0;34m:\u001b[0m\u001b[0;34m\u001b[0m\u001b[0;34m\u001b[0m\u001b[0m\n\u001b[1;32m     46\u001b[0m             \u001b[0mdata\u001b[0m \u001b[0;34m=\u001b[0m \u001b[0mself\u001b[0m\u001b[0;34m.\u001b[0m\u001b[0mdataset\u001b[0m\u001b[0;34m[\u001b[0m\u001b[0mpossibly_batched_index\u001b[0m\u001b[0;34m]\u001b[0m\u001b[0;34m\u001b[0m\u001b[0;34m\u001b[0m\u001b[0m\n",
      "\u001b[0;32m~/anaconda3/envs/DL/lib/python3.8/site-packages/torchvision/datasets/cifar.py\u001b[0m in \u001b[0;36m__getitem__\u001b[0;34m(self, index)\u001b[0m\n\u001b[1;32m    118\u001b[0m \u001b[0;34m\u001b[0m\u001b[0m\n\u001b[1;32m    119\u001b[0m         \u001b[0;32mif\u001b[0m \u001b[0mself\u001b[0m\u001b[0;34m.\u001b[0m\u001b[0mtransform\u001b[0m \u001b[0;32mis\u001b[0m \u001b[0;32mnot\u001b[0m \u001b[0;32mNone\u001b[0m\u001b[0;34m:\u001b[0m\u001b[0;34m\u001b[0m\u001b[0;34m\u001b[0m\u001b[0m\n\u001b[0;32m--> 120\u001b[0;31m             \u001b[0mimg\u001b[0m \u001b[0;34m=\u001b[0m \u001b[0mself\u001b[0m\u001b[0;34m.\u001b[0m\u001b[0mtransform\u001b[0m\u001b[0;34m(\u001b[0m\u001b[0mimg\u001b[0m\u001b[0;34m)\u001b[0m\u001b[0;34m\u001b[0m\u001b[0;34m\u001b[0m\u001b[0m\n\u001b[0m\u001b[1;32m    121\u001b[0m \u001b[0;34m\u001b[0m\u001b[0m\n\u001b[1;32m    122\u001b[0m         \u001b[0;32mif\u001b[0m \u001b[0mself\u001b[0m\u001b[0;34m.\u001b[0m\u001b[0mtarget_transform\u001b[0m \u001b[0;32mis\u001b[0m \u001b[0;32mnot\u001b[0m \u001b[0;32mNone\u001b[0m\u001b[0;34m:\u001b[0m\u001b[0;34m\u001b[0m\u001b[0;34m\u001b[0m\u001b[0m\n",
      "\u001b[0;32m~/anaconda3/envs/DL/lib/python3.8/site-packages/torchvision/transforms/transforms.py\u001b[0m in \u001b[0;36m__call__\u001b[0;34m(self, img)\u001b[0m\n\u001b[1;32m     65\u001b[0m     \u001b[0;32mdef\u001b[0m \u001b[0m__call__\u001b[0m\u001b[0;34m(\u001b[0m\u001b[0mself\u001b[0m\u001b[0;34m,\u001b[0m \u001b[0mimg\u001b[0m\u001b[0;34m)\u001b[0m\u001b[0;34m:\u001b[0m\u001b[0;34m\u001b[0m\u001b[0;34m\u001b[0m\u001b[0m\n\u001b[1;32m     66\u001b[0m         \u001b[0;32mfor\u001b[0m \u001b[0mt\u001b[0m \u001b[0;32min\u001b[0m \u001b[0mself\u001b[0m\u001b[0;34m.\u001b[0m\u001b[0mtransforms\u001b[0m\u001b[0;34m:\u001b[0m\u001b[0;34m\u001b[0m\u001b[0;34m\u001b[0m\u001b[0m\n\u001b[0;32m---> 67\u001b[0;31m             \u001b[0mimg\u001b[0m \u001b[0;34m=\u001b[0m \u001b[0mt\u001b[0m\u001b[0;34m(\u001b[0m\u001b[0mimg\u001b[0m\u001b[0;34m)\u001b[0m\u001b[0;34m\u001b[0m\u001b[0;34m\u001b[0m\u001b[0m\n\u001b[0m\u001b[1;32m     68\u001b[0m         \u001b[0;32mreturn\u001b[0m \u001b[0mimg\u001b[0m\u001b[0;34m\u001b[0m\u001b[0;34m\u001b[0m\u001b[0m\n\u001b[1;32m     69\u001b[0m \u001b[0;34m\u001b[0m\u001b[0m\n",
      "\u001b[0;32m~/anaconda3/envs/DL/lib/python3.8/site-packages/torch/nn/modules/module.py\u001b[0m in \u001b[0;36m_call_impl\u001b[0;34m(self, *input, **kwargs)\u001b[0m\n\u001b[1;32m    725\u001b[0m             \u001b[0mresult\u001b[0m \u001b[0;34m=\u001b[0m \u001b[0mself\u001b[0m\u001b[0;34m.\u001b[0m\u001b[0m_slow_forward\u001b[0m\u001b[0;34m(\u001b[0m\u001b[0;34m*\u001b[0m\u001b[0minput\u001b[0m\u001b[0;34m,\u001b[0m \u001b[0;34m**\u001b[0m\u001b[0mkwargs\u001b[0m\u001b[0;34m)\u001b[0m\u001b[0;34m\u001b[0m\u001b[0;34m\u001b[0m\u001b[0m\n\u001b[1;32m    726\u001b[0m         \u001b[0;32melse\u001b[0m\u001b[0;34m:\u001b[0m\u001b[0;34m\u001b[0m\u001b[0;34m\u001b[0m\u001b[0m\n\u001b[0;32m--> 727\u001b[0;31m             \u001b[0mresult\u001b[0m \u001b[0;34m=\u001b[0m \u001b[0mself\u001b[0m\u001b[0;34m.\u001b[0m\u001b[0mforward\u001b[0m\u001b[0;34m(\u001b[0m\u001b[0;34m*\u001b[0m\u001b[0minput\u001b[0m\u001b[0;34m,\u001b[0m \u001b[0;34m**\u001b[0m\u001b[0mkwargs\u001b[0m\u001b[0;34m)\u001b[0m\u001b[0;34m\u001b[0m\u001b[0;34m\u001b[0m\u001b[0m\n\u001b[0m\u001b[1;32m    728\u001b[0m         for hook in itertools.chain(\n\u001b[1;32m    729\u001b[0m                 \u001b[0m_global_forward_hooks\u001b[0m\u001b[0;34m.\u001b[0m\u001b[0mvalues\u001b[0m\u001b[0;34m(\u001b[0m\u001b[0;34m)\u001b[0m\u001b[0;34m,\u001b[0m\u001b[0;34m\u001b[0m\u001b[0;34m\u001b[0m\u001b[0m\n",
      "\u001b[0;32m~/anaconda3/envs/DL/lib/python3.8/site-packages/torchvision/transforms/transforms.py\u001b[0m in \u001b[0;36mforward\u001b[0;34m(self, img)\u001b[0m\n\u001b[1;32m   1110\u001b[0m                 \u001b[0mimg\u001b[0m \u001b[0;34m=\u001b[0m \u001b[0mF\u001b[0m\u001b[0;34m.\u001b[0m\u001b[0madjust_saturation\u001b[0m\u001b[0;34m(\u001b[0m\u001b[0mimg\u001b[0m\u001b[0;34m,\u001b[0m \u001b[0msaturation_factor\u001b[0m\u001b[0;34m)\u001b[0m\u001b[0;34m\u001b[0m\u001b[0;34m\u001b[0m\u001b[0m\n\u001b[1;32m   1111\u001b[0m \u001b[0;34m\u001b[0m\u001b[0m\n\u001b[0;32m-> 1112\u001b[0;31m             \u001b[0;32mif\u001b[0m \u001b[0mfn_id\u001b[0m \u001b[0;34m==\u001b[0m \u001b[0;36m3\u001b[0m \u001b[0;32mand\u001b[0m \u001b[0mself\u001b[0m\u001b[0;34m.\u001b[0m\u001b[0mhue\u001b[0m \u001b[0;32mis\u001b[0m \u001b[0;32mnot\u001b[0m \u001b[0;32mNone\u001b[0m\u001b[0;34m:\u001b[0m\u001b[0;34m\u001b[0m\u001b[0;34m\u001b[0m\u001b[0m\n\u001b[0m\u001b[1;32m   1113\u001b[0m                 \u001b[0mhue\u001b[0m \u001b[0;34m=\u001b[0m \u001b[0mself\u001b[0m\u001b[0;34m.\u001b[0m\u001b[0mhue\u001b[0m\u001b[0;34m\u001b[0m\u001b[0;34m\u001b[0m\u001b[0m\n\u001b[1;32m   1114\u001b[0m                 \u001b[0mhue_factor\u001b[0m \u001b[0;34m=\u001b[0m \u001b[0mtorch\u001b[0m\u001b[0;34m.\u001b[0m\u001b[0mtensor\u001b[0m\u001b[0;34m(\u001b[0m\u001b[0;36m1.0\u001b[0m\u001b[0;34m)\u001b[0m\u001b[0;34m.\u001b[0m\u001b[0muniform_\u001b[0m\u001b[0;34m(\u001b[0m\u001b[0mhue\u001b[0m\u001b[0;34m[\u001b[0m\u001b[0;36m0\u001b[0m\u001b[0;34m]\u001b[0m\u001b[0;34m,\u001b[0m \u001b[0mhue\u001b[0m\u001b[0;34m[\u001b[0m\u001b[0;36m1\u001b[0m\u001b[0;34m]\u001b[0m\u001b[0;34m)\u001b[0m\u001b[0;34m.\u001b[0m\u001b[0mitem\u001b[0m\u001b[0;34m(\u001b[0m\u001b[0;34m)\u001b[0m\u001b[0;34m\u001b[0m\u001b[0;34m\u001b[0m\u001b[0m\n",
      "\u001b[0;31mKeyboardInterrupt\u001b[0m: "
     ]
    }
   ],
   "source": [
    "standard_stats = run('standard')"
   ]
  },
  {
   "cell_type": "code",
   "execution_count": 16,
   "metadata": {},
   "outputs": [
    {
     "data": {
      "text/plain": [
       "{'1': {'l2_robustness': tensor(0.5898, device='cuda:0'),\n",
       "  'linf_robustness': tensor(0.6348, device='cuda:0'),\n",
       "  'clean_accuracy': 40.88},\n",
       " '2': {'l2_robustness': tensor(0.5488, device='cuda:0'),\n",
       "  'linf_robustness': tensor(0.5898, device='cuda:0'),\n",
       "  'clean_accuracy': 45.89},\n",
       " '4': {'l2_robustness': tensor(0.5469, device='cuda:0'),\n",
       "  'linf_robustness': tensor(0.5586, device='cuda:0'),\n",
       "  'clean_accuracy': 47.51},\n",
       " '8': {'l2_robustness': tensor(0.5176, device='cuda:0'),\n",
       "  'linf_robustness': tensor(0.5586, device='cuda:0'),\n",
       "  'clean_accuracy': 47.1},\n",
       " '16': {'l2_robustness': tensor(0.5059, device='cuda:0'),\n",
       "  'linf_robustness': tensor(0.5312, device='cuda:0'),\n",
       "  'clean_accuracy': 46.14}}"
      ]
     },
     "execution_count": 16,
     "metadata": {},
     "output_type": "execute_result"
    }
   ],
   "source": [
    "standard_stats"
   ]
  },
  {
   "cell_type": "code",
   "execution_count": 6,
   "metadata": {
    "scrolled": true
   },
   "outputs": [
    {
     "name": "stdout",
     "output_type": "stream",
     "text": [
      "identifying layers\n",
      "[1,     1] loss: 2.95128, train_accuracy: 10.35\n",
      "[1,    11] loss: 2.32203, train_accuracy: 20.90\n",
      "[1,    21] loss: 2.07043, train_accuracy: 25.78\n",
      "[1,    31] loss: 2.01518, train_accuracy: 26.56\n",
      "[1,    41] loss: 2.03410, train_accuracy: 25.59\n",
      "[1,    51] loss: 1.96823, train_accuracy: 27.73\n",
      "[1,    61] loss: 2.02681, train_accuracy: 29.30\n",
      "[1,    71] loss: 1.99444, train_accuracy: 30.27\n",
      "[1,    81] loss: 1.97469, train_accuracy: 28.91\n",
      "[1,    91] loss: 1.94731, train_accuracy: 29.30\n",
      "duration: 60 s - train loss: 2.02881 - train accuracy: 27.44 - validation loss: 1.65035 - validation accuracy: 40.17 \n",
      "[2,     1] loss: 1.80543, train_accuracy: 33.79\n",
      "[2,    11] loss: 1.87866, train_accuracy: 33.98\n",
      "[2,    21] loss: 1.83539, train_accuracy: 33.59\n",
      "[2,    31] loss: 1.79033, train_accuracy: 33.59\n",
      "[2,    41] loss: 1.78200, train_accuracy: 35.35\n",
      "[2,    51] loss: 1.79811, train_accuracy: 32.62\n",
      "[2,    61] loss: 1.79824, train_accuracy: 35.55\n",
      "[2,    71] loss: 1.75369, train_accuracy: 37.11\n",
      "[2,    81] loss: 1.78967, train_accuracy: 36.72\n",
      "[2,    91] loss: 1.67541, train_accuracy: 39.65\n",
      "duration: 59 s - train loss: 1.81281 - train accuracy: 33.68 - validation loss: 1.53457 - validation accuracy: 44.19 \n",
      "[3,     1] loss: 1.82272, train_accuracy: 33.59\n",
      "[3,    11] loss: 1.75866, train_accuracy: 35.74\n",
      "[3,    21] loss: 1.81013, train_accuracy: 34.38\n",
      "[3,    31] loss: 1.72559, train_accuracy: 36.13\n",
      "[3,    41] loss: 1.73519, train_accuracy: 35.94\n",
      "[3,    51] loss: 1.83551, train_accuracy: 33.40\n",
      "[3,    61] loss: 1.78472, train_accuracy: 36.72\n",
      "[3,    71] loss: 1.77932, train_accuracy: 37.30\n",
      "[3,    81] loss: 1.71026, train_accuracy: 39.06\n",
      "[3,    91] loss: 1.79589, train_accuracy: 34.38\n",
      "duration: 59 s - train loss: 1.74531 - train accuracy: 36.43 - validation loss: 1.45571 - validation accuracy: 47.53 \n",
      "Finished Training\n",
      "cw done\n",
      "pgd done\n",
      "[1,     1] loss: 1.83651, train_accuracy: 36.72\n",
      "[1,    11] loss: 1.84260, train_accuracy: 32.62\n",
      "[1,    21] loss: 1.69228, train_accuracy: 38.09\n",
      "[1,    31] loss: 1.74114, train_accuracy: 36.52\n",
      "[1,    41] loss: 1.74328, train_accuracy: 40.43\n",
      "[1,    51] loss: 1.73512, train_accuracy: 34.18\n",
      "[1,    61] loss: 1.64837, train_accuracy: 43.95\n",
      "[1,    71] loss: 1.68989, train_accuracy: 39.45\n",
      "[1,    81] loss: 1.65230, train_accuracy: 39.45\n",
      "[1,    91] loss: 1.71870, train_accuracy: 39.06\n",
      "duration: 60 s - train loss: 1.69432 - train accuracy: 38.43 - validation loss: 1.41945 - validation accuracy: 49.78 \n",
      "[2,     1] loss: 1.63460, train_accuracy: 39.06\n",
      "[2,    11] loss: 1.71439, train_accuracy: 36.72\n",
      "[2,    21] loss: 1.60665, train_accuracy: 42.97\n",
      "[2,    31] loss: 1.55264, train_accuracy: 43.16\n",
      "[2,    41] loss: 1.64825, train_accuracy: 40.23\n",
      "[2,    51] loss: 1.75090, train_accuracy: 35.35\n",
      "[2,    61] loss: 1.66090, train_accuracy: 43.75\n",
      "[2,    71] loss: 1.61994, train_accuracy: 41.41\n",
      "[2,    81] loss: 1.63923, train_accuracy: 40.04\n",
      "[2,    91] loss: 1.62606, train_accuracy: 42.19\n",
      "duration: 59 s - train loss: 1.65682 - train accuracy: 40.25 - validation loss: 1.38509 - validation accuracy: 50.78 \n",
      "[3,     1] loss: 1.67358, train_accuracy: 38.09\n",
      "[3,    11] loss: 1.68951, train_accuracy: 39.06\n",
      "[3,    21] loss: 1.53507, train_accuracy: 47.27\n",
      "[3,    31] loss: 1.64640, train_accuracy: 41.21\n",
      "[3,    41] loss: 1.63054, train_accuracy: 39.45\n",
      "[3,    51] loss: 1.56767, train_accuracy: 43.16\n",
      "[3,    61] loss: 1.64944, train_accuracy: 40.82\n",
      "[3,    71] loss: 1.56264, train_accuracy: 43.16\n",
      "[3,    81] loss: 1.68582, train_accuracy: 40.04\n",
      "[3,    91] loss: 1.74373, train_accuracy: 36.91\n",
      "duration: 56 s - train loss: 1.64067 - train accuracy: 40.93 - validation loss: 1.34775 - validation accuracy: 52.41 \n",
      "Finished Training\n",
      "cw done\n",
      "pgd done\n",
      "[1,     1] loss: 1.84098, train_accuracy: 36.52\n",
      "[1,    11] loss: 1.72843, train_accuracy: 39.65\n",
      "[1,    21] loss: 1.60337, train_accuracy: 42.19\n",
      "[1,    31] loss: 1.61846, train_accuracy: 39.45\n",
      "[1,    41] loss: 1.57058, train_accuracy: 43.95\n",
      "[1,    51] loss: 1.54782, train_accuracy: 42.97\n",
      "[1,    61] loss: 1.64790, train_accuracy: 40.04\n",
      "[1,    71] loss: 1.60503, train_accuracy: 42.77\n",
      "[1,    81] loss: 1.56124, train_accuracy: 42.77\n",
      "[1,    91] loss: 1.53785, train_accuracy: 47.85\n",
      "duration: 55 s - train loss: 1.62835 - train accuracy: 41.31 - validation loss: 1.32873 - validation accuracy: 53.28 \n",
      "[2,     1] loss: 1.60106, train_accuracy: 43.55\n",
      "[2,    11] loss: 1.62249, train_accuracy: 43.16\n",
      "[2,    21] loss: 1.62289, train_accuracy: 43.16\n",
      "[2,    31] loss: 1.62514, train_accuracy: 40.62\n",
      "[2,    41] loss: 1.59298, train_accuracy: 45.51\n",
      "[2,    51] loss: 1.63635, train_accuracy: 40.43\n",
      "[2,    61] loss: 1.54910, train_accuracy: 43.75\n",
      "[2,    71] loss: 1.60386, train_accuracy: 40.82\n",
      "[2,    81] loss: 1.56039, train_accuracy: 44.73\n",
      "[2,    91] loss: 1.49191, train_accuracy: 44.14\n",
      "duration: 55 s - train loss: 1.58168 - train accuracy: 43.15 - validation loss: 1.29632 - validation accuracy: 54.31 \n",
      "[3,     1] loss: 1.48296, train_accuracy: 48.24\n",
      "[3,    11] loss: 1.56409, train_accuracy: 44.73\n",
      "[3,    21] loss: 1.55765, train_accuracy: 42.38\n",
      "[3,    31] loss: 1.56963, train_accuracy: 41.02\n",
      "[3,    41] loss: 1.57962, train_accuracy: 42.77\n",
      "[3,    51] loss: 1.55277, train_accuracy: 43.55\n",
      "[3,    61] loss: 1.60122, train_accuracy: 44.53\n",
      "[3,    71] loss: 1.53400, train_accuracy: 45.12\n",
      "[3,    81] loss: 1.59175, train_accuracy: 44.92\n",
      "[3,    91] loss: 1.55194, train_accuracy: 43.95\n",
      "duration: 55 s - train loss: 1.57029 - train accuracy: 43.61 - validation loss: 1.27683 - validation accuracy: 55.16 \n",
      "Finished Training\n",
      "cw done\n",
      "pgd done\n",
      "[1,     1] loss: 1.99632, train_accuracy: 24.22\n",
      "[1,    11] loss: 1.67571, train_accuracy: 35.35\n",
      "[1,    21] loss: 1.66215, train_accuracy: 39.84\n",
      "[1,    31] loss: 1.61821, train_accuracy: 42.58\n",
      "[1,    41] loss: 1.61517, train_accuracy: 42.58\n",
      "[1,    51] loss: 1.64700, train_accuracy: 40.62\n",
      "[1,    61] loss: 1.64805, train_accuracy: 40.82\n",
      "[1,    71] loss: 1.55603, train_accuracy: 43.55\n",
      "[1,    81] loss: 1.51311, train_accuracy: 43.95\n"
     ]
    },
    {
     "ename": "KeyboardInterrupt",
     "evalue": "",
     "output_type": "error",
     "traceback": [
      "\u001b[0;31m---------------------------------------------------------------------------\u001b[0m",
      "\u001b[0;31mKeyboardInterrupt\u001b[0m                         Traceback (most recent call last)",
      "\u001b[0;32m<ipython-input-6-34022e9da5db>\u001b[0m in \u001b[0;36m<module>\u001b[0;34m\u001b[0m\n\u001b[0;32m----> 1\u001b[0;31m \u001b[0mfast_stats\u001b[0m \u001b[0;34m=\u001b[0m \u001b[0mrun\u001b[0m\u001b[0;34m(\u001b[0m\u001b[0;34m'fast'\u001b[0m\u001b[0;34m)\u001b[0m\u001b[0;34m\u001b[0m\u001b[0;34m\u001b[0m\u001b[0m\n\u001b[0m",
      "\u001b[0;32m<ipython-input-4-97a9decee754>\u001b[0m in \u001b[0;36mrun\u001b[0;34m(training_method)\u001b[0m\n\u001b[1;32m     14\u001b[0m         \u001b[0mmodel\u001b[0m\u001b[0;34m.\u001b[0m\u001b[0mprune_magnitude_global_unstruct\u001b[0m\u001b[0;34m(\u001b[0m\u001b[0;36m1\u001b[0m\u001b[0;34m-\u001b[0m\u001b[0;36m1\u001b[0m\u001b[0;34m/\u001b[0m\u001b[0mratio\u001b[0m\u001b[0;34m,\u001b[0m \u001b[0mdevice\u001b[0m\u001b[0;34m)\u001b[0m\u001b[0;34m\u001b[0m\u001b[0;34m\u001b[0m\u001b[0m\n\u001b[1;32m     15\u001b[0m         \u001b[0;31m#print(fit)\u001b[0m\u001b[0;34m\u001b[0m\u001b[0;34m\u001b[0m\u001b[0;34m\u001b[0m\u001b[0m\n\u001b[0;32m---> 16\u001b[0;31m         \u001b[0mtrain_data\u001b[0m \u001b[0;34m=\u001b[0m \u001b[0mfit\u001b[0m\u001b[0;34m(\u001b[0m\u001b[0mtrain_loader\u001b[0m\u001b[0;34m,\u001b[0m \u001b[0mtest_loader\u001b[0m\u001b[0;34m,\u001b[0m \u001b[0mepochs\u001b[0m\u001b[0;34m,\u001b[0m \u001b[0mdevice\u001b[0m\u001b[0;34m,\u001b[0m \u001b[0meps\u001b[0m\u001b[0;34m=\u001b[0m\u001b[0;36m8\u001b[0m\u001b[0;34m/\u001b[0m\u001b[0;36m255\u001b[0m\u001b[0;34m)\u001b[0m\u001b[0;34m\u001b[0m\u001b[0;34m\u001b[0m\u001b[0m\n\u001b[0m\u001b[1;32m     17\u001b[0m         \u001b[0mimages\u001b[0m\u001b[0;34m,\u001b[0m \u001b[0mlabels\u001b[0m \u001b[0;34m=\u001b[0m \u001b[0mnext\u001b[0m\u001b[0;34m(\u001b[0m\u001b[0miter\u001b[0m\u001b[0;34m(\u001b[0m\u001b[0mtest_loader\u001b[0m\u001b[0;34m)\u001b[0m\u001b[0;34m)\u001b[0m\u001b[0;34m\u001b[0m\u001b[0;34m\u001b[0m\u001b[0m\n\u001b[1;32m     18\u001b[0m         \u001b[0mimages\u001b[0m\u001b[0;34m,\u001b[0m \u001b[0mlabels\u001b[0m \u001b[0;34m=\u001b[0m \u001b[0mimages\u001b[0m\u001b[0;34m.\u001b[0m\u001b[0mto\u001b[0m\u001b[0;34m(\u001b[0m\u001b[0mdevice\u001b[0m\u001b[0;34m)\u001b[0m\u001b[0;34m,\u001b[0m \u001b[0mlabels\u001b[0m\u001b[0;34m.\u001b[0m\u001b[0mto\u001b[0m\u001b[0;34m(\u001b[0m\u001b[0mdevice\u001b[0m\u001b[0;34m)\u001b[0m\u001b[0;34m\u001b[0m\u001b[0;34m\u001b[0m\u001b[0m\n",
      "\u001b[0;32m~/pytorch-network-pruning/src/models.py\u001b[0m in \u001b[0;36mfit_fast\u001b[0;34m(self, train_loader, val_loader, epochs, device, eps, number_of_replays)\u001b[0m\n\u001b[1;32m    117\u001b[0m \u001b[0;34m\u001b[0m\u001b[0m\n\u001b[1;32m    118\u001b[0m     \u001b[0;32mdef\u001b[0m \u001b[0mfit_fast\u001b[0m\u001b[0;34m(\u001b[0m\u001b[0mself\u001b[0m\u001b[0;34m,\u001b[0m \u001b[0mtrain_loader\u001b[0m\u001b[0;34m,\u001b[0m \u001b[0mval_loader\u001b[0m \u001b[0;34m,\u001b[0m \u001b[0mepochs\u001b[0m\u001b[0;34m,\u001b[0m \u001b[0mdevice\u001b[0m\u001b[0;34m,\u001b[0m \u001b[0meps\u001b[0m \u001b[0;34m=\u001b[0m \u001b[0;36m8\u001b[0m\u001b[0;34m/\u001b[0m\u001b[0;36m255\u001b[0m\u001b[0;34m,\u001b[0m \u001b[0mnumber_of_replays\u001b[0m\u001b[0;34m=\u001b[0m\u001b[0;36m7\u001b[0m\u001b[0;34m)\u001b[0m\u001b[0;34m:\u001b[0m\u001b[0;34m\u001b[0m\u001b[0;34m\u001b[0m\u001b[0m\n\u001b[0;32m--> 119\u001b[0;31m         \u001b[0;32mreturn\u001b[0m \u001b[0m_fit_fast\u001b[0m\u001b[0;34m(\u001b[0m\u001b[0mself\u001b[0m\u001b[0;34m,\u001b[0m \u001b[0mtrain_loader\u001b[0m\u001b[0;34m,\u001b[0m \u001b[0mval_loader\u001b[0m \u001b[0;34m,\u001b[0m \u001b[0mepochs\u001b[0m\u001b[0;34m,\u001b[0m \u001b[0mdevice\u001b[0m\u001b[0;34m,\u001b[0m \u001b[0meps\u001b[0m\u001b[0;34m)\u001b[0m\u001b[0;34m\u001b[0m\u001b[0;34m\u001b[0m\u001b[0m\n\u001b[0m\u001b[1;32m    120\u001b[0m \u001b[0;34m\u001b[0m\u001b[0m\n\u001b[1;32m    121\u001b[0m     \u001b[0;32mdef\u001b[0m \u001b[0mfit_fast_with_double_update\u001b[0m\u001b[0;34m(\u001b[0m\u001b[0mself\u001b[0m\u001b[0;34m,\u001b[0m \u001b[0mtrain_loader\u001b[0m\u001b[0;34m,\u001b[0m \u001b[0mval_loader\u001b[0m \u001b[0;34m,\u001b[0m \u001b[0mepochs\u001b[0m\u001b[0;34m,\u001b[0m \u001b[0mdevice\u001b[0m\u001b[0;34m,\u001b[0m \u001b[0meps\u001b[0m \u001b[0;34m=\u001b[0m \u001b[0;36m8\u001b[0m\u001b[0;34m/\u001b[0m\u001b[0;36m255\u001b[0m\u001b[0;34m,\u001b[0m \u001b[0mnumber_of_replays\u001b[0m\u001b[0;34m=\u001b[0m\u001b[0;36m7\u001b[0m\u001b[0;34m)\u001b[0m\u001b[0;34m:\u001b[0m\u001b[0;34m\u001b[0m\u001b[0;34m\u001b[0m\u001b[0m\n",
      "\u001b[0;32m~/pytorch-network-pruning/src/training.py\u001b[0m in \u001b[0;36m_fit_fast\u001b[0;34m(model, train_loader, val_loader, epochs, device, eps)\u001b[0m\n\u001b[1;32m    249\u001b[0m             \u001b[0moptimizer\u001b[0m\u001b[0;34m.\u001b[0m\u001b[0mstep\u001b[0m\u001b[0;34m(\u001b[0m\u001b[0;34m)\u001b[0m\u001b[0;34m\u001b[0m\u001b[0;34m\u001b[0m\u001b[0m\n\u001b[1;32m    250\u001b[0m \u001b[0;34m\u001b[0m\u001b[0m\n\u001b[0;32m--> 251\u001b[0;31m             \u001b[0maccuracy\u001b[0m \u001b[0;34m=\u001b[0m \u001b[0mget_accuracy\u001b[0m\u001b[0;34m(\u001b[0m\u001b[0mlabels\u001b[0m\u001b[0;34m,\u001b[0m \u001b[0moutputs\u001b[0m\u001b[0;34m)\u001b[0m\u001b[0;34m\u001b[0m\u001b[0;34m\u001b[0m\u001b[0m\n\u001b[0m\u001b[1;32m    252\u001b[0m             \u001b[0macc_epoch_loss\u001b[0m \u001b[0;34m+=\u001b[0m \u001b[0mloss\u001b[0m\u001b[0;34m.\u001b[0m\u001b[0mitem\u001b[0m\u001b[0;34m(\u001b[0m\u001b[0;34m)\u001b[0m\u001b[0;34m\u001b[0m\u001b[0;34m\u001b[0m\u001b[0m\n\u001b[1;32m    253\u001b[0m             \u001b[0mavg_epoch_loss\u001b[0m \u001b[0;34m=\u001b[0m \u001b[0macc_epoch_loss\u001b[0m \u001b[0;34m/\u001b[0m \u001b[0;34m(\u001b[0m\u001b[0mi\u001b[0m\u001b[0;34m+\u001b[0m\u001b[0;36m1\u001b[0m\u001b[0;34m)\u001b[0m\u001b[0;34m\u001b[0m\u001b[0;34m\u001b[0m\u001b[0m\n",
      "\u001b[0;32m~/pytorch-network-pruning/src/training.py\u001b[0m in \u001b[0;36mget_accuracy\u001b[0;34m(labels, outputs)\u001b[0m\n\u001b[1;32m    354\u001b[0m \u001b[0;34m\u001b[0m\u001b[0m\n\u001b[1;32m    355\u001b[0m     \u001b[0mtotal\u001b[0m \u001b[0;34m=\u001b[0m \u001b[0mlabels\u001b[0m\u001b[0;34m.\u001b[0m\u001b[0msize\u001b[0m\u001b[0;34m(\u001b[0m\u001b[0;36m0\u001b[0m\u001b[0;34m)\u001b[0m\u001b[0;34m\u001b[0m\u001b[0;34m\u001b[0m\u001b[0m\n\u001b[0;32m--> 356\u001b[0;31m     \u001b[0mcorrect\u001b[0m \u001b[0;34m=\u001b[0m \u001b[0;34m(\u001b[0m\u001b[0mpredicted\u001b[0m \u001b[0;34m==\u001b[0m \u001b[0mlabels\u001b[0m\u001b[0;34m)\u001b[0m\u001b[0;34m.\u001b[0m\u001b[0msum\u001b[0m\u001b[0;34m(\u001b[0m\u001b[0;34m)\u001b[0m\u001b[0;34m.\u001b[0m\u001b[0mitem\u001b[0m\u001b[0;34m(\u001b[0m\u001b[0;34m)\u001b[0m\u001b[0;34m\u001b[0m\u001b[0;34m\u001b[0m\u001b[0m\n\u001b[0m\u001b[1;32m    357\u001b[0m     \u001b[0;32mreturn\u001b[0m \u001b[0;36m100\u001b[0m \u001b[0;34m*\u001b[0m \u001b[0mcorrect\u001b[0m \u001b[0;34m/\u001b[0m \u001b[0mtotal\u001b[0m\u001b[0;34m\u001b[0m\u001b[0;34m\u001b[0m\u001b[0m\n\u001b[1;32m    358\u001b[0m \u001b[0;34m\u001b[0m\u001b[0m\n",
      "\u001b[0;31mKeyboardInterrupt\u001b[0m: "
     ]
    }
   ],
   "source": [
    "fast_stats = run('fast')"
   ]
  },
  {
   "cell_type": "code",
   "execution_count": null,
   "metadata": {
    "scrolled": false
   },
   "outputs": [
    {
     "name": "stdout",
     "output_type": "stream",
     "text": [
      "identifying layers\n",
      "[1,     1] loss: 4.04980, train_accuracy: 4.44\n",
      "[1,     2] loss: 3.13854, train_accuracy: 5.86\n",
      "[1,     3] loss: 2.63508, train_accuracy: 10.21\n",
      "[1,     4] loss: 2.44655, train_accuracy: 15.32\n",
      "[1,     5] loss: 2.31197, train_accuracy: 18.89\n",
      "[1,     6] loss: 2.36261, train_accuracy: 16.88\n",
      "[1,     7] loss: 2.33470, train_accuracy: 19.06\n",
      "[1,     8] loss: 2.32105, train_accuracy: 18.72\n",
      "[1,     9] loss: 2.27571, train_accuracy: 18.08\n",
      "[1,    10] loss: 2.23458, train_accuracy: 20.93\n",
      "[1,    11] loss: 2.20737, train_accuracy: 20.59\n",
      "[1,    12] loss: 2.24530, train_accuracy: 20.59\n",
      "[1,    13] loss: 2.24561, train_accuracy: 17.91\n",
      "[1,    14] loss: 2.16499, train_accuracy: 22.10\n",
      "[1,    15] loss: 2.18761, train_accuracy: 21.57\n",
      "[1,    16] loss: 2.17943, train_accuracy: 19.81\n",
      "[1,    17] loss: 2.14748, train_accuracy: 21.29\n",
      "[1,    18] loss: 2.14471, train_accuracy: 21.15\n",
      "[1,    19] loss: 2.21635, train_accuracy: 20.65\n",
      "[1,    20] loss: 2.14575, train_accuracy: 20.34\n",
      "[1,    21] loss: 2.19734, train_accuracy: 19.28\n",
      "[1,    22] loss: 2.16090, train_accuracy: 21.62\n",
      "[1,    23] loss: 2.15158, train_accuracy: 20.03\n",
      "[1,    24] loss: 2.12945, train_accuracy: 22.85\n",
      "[1,    25] loss: 2.12371, train_accuracy: 21.85\n",
      "[1,    26] loss: 2.15004, train_accuracy: 20.79\n",
      "[1,    27] loss: 2.14213, train_accuracy: 22.07\n",
      "[1,    28] loss: 2.13870, train_accuracy: 23.41\n",
      "[1,    29] loss: 2.11488, train_accuracy: 23.86\n",
      "[1,    30] loss: 2.09465, train_accuracy: 25.98\n",
      "[1,    31] loss: 2.08048, train_accuracy: 26.00\n",
      "[1,    32] loss: 2.08122, train_accuracy: 24.25\n",
      "[1,    33] loss: 2.10216, train_accuracy: 23.07\n",
      "[1,    34] loss: 2.09687, train_accuracy: 23.21\n",
      "[1,    35] loss: 2.10180, train_accuracy: 21.09\n",
      "[1,    36] loss: 2.11782, train_accuracy: 22.77\n",
      "[1,    37] loss: 2.11187, train_accuracy: 24.97\n",
      "[1,    38] loss: 1.99908, train_accuracy: 25.11\n",
      "[1,    39] loss: 2.19096, train_accuracy: 21.09\n",
      "[1,    40] loss: 2.08323, train_accuracy: 22.38\n",
      "[1,    41] loss: 2.05315, train_accuracy: 25.61\n",
      "[1,    42] loss: 2.02884, train_accuracy: 23.41\n",
      "[1,    43] loss: 2.05355, train_accuracy: 23.91\n",
      "[1,    44] loss: 2.07716, train_accuracy: 24.00\n",
      "[1,    45] loss: 2.08261, train_accuracy: 21.32\n",
      "[1,    46] loss: 2.06677, train_accuracy: 24.50\n",
      "[1,    47] loss: 2.08327, train_accuracy: 24.58\n",
      "[1,    48] loss: 2.12773, train_accuracy: 21.76\n",
      "[1,    49] loss: 2.10016, train_accuracy: 21.82\n",
      "[1,    50] loss: 2.08355, train_accuracy: 22.88\n",
      "[1,    51] loss: 2.06790, train_accuracy: 25.47\n",
      "[1,    52] loss: 2.04641, train_accuracy: 26.62\n",
      "[1,    53] loss: 2.13854, train_accuracy: 21.68\n",
      "[1,    54] loss: 2.04303, train_accuracy: 26.28\n",
      "[1,    55] loss: 2.05451, train_accuracy: 25.64\n",
      "[1,    56] loss: 2.02892, train_accuracy: 23.49\n",
      "[1,    57] loss: 2.01958, train_accuracy: 25.36\n",
      "[1,    58] loss: 2.05937, train_accuracy: 23.44\n",
      "[1,    59] loss: 2.06612, train_accuracy: 25.70\n",
      "[1,    60] loss: 2.07573, train_accuracy: 24.11\n",
      "[1,    61] loss: 2.04114, train_accuracy: 24.89\n",
      "[1,    62] loss: 2.07344, train_accuracy: 24.47\n",
      "[1,    63] loss: 2.02471, train_accuracy: 26.23\n",
      "[1,    64] loss: 2.06699, train_accuracy: 21.37\n",
      "[1,    65] loss: 2.03674, train_accuracy: 27.20\n",
      "[1,    66] loss: 2.08183, train_accuracy: 23.55\n",
      "[1,    67] loss: 1.98741, train_accuracy: 27.37\n",
      "[1,    68] loss: 2.05325, train_accuracy: 24.78\n",
      "[1,    69] loss: 2.05717, train_accuracy: 24.44\n",
      "[1,    70] loss: 2.08150, train_accuracy: 22.96\n",
      "[1,    71] loss: 2.01770, train_accuracy: 26.31\n",
      "[1,    72] loss: 2.06743, train_accuracy: 21.68\n",
      "[1,    73] loss: 2.02195, train_accuracy: 24.44\n",
      "[1,    74] loss: 2.06858, train_accuracy: 23.72\n",
      "[1,    75] loss: 1.98233, train_accuracy: 23.35\n",
      "[1,    76] loss: 2.01700, train_accuracy: 25.64\n",
      "[1,    77] loss: 2.02703, train_accuracy: 26.84\n",
      "[1,    78] loss: 1.99732, train_accuracy: 26.51\n",
      "[1,    79] loss: 1.99230, train_accuracy: 26.12\n",
      "[1,    80] loss: 2.01913, train_accuracy: 24.19\n",
      "[1,    81] loss: 2.11134, train_accuracy: 22.49\n",
      "[1,    82] loss: 2.05457, train_accuracy: 22.68\n",
      "[1,    83] loss: 2.03224, train_accuracy: 25.73\n",
      "[1,    84] loss: 2.02496, train_accuracy: 22.68\n",
      "[1,    85] loss: 2.00904, train_accuracy: 26.79\n",
      "[1,    86] loss: 1.99838, train_accuracy: 24.33\n",
      "[1,    87] loss: 2.08586, train_accuracy: 22.07\n",
      "[1,    88] loss: 1.97846, train_accuracy: 26.70\n",
      "[1,    89] loss: 2.01392, train_accuracy: 24.72\n",
      "[1,    90] loss: 1.99052, train_accuracy: 26.81\n",
      "[1,    91] loss: 1.98854, train_accuracy: 28.24\n",
      "[1,    92] loss: 2.04246, train_accuracy: 23.69\n",
      "[1,    93] loss: 2.00620, train_accuracy: 25.08\n",
      "[1,    94] loss: 2.00862, train_accuracy: 25.84\n",
      "[1,    95] loss: 2.00938, train_accuracy: 27.06\n",
      "[1,    96] loss: 1.92585, train_accuracy: 29.32\n",
      "[1,    97] loss: 1.98658, train_accuracy: 27.26\n",
      "[1,    98] loss: 1.96286, train_accuracy: 25.09\n",
      "duration: 63 s - train loss: 104.33285 - train accuracy: 1122.15 - validation loss: 1.82 - validation accuracy: 34.49 \n",
      "[2,     1] loss: 1.99287, train_accuracy: 29.07\n",
      "[2,     2] loss: 1.98921, train_accuracy: 25.59\n",
      "[2,     3] loss: 1.97427, train_accuracy: 26.45\n",
      "[2,     4] loss: 1.96662, train_accuracy: 28.24\n",
      "[2,     5] loss: 1.97793, train_accuracy: 26.65\n",
      "[2,     6] loss: 2.01366, train_accuracy: 25.53\n",
      "[2,     7] loss: 1.97081, train_accuracy: 26.53\n",
      "[2,     8] loss: 1.98374, train_accuracy: 25.67\n",
      "[2,     9] loss: 1.95818, train_accuracy: 25.81\n",
      "[2,    10] loss: 1.98652, train_accuracy: 24.97\n",
      "[2,    11] loss: 1.94863, train_accuracy: 27.12\n",
      "[2,    12] loss: 1.94271, train_accuracy: 28.12\n",
      "[2,    13] loss: 1.95246, train_accuracy: 27.26\n",
      "[2,    14] loss: 2.08117, train_accuracy: 25.22\n",
      "[2,    15] loss: 2.02630, train_accuracy: 25.53\n",
      "[2,    16] loss: 2.04464, train_accuracy: 23.55\n",
      "[2,    17] loss: 1.99249, train_accuracy: 27.59\n",
      "[2,    18] loss: 1.98041, train_accuracy: 25.20\n",
      "[2,    19] loss: 1.98289, train_accuracy: 27.40\n",
      "[2,    20] loss: 1.98436, train_accuracy: 24.47\n",
      "[2,    21] loss: 2.03108, train_accuracy: 25.56\n",
      "[2,    22] loss: 1.99577, train_accuracy: 24.22\n",
      "[2,    23] loss: 1.91935, train_accuracy: 26.90\n",
      "[2,    24] loss: 1.96778, train_accuracy: 28.68\n",
      "[2,    25] loss: 1.97098, train_accuracy: 27.40\n",
      "[2,    26] loss: 2.01032, train_accuracy: 24.16\n",
      "[2,    27] loss: 1.99801, train_accuracy: 25.06\n",
      "[2,    28] loss: 1.91802, train_accuracy: 29.69\n",
      "[2,    29] loss: 1.96475, train_accuracy: 26.00\n",
      "[2,    30] loss: 2.02520, train_accuracy: 23.44\n",
      "[2,    31] loss: 1.99921, train_accuracy: 25.56\n",
      "[2,    32] loss: 1.94820, train_accuracy: 25.75\n",
      "[2,    33] loss: 1.97549, train_accuracy: 27.20\n",
      "[2,    34] loss: 1.97715, train_accuracy: 26.84\n",
      "[2,    35] loss: 2.03550, train_accuracy: 25.50\n",
      "[2,    36] loss: 1.99350, train_accuracy: 26.48\n",
      "[2,    37] loss: 1.93222, train_accuracy: 26.95\n",
      "[2,    38] loss: 2.00467, train_accuracy: 25.86\n",
      "[2,    39] loss: 1.97302, train_accuracy: 27.96\n",
      "[2,    40] loss: 1.99176, train_accuracy: 26.42\n",
      "[2,    41] loss: 1.91130, train_accuracy: 28.01\n",
      "[2,    42] loss: 2.00009, train_accuracy: 24.75\n",
      "[2,    43] loss: 1.95383, train_accuracy: 27.68\n",
      "[2,    44] loss: 1.95704, train_accuracy: 27.29\n",
      "[2,    45] loss: 1.91814, train_accuracy: 30.41\n",
      "[2,    46] loss: 1.98525, train_accuracy: 27.43\n",
      "[2,    47] loss: 2.01787, train_accuracy: 25.81\n",
      "[2,    48] loss: 1.97776, train_accuracy: 26.28\n",
      "[2,    49] loss: 1.91733, train_accuracy: 29.07\n",
      "[2,    50] loss: 2.04699, train_accuracy: 24.64\n",
      "[2,    51] loss: 1.90539, train_accuracy: 28.21\n",
      "[2,    52] loss: 1.88235, train_accuracy: 29.63\n",
      "[2,    53] loss: 1.95741, train_accuracy: 27.65\n",
      "[2,    54] loss: 1.92423, train_accuracy: 27.76\n",
      "[2,    55] loss: 1.99077, train_accuracy: 27.29\n",
      "[2,    56] loss: 1.95184, train_accuracy: 27.65\n",
      "[2,    57] loss: 1.94359, train_accuracy: 28.88\n",
      "[2,    58] loss: 1.93244, train_accuracy: 29.38\n",
      "[2,    59] loss: 1.92663, train_accuracy: 29.63\n",
      "[2,    60] loss: 1.95002, train_accuracy: 28.12\n",
      "[2,    61] loss: 1.87686, train_accuracy: 30.75\n",
      "[2,    62] loss: 1.96353, train_accuracy: 28.85\n",
      "[2,    63] loss: 1.96925, train_accuracy: 26.81\n",
      "[2,    64] loss: 1.90934, train_accuracy: 29.44\n",
      "[2,    65] loss: 1.91778, train_accuracy: 30.41\n",
      "[2,    66] loss: 1.93101, train_accuracy: 30.94\n",
      "[2,    67] loss: 1.94899, train_accuracy: 24.83\n",
      "[2,    68] loss: 1.92092, train_accuracy: 26.34\n",
      "[2,    69] loss: 1.91439, train_accuracy: 29.94\n",
      "[2,    70] loss: 1.90840, train_accuracy: 32.45\n"
     ]
    },
    {
     "name": "stdout",
     "output_type": "stream",
     "text": [
      "[2,    71] loss: 1.96260, train_accuracy: 29.72\n",
      "[2,    72] loss: 1.92929, train_accuracy: 29.77\n",
      "[2,    73] loss: 1.94031, train_accuracy: 28.85\n",
      "[2,    74] loss: 1.90231, train_accuracy: 28.66\n",
      "[2,    75] loss: 2.04087, train_accuracy: 23.94\n",
      "[2,    76] loss: 1.95751, train_accuracy: 28.21\n",
      "[2,    77] loss: 1.91723, train_accuracy: 27.40\n",
      "[2,    78] loss: 1.96543, train_accuracy: 28.93\n",
      "[2,    79] loss: 1.98063, train_accuracy: 24.89\n",
      "[2,    80] loss: 1.90134, train_accuracy: 28.12\n",
      "[2,    81] loss: 1.92274, train_accuracy: 28.99\n",
      "[2,    82] loss: 1.98986, train_accuracy: 27.26\n",
      "[2,    83] loss: 1.97384, train_accuracy: 26.56\n",
      "[2,    84] loss: 1.96078, train_accuracy: 27.96\n",
      "[2,    85] loss: 1.92282, train_accuracy: 28.40\n",
      "[2,    86] loss: 1.90109, train_accuracy: 28.52\n",
      "[2,    87] loss: 1.92160, train_accuracy: 30.44\n",
      "[2,    88] loss: 1.90432, train_accuracy: 31.19\n",
      "[2,    89] loss: 1.90042, train_accuracy: 29.83\n",
      "[2,    90] loss: 1.86666, train_accuracy: 32.48\n",
      "[2,    91] loss: 1.94562, train_accuracy: 27.37\n",
      "[2,    92] loss: 1.97157, train_accuracy: 27.06\n",
      "[2,    93] loss: 1.91374, train_accuracy: 27.23\n",
      "[2,    94] loss: 1.91388, train_accuracy: 28.82\n",
      "[2,    95] loss: 1.92798, train_accuracy: 26.98\n",
      "[2,    96] loss: 1.86545, train_accuracy: 27.01\n",
      "[2,    97] loss: 1.94576, train_accuracy: 29.85\n",
      "[2,    98] loss: 2.00089, train_accuracy: 26.15\n",
      "duration: 63 s - train loss: 95.96957 - train accuracy: 1344.28 - validation loss: 1.73 - validation accuracy: 38.24 \n",
      "[3,     1] loss: 1.93920, train_accuracy: 29.69\n"
     ]
    }
   ],
   "source": [
    "free_stats = run('free')"
   ]
  },
  {
   "cell_type": "code",
   "execution_count": null,
   "metadata": {
    "scrolled": false
   },
   "outputs": [],
   "source": [
    "double_stats = run('fast_double')"
   ]
  },
  {
   "cell_type": "code",
   "execution_count": 7,
   "metadata": {},
   "outputs": [],
   "source": [
    "images, labels = next(iter(test_loader))\n",
    "images, labels = images.to(device), labels.to(device)\n"
   ]
  },
  {
   "cell_type": "code",
   "execution_count": 4,
   "metadata": {},
   "outputs": [],
   "source": [
    "from foolbox import PyTorchModel, accuracy, samples\n",
    "from foolbox.attacks import LinfPGD, FGSM, L0BrendelBethgeAttack, L2CarliniWagnerAttack\n",
    "\n",
    "epochs = 3\n",
    "\n",
    "\n",
    "def run(training_method):\n",
    "    model = CIFAR_CNN().to(device)\n",
    "    #print(model.device)\n",
    "    compression_rates = [1,2,4,8,16]\n",
    "    stats = {}\n",
    "    for ratio in compression_rates:\n",
    "        fit = get_train_method(model, training_method)\n",
    "        model.prune_magnitude_global_unstruct(1-1/ratio, device)\n",
    "        #print(fit)\n",
    "        train_data = fit(train_loader, test_loader, epochs, device, eps=8/255)\n",
    "        images, labels = next(iter(test_loader))\n",
    "        images, labels = images.to(device), labels.to(device)\n",
    "        #stats[f'ratio']['l0_robustness'] = bb_attack(model, images, labels)\n",
    "        #print('bb done')\n",
    "        stats[f'{ratio}'] = {}\n",
    "        stats[f'{ratio}']['l2_robustness'] = cw_attack(model, images, labels)\n",
    "        print('cw done')\n",
    "        stats[f'{ratio}']['linf_robustness'] = pgd_attack(model, images, labels)\n",
    "        print('pgd done')\n",
    "        stats[f'{ratio}']['clean_accuracy'] = train_data['val_accuracy']\n",
    "        \n",
    "    return(stats)\n",
    "        \n",
    "        \n",
    "        \n",
    "\n",
    "def get_train_method(model, method):\n",
    "    if method=='standard':\n",
    "        return model.fit\n",
    "    if method=='free':\n",
    "        return model.fit_free\n",
    "    if method=='fast':\n",
    "        return model.fit_fast\n",
    "    if method=='fast_double':\n",
    "        return model.fit_fast_with_double_update"
   ]
  },
  {
   "cell_type": "code",
   "execution_count": 5,
   "metadata": {},
   "outputs": [],
   "source": [
    "def bb_attack(model, images, labels, eps=8/255):\n",
    "    model.eval()\n",
    "    fmodel = PyTorchModel(model, bounds=(0, 1))\n",
    "    print('1')\n",
    "    attack = L0BrendelBethgeAttack()\n",
    "    print('2')\n",
    "    raw_advs, clipped_advs, success = attack(fmodel, images, labels, epsilons=eps)\n",
    "    print('3')\n",
    "    model.train()\n",
    "\n",
    "    return torch.sum(success)/len(success)\n",
    "\n",
    "def cw_attack(model, images, labels, eps=8/255):\n",
    "    model.eval()\n",
    "    fmodel = PyTorchModel(model, bounds=(0, 1))\n",
    "    attack = L2CarliniWagnerAttack()\n",
    "    raw_advs, clipped_advs, success = attack(fmodel, images, labels, epsilons=eps)\n",
    "    model.train()\n",
    "\n",
    "    return torch.sum(success)/len(success)\n",
    "\n",
    "def pgd_attack(model, images, labels, eps=8/255):\n",
    "    model.eval()\n",
    "    fmodel = PyTorchModel(model, bounds=(0, 1))\n",
    "    attack = LinfPGD()\n",
    "    raw_advs, clipped_advs, success = attack(fmodel, images, labels, epsilons=eps)\n",
    "    model.train()\n",
    "\n",
    "    return torch.sum(success)/len(success)"
   ]
  },
  {
   "cell_type": "code",
   "execution_count": 8,
   "metadata": {},
   "outputs": [
    {
     "name": "stdout",
     "output_type": "stream",
     "text": [
      "1\n",
      "2\n"
     ]
    },
    {
     "ename": "KeyboardInterrupt",
     "evalue": "",
     "output_type": "error",
     "traceback": [
      "\u001b[0;31m---------------------------------------------------------------------------\u001b[0m",
      "\u001b[0;31mKeyboardInterrupt\u001b[0m                         Traceback (most recent call last)",
      "\u001b[0;32m<ipython-input-8-dfacbe3fe888>\u001b[0m in \u001b[0;36m<module>\u001b[0;34m\u001b[0m\n\u001b[0;32m----> 1\u001b[0;31m \u001b[0mbb_attack\u001b[0m\u001b[0;34m(\u001b[0m\u001b[0mmodel\u001b[0m\u001b[0;34m,\u001b[0m \u001b[0mimages\u001b[0m\u001b[0;34m,\u001b[0m \u001b[0mlabels\u001b[0m\u001b[0;34m)\u001b[0m\u001b[0;34m\u001b[0m\u001b[0;34m\u001b[0m\u001b[0m\n\u001b[0m",
      "\u001b[0;32m<ipython-input-7-7d2c3af936e4>\u001b[0m in \u001b[0;36mbb_attack\u001b[0;34m(model, images, labels, eps)\u001b[0m\n\u001b[1;32m      5\u001b[0m     \u001b[0mattack\u001b[0m \u001b[0;34m=\u001b[0m \u001b[0mL0BrendelBethgeAttack\u001b[0m\u001b[0;34m(\u001b[0m\u001b[0;34m)\u001b[0m\u001b[0;34m\u001b[0m\u001b[0;34m\u001b[0m\u001b[0m\n\u001b[1;32m      6\u001b[0m     \u001b[0mprint\u001b[0m\u001b[0;34m(\u001b[0m\u001b[0;34m'2'\u001b[0m\u001b[0;34m)\u001b[0m\u001b[0;34m\u001b[0m\u001b[0;34m\u001b[0m\u001b[0m\n\u001b[0;32m----> 7\u001b[0;31m     \u001b[0mraw_advs\u001b[0m\u001b[0;34m,\u001b[0m \u001b[0mclipped_advs\u001b[0m\u001b[0;34m,\u001b[0m \u001b[0msuccess\u001b[0m \u001b[0;34m=\u001b[0m \u001b[0mattack\u001b[0m\u001b[0;34m(\u001b[0m\u001b[0mfmodel\u001b[0m\u001b[0;34m,\u001b[0m \u001b[0mimages\u001b[0m\u001b[0;34m,\u001b[0m \u001b[0mlabels\u001b[0m\u001b[0;34m,\u001b[0m \u001b[0mepsilons\u001b[0m\u001b[0;34m=\u001b[0m\u001b[0meps\u001b[0m\u001b[0;34m)\u001b[0m\u001b[0;34m\u001b[0m\u001b[0;34m\u001b[0m\u001b[0m\n\u001b[0m\u001b[1;32m      8\u001b[0m     \u001b[0mprint\u001b[0m\u001b[0;34m(\u001b[0m\u001b[0;34m'3'\u001b[0m\u001b[0;34m)\u001b[0m\u001b[0;34m\u001b[0m\u001b[0;34m\u001b[0m\u001b[0m\n\u001b[1;32m      9\u001b[0m     \u001b[0mmodel\u001b[0m\u001b[0;34m.\u001b[0m\u001b[0mtrain\u001b[0m\u001b[0;34m(\u001b[0m\u001b[0;34m)\u001b[0m\u001b[0;34m\u001b[0m\u001b[0;34m\u001b[0m\u001b[0m\n",
      "\u001b[0;32m~/anaconda3/envs/DL/lib/python3.8/site-packages/foolbox/attacks/base.py\u001b[0m in \u001b[0;36m__call__\u001b[0;34m(***failed resolving arguments***)\u001b[0m\n\u001b[1;32m    408\u001b[0m \u001b[0;34m\u001b[0m\u001b[0m\n\u001b[1;32m    409\u001b[0m         \u001b[0;31m# run the actual attack\u001b[0m\u001b[0;34m\u001b[0m\u001b[0;34m\u001b[0m\u001b[0;34m\u001b[0m\u001b[0m\n\u001b[0;32m--> 410\u001b[0;31m         \u001b[0mxp\u001b[0m \u001b[0;34m=\u001b[0m \u001b[0mself\u001b[0m\u001b[0;34m.\u001b[0m\u001b[0mrun\u001b[0m\u001b[0;34m(\u001b[0m\u001b[0mmodel\u001b[0m\u001b[0;34m,\u001b[0m \u001b[0mx\u001b[0m\u001b[0;34m,\u001b[0m \u001b[0mcriterion\u001b[0m\u001b[0;34m,\u001b[0m \u001b[0mearly_stop\u001b[0m\u001b[0;34m=\u001b[0m\u001b[0mearly_stop\u001b[0m\u001b[0;34m,\u001b[0m \u001b[0;34m**\u001b[0m\u001b[0mkwargs\u001b[0m\u001b[0;34m)\u001b[0m\u001b[0;34m\u001b[0m\u001b[0;34m\u001b[0m\u001b[0m\n\u001b[0m\u001b[1;32m    411\u001b[0m \u001b[0;34m\u001b[0m\u001b[0m\n\u001b[1;32m    412\u001b[0m         \u001b[0mxpcs\u001b[0m \u001b[0;34m=\u001b[0m \u001b[0;34m[\u001b[0m\u001b[0;34m]\u001b[0m\u001b[0;34m\u001b[0m\u001b[0;34m\u001b[0m\u001b[0m\n",
      "\u001b[0;32m~/anaconda3/envs/DL/lib/python3.8/site-packages/foolbox/attacks/brendel_bethge.py\u001b[0m in \u001b[0;36mrun\u001b[0;34m(***failed resolving arguments***)\u001b[0m\n\u001b[1;32m    431\u001b[0m             \u001b[0;31m# TODO: use call and support all types of attacks (once early_stop is\u001b[0m\u001b[0;34m\u001b[0m\u001b[0;34m\u001b[0m\u001b[0;34m\u001b[0m\u001b[0m\n\u001b[1;32m    432\u001b[0m             \u001b[0;31m# possible in __call__)\u001b[0m\u001b[0;34m\u001b[0m\u001b[0;34m\u001b[0m\u001b[0;34m\u001b[0m\u001b[0m\n\u001b[0;32m--> 433\u001b[0;31m             \u001b[0mstarting_points\u001b[0m \u001b[0;34m=\u001b[0m \u001b[0minit_attack\u001b[0m\u001b[0;34m.\u001b[0m\u001b[0mrun\u001b[0m\u001b[0;34m(\u001b[0m\u001b[0mmodel\u001b[0m\u001b[0;34m,\u001b[0m \u001b[0moriginals\u001b[0m\u001b[0;34m,\u001b[0m \u001b[0mcriterion_\u001b[0m\u001b[0;34m)\u001b[0m\u001b[0;34m\u001b[0m\u001b[0;34m\u001b[0m\u001b[0m\n\u001b[0m\u001b[1;32m    434\u001b[0m \u001b[0;34m\u001b[0m\u001b[0m\n\u001b[1;32m    435\u001b[0m         \u001b[0mbest_advs\u001b[0m \u001b[0;34m=\u001b[0m \u001b[0mep\u001b[0m\u001b[0;34m.\u001b[0m\u001b[0mastensor\u001b[0m\u001b[0;34m(\u001b[0m\u001b[0mstarting_points\u001b[0m\u001b[0;34m)\u001b[0m\u001b[0;34m\u001b[0m\u001b[0;34m\u001b[0m\u001b[0m\n",
      "\u001b[0;32m~/anaconda3/envs/DL/lib/python3.8/site-packages/foolbox/attacks/blended_noise.py\u001b[0m in \u001b[0;36mrun\u001b[0;34m(***failed resolving arguments***)\u001b[0m\n\u001b[1;32m     99\u001b[0m             \u001b[0mbest\u001b[0m \u001b[0;34m=\u001b[0m \u001b[0mep\u001b[0m\u001b[0;34m.\u001b[0m\u001b[0mminimum\u001b[0m\u001b[0;34m(\u001b[0m\u001b[0mep\u001b[0m\u001b[0;34m.\u001b[0m\u001b[0mwhere\u001b[0m\u001b[0;34m(\u001b[0m\u001b[0mis_adv\u001b[0m\u001b[0;34m,\u001b[0m \u001b[0mepsilon\u001b[0m\u001b[0;34m,\u001b[0m \u001b[0;36m1.0\u001b[0m\u001b[0;34m)\u001b[0m\u001b[0;34m,\u001b[0m \u001b[0mbest\u001b[0m\u001b[0;34m)\u001b[0m\u001b[0;34m\u001b[0m\u001b[0;34m\u001b[0m\u001b[0m\n\u001b[1;32m    100\u001b[0m \u001b[0;34m\u001b[0m\u001b[0m\n\u001b[0;32m--> 101\u001b[0;31m             \u001b[0;32mif\u001b[0m \u001b[0;34m(\u001b[0m\u001b[0mbest\u001b[0m \u001b[0;34m<\u001b[0m \u001b[0;36m1\u001b[0m\u001b[0;34m)\u001b[0m\u001b[0;34m.\u001b[0m\u001b[0mall\u001b[0m\u001b[0;34m(\u001b[0m\u001b[0;34m)\u001b[0m\u001b[0;34m:\u001b[0m\u001b[0;34m\u001b[0m\u001b[0;34m\u001b[0m\u001b[0m\n\u001b[0m\u001b[1;32m    102\u001b[0m                 \u001b[0;32mbreak\u001b[0m\u001b[0;34m\u001b[0m\u001b[0;34m\u001b[0m\u001b[0m\n\u001b[1;32m    103\u001b[0m \u001b[0;34m\u001b[0m\u001b[0m\n",
      "\u001b[0;32m~/anaconda3/envs/DL/lib/python3.8/site-packages/eagerpy/tensor/base.py\u001b[0m in \u001b[0;36m__bool__\u001b[0;34m(self)\u001b[0m\n\u001b[1;32m     48\u001b[0m     \u001b[0;34m@\u001b[0m\u001b[0mfinal\u001b[0m\u001b[0;34m\u001b[0m\u001b[0;34m\u001b[0m\u001b[0m\n\u001b[1;32m     49\u001b[0m     \u001b[0;32mdef\u001b[0m \u001b[0m__bool__\u001b[0m\u001b[0;34m(\u001b[0m\u001b[0mself\u001b[0m\u001b[0;34m:\u001b[0m \u001b[0mTensorType\u001b[0m\u001b[0;34m)\u001b[0m \u001b[0;34m->\u001b[0m \u001b[0mbool\u001b[0m\u001b[0;34m:\u001b[0m\u001b[0;34m\u001b[0m\u001b[0;34m\u001b[0m\u001b[0m\n\u001b[0;32m---> 50\u001b[0;31m         \u001b[0;32mreturn\u001b[0m \u001b[0mbool\u001b[0m\u001b[0;34m(\u001b[0m\u001b[0mself\u001b[0m\u001b[0;34m.\u001b[0m\u001b[0mraw\u001b[0m\u001b[0;34m)\u001b[0m\u001b[0;34m\u001b[0m\u001b[0;34m\u001b[0m\u001b[0m\n\u001b[0m\u001b[1;32m     51\u001b[0m \u001b[0;34m\u001b[0m\u001b[0m\n\u001b[1;32m     52\u001b[0m     \u001b[0;34m@\u001b[0m\u001b[0mfinal\u001b[0m\u001b[0;34m\u001b[0m\u001b[0;34m\u001b[0m\u001b[0m\n",
      "\u001b[0;31mKeyboardInterrupt\u001b[0m: "
     ]
    }
   ],
   "source": [
    "bb_attack(model, images, labels)"
   ]
  },
  {
   "cell_type": "code",
   "execution_count": null,
   "metadata": {},
   "outputs": [],
   "source": []
  },
  {
   "cell_type": "code",
   "execution_count": null,
   "metadata": {},
   "outputs": [],
   "source": []
  },
  {
   "cell_type": "code",
   "execution_count": 9,
   "metadata": {},
   "outputs": [
    {
     "data": {
      "text/plain": [
       "tensor(0.3359, device='cuda:0')"
      ]
     },
     "execution_count": 9,
     "metadata": {},
     "output_type": "execute_result"
    }
   ],
   "source": [
    "pgd_attack(model, images, labels, eps=8/255)"
   ]
  },
  {
   "cell_type": "code",
   "execution_count": 10,
   "metadata": {},
   "outputs": [
    {
     "data": {
      "text/plain": [
       "tensor(0.2656, device='cuda:0')"
      ]
     },
     "execution_count": 10,
     "metadata": {},
     "output_type": "execute_result"
    }
   ],
   "source": [
    "cw_attack(model, images, labels, eps=8/255)"
   ]
  },
  {
   "cell_type": "code",
   "execution_count": 13,
   "metadata": {},
   "outputs": [
    {
     "ename": "NameError",
     "evalue": "name 'L0BrendelBethgeAttackfoolbox' is not defined",
     "output_type": "error",
     "traceback": [
      "\u001b[0;31m---------------------------------------------------------------------------\u001b[0m",
      "\u001b[0;31mNameError\u001b[0m                                 Traceback (most recent call last)",
      "\u001b[0;32m<ipython-input-13-dfacbe3fe888>\u001b[0m in \u001b[0;36m<module>\u001b[0;34m\u001b[0m\n\u001b[0;32m----> 1\u001b[0;31m \u001b[0mbb_attack\u001b[0m\u001b[0;34m(\u001b[0m\u001b[0mmodel\u001b[0m\u001b[0;34m,\u001b[0m \u001b[0mimages\u001b[0m\u001b[0;34m,\u001b[0m \u001b[0mlabels\u001b[0m\u001b[0;34m)\u001b[0m\u001b[0;34m\u001b[0m\u001b[0;34m\u001b[0m\u001b[0m\n\u001b[0m",
      "\u001b[0;32m<ipython-input-12-86be568580be>\u001b[0m in \u001b[0;36mbb_attack\u001b[0;34m(model, images, labels, eps)\u001b[0m\n\u001b[1;32m      2\u001b[0m     \u001b[0mmodel\u001b[0m\u001b[0;34m.\u001b[0m\u001b[0meval\u001b[0m\u001b[0;34m(\u001b[0m\u001b[0;34m)\u001b[0m\u001b[0;34m\u001b[0m\u001b[0;34m\u001b[0m\u001b[0m\n\u001b[1;32m      3\u001b[0m     \u001b[0mfmodel\u001b[0m \u001b[0;34m=\u001b[0m \u001b[0mPyTorchModel\u001b[0m\u001b[0;34m(\u001b[0m\u001b[0mmodel\u001b[0m\u001b[0;34m,\u001b[0m \u001b[0mbounds\u001b[0m\u001b[0;34m=\u001b[0m\u001b[0;34m(\u001b[0m\u001b[0;36m0\u001b[0m\u001b[0;34m,\u001b[0m \u001b[0;36m1\u001b[0m\u001b[0;34m)\u001b[0m\u001b[0;34m)\u001b[0m\u001b[0;34m\u001b[0m\u001b[0;34m\u001b[0m\u001b[0m\n\u001b[0;32m----> 4\u001b[0;31m     \u001b[0mattack\u001b[0m \u001b[0;34m=\u001b[0m \u001b[0mL0BrendelBethgeAttackfoolbox\u001b[0m\u001b[0;34m.\u001b[0m\u001b[0mattacks\u001b[0m\u001b[0;34m.\u001b[0m\u001b[0mL0BrendelBethgeAttack\u001b[0m\u001b[0;34m(\u001b[0m\u001b[0movershoot\u001b[0m\u001b[0;34m=\u001b[0m\u001b[0;36m1.1\u001b[0m\u001b[0;34m,\u001b[0m \u001b[0msteps\u001b[0m\u001b[0;34m=\u001b[0m\u001b[0;36m10\u001b[0m\u001b[0;34m,\u001b[0m \u001b[0mlr\u001b[0m\u001b[0;34m=\u001b[0m\u001b[0;36m0.001\u001b[0m\u001b[0;34m,\u001b[0m \u001b[0mlr_decay\u001b[0m\u001b[0;34m=\u001b[0m\u001b[0;36m0.5\u001b[0m\u001b[0;34m,\u001b[0m \u001b[0mlr_num_decay\u001b[0m\u001b[0;34m=\u001b[0m\u001b[0;36m10\u001b[0m\u001b[0;34m,\u001b[0m \u001b[0mmomentum\u001b[0m\u001b[0;34m=\u001b[0m\u001b[0;36m0.8\u001b[0m\u001b[0;34m,\u001b[0m \u001b[0mtensorboard\u001b[0m\u001b[0;34m=\u001b[0m\u001b[0;32mFalse\u001b[0m\u001b[0;34m,\u001b[0m \u001b[0mbinary_search_steps\u001b[0m\u001b[0;34m=\u001b[0m\u001b[0;36m1\u001b[0m\u001b[0;34m)\u001b[0m\u001b[0;34m\u001b[0m\u001b[0;34m\u001b[0m\u001b[0m\n\u001b[0m\u001b[1;32m      5\u001b[0m     \u001b[0mraw_advs\u001b[0m\u001b[0;34m,\u001b[0m \u001b[0mclipped_advs\u001b[0m\u001b[0;34m,\u001b[0m \u001b[0msuccess\u001b[0m \u001b[0;34m=\u001b[0m \u001b[0mattack\u001b[0m\u001b[0;34m(\u001b[0m\u001b[0mfmodel\u001b[0m\u001b[0;34m,\u001b[0m \u001b[0mimages\u001b[0m\u001b[0;34m,\u001b[0m \u001b[0mlabels\u001b[0m\u001b[0;34m,\u001b[0m \u001b[0mepsilons\u001b[0m\u001b[0;34m=\u001b[0m\u001b[0meps\u001b[0m\u001b[0;34m)\u001b[0m\u001b[0;34m\u001b[0m\u001b[0;34m\u001b[0m\u001b[0m\n\u001b[1;32m      6\u001b[0m     \u001b[0mmodel\u001b[0m\u001b[0;34m.\u001b[0m\u001b[0mtrain\u001b[0m\u001b[0;34m(\u001b[0m\u001b[0;34m)\u001b[0m\u001b[0;34m\u001b[0m\u001b[0;34m\u001b[0m\u001b[0m\n",
      "\u001b[0;31mNameError\u001b[0m: name 'L0BrendelBethgeAttackfoolbox' is not defined"
     ]
    }
   ],
   "source": [
    "bb_attack(model, images, labels)"
   ]
  },
  {
   "cell_type": "code",
   "execution_count": null,
   "metadata": {},
   "outputs": [],
   "source": []
  },
  {
   "cell_type": "code",
   "execution_count": null,
   "metadata": {},
   "outputs": [],
   "source": []
  },
  {
   "cell_type": "code",
   "execution_count": null,
   "metadata": {},
   "outputs": [],
   "source": []
  },
  {
   "cell_type": "markdown",
   "metadata": {},
   "source": [
    "# Test"
   ]
  },
  {
   "cell_type": "code",
   "execution_count": 4,
   "metadata": {},
   "outputs": [
    {
     "name": "stdout",
     "output_type": "stream",
     "text": [
      "[1,     1] loss: 4.13015, train_accuracy: 4.17\n",
      "[1,     2] loss: 3.66484, train_accuracy: 4.88\n",
      "[1,     3] loss: 3.12940, train_accuracy: 6.97\n",
      "[1,     4] loss: 2.90560, train_accuracy: 8.98\n",
      "[1,     5] loss: 2.72787, train_accuracy: 9.70\n",
      "[1,     6] loss: 2.53809, train_accuracy: 10.22\n",
      "[1,     7] loss: 2.40960, train_accuracy: 15.62\n",
      "[1,     8] loss: 2.43231, train_accuracy: 14.13\n",
      "[1,     9] loss: 2.44054, train_accuracy: 14.78\n",
      "[1,    10] loss: 2.36526, train_accuracy: 17.90\n",
      "[1,    11] loss: 2.37196, train_accuracy: 19.01\n",
      "[1,    12] loss: 2.28873, train_accuracy: 18.49\n",
      "[1,    13] loss: 2.31310, train_accuracy: 14.58\n",
      "[1,    14] loss: 2.30206, train_accuracy: 18.55\n",
      "[1,    15] loss: 2.27567, train_accuracy: 15.89\n",
      "[1,    16] loss: 2.21592, train_accuracy: 18.03\n",
      "[1,    17] loss: 2.19046, train_accuracy: 20.05\n",
      "[1,    18] loss: 2.15967, train_accuracy: 23.11\n",
      "[1,    19] loss: 2.23406, train_accuracy: 18.68\n",
      "[1,    20] loss: 2.25862, train_accuracy: 17.45\n",
      "[1,    21] loss: 2.12274, train_accuracy: 23.24\n",
      "[1,    22] loss: 2.17765, train_accuracy: 20.05\n",
      "[1,    23] loss: 2.17858, train_accuracy: 23.18\n",
      "[1,    24] loss: 2.23169, train_accuracy: 17.32\n",
      "[1,    25] loss: 2.18564, train_accuracy: 17.97\n",
      "[1,    26] loss: 2.19388, train_accuracy: 19.53\n",
      "[1,    27] loss: 2.15015, train_accuracy: 19.08\n",
      "[1,    28] loss: 2.12199, train_accuracy: 21.61\n",
      "[1,    29] loss: 2.18580, train_accuracy: 18.62\n",
      "[1,    30] loss: 2.16209, train_accuracy: 21.81\n",
      "[1,    31] loss: 2.14573, train_accuracy: 22.85\n",
      "[1,    32] loss: 2.13041, train_accuracy: 24.48\n",
      "[1,    33] loss: 2.16252, train_accuracy: 20.05\n",
      "[1,    34] loss: 2.13558, train_accuracy: 23.44\n",
      "[1,    35] loss: 2.16724, train_accuracy: 19.86\n",
      "[1,    36] loss: 2.21078, train_accuracy: 17.84\n",
      "[1,    37] loss: 2.18081, train_accuracy: 18.82\n",
      "[1,    38] loss: 2.14555, train_accuracy: 20.05\n",
      "[1,    39] loss: 2.11903, train_accuracy: 21.22\n",
      "[1,    40] loss: 2.17089, train_accuracy: 20.64\n",
      "[1,    41] loss: 2.19014, train_accuracy: 18.23\n",
      "[1,    42] loss: 2.15069, train_accuracy: 25.00\n",
      "[1,    43] loss: 2.12383, train_accuracy: 24.93\n",
      "[1,    44] loss: 2.07686, train_accuracy: 24.87\n",
      "[1,    45] loss: 2.10713, train_accuracy: 22.14\n",
      "[1,    46] loss: 2.08371, train_accuracy: 24.80\n",
      "[1,    47] loss: 2.16578, train_accuracy: 20.83\n",
      "[1,    48] loss: 2.16394, train_accuracy: 22.40\n",
      "[1,    49] loss: 2.09479, train_accuracy: 23.57\n",
      "[1,    50] loss: 2.19689, train_accuracy: 17.90\n",
      "[1,    51] loss: 2.14077, train_accuracy: 22.85\n",
      "[1,    52] loss: 2.09430, train_accuracy: 22.85\n",
      "[1,    53] loss: 2.10679, train_accuracy: 22.01\n",
      "[1,    54] loss: 2.15999, train_accuracy: 20.70\n",
      "[1,    55] loss: 2.20202, train_accuracy: 18.82\n",
      "[1,    56] loss: 2.14481, train_accuracy: 20.70\n",
      "[1,    57] loss: 2.10255, train_accuracy: 22.33\n",
      "[1,    58] loss: 2.05739, train_accuracy: 23.89\n",
      "[1,    59] loss: 2.07499, train_accuracy: 23.63\n",
      "[1,    60] loss: 2.09256, train_accuracy: 22.01\n",
      "[1,    61] loss: 2.14301, train_accuracy: 22.14\n",
      "[1,    62] loss: 2.12803, train_accuracy: 22.79\n",
      "[1,    63] loss: 2.04009, train_accuracy: 25.46\n",
      "[1,    64] loss: 2.10628, train_accuracy: 21.88\n",
      "[1,    65] loss: 2.10198, train_accuracy: 20.90\n",
      "[1,    66] loss: 2.08540, train_accuracy: 24.15\n",
      "[1,    67] loss: 2.07839, train_accuracy: 22.98\n",
      "[1,    68] loss: 2.07711, train_accuracy: 22.98\n",
      "[1,    69] loss: 2.06060, train_accuracy: 20.31\n",
      "[1,    70] loss: 2.06125, train_accuracy: 25.65\n",
      "[1,    71] loss: 2.08271, train_accuracy: 26.24\n",
      "[1,    72] loss: 2.01735, train_accuracy: 26.43\n",
      "[1,    73] loss: 2.06047, train_accuracy: 23.83\n",
      "[1,    74] loss: 2.08206, train_accuracy: 22.01\n",
      "[1,    75] loss: 2.01236, train_accuracy: 25.72\n",
      "[1,    76] loss: 2.02874, train_accuracy: 28.06\n",
      "[1,    77] loss: 2.05377, train_accuracy: 25.78\n",
      "[1,    78] loss: 2.12314, train_accuracy: 23.24\n",
      "[1,    79] loss: 2.07924, train_accuracy: 24.48\n",
      "[1,    80] loss: 1.98147, train_accuracy: 29.10\n",
      "[1,    81] loss: 2.04405, train_accuracy: 24.28\n",
      "[1,    82] loss: 1.98542, train_accuracy: 27.41\n",
      "[1,    83] loss: 2.08550, train_accuracy: 23.63\n",
      "[1,    84] loss: 2.03384, train_accuracy: 21.81\n",
      "[1,    85] loss: 2.02156, train_accuracy: 24.93\n",
      "[1,    86] loss: 2.08230, train_accuracy: 23.50\n",
      "[1,    87] loss: 2.01108, train_accuracy: 26.56\n",
      "[1,    88] loss: 2.12468, train_accuracy: 21.48\n",
      "[1,    89] loss: 1.99321, train_accuracy: 26.76\n",
      "[1,    90] loss: 2.01881, train_accuracy: 25.00\n",
      "[1,    91] loss: 1.95153, train_accuracy: 27.54\n",
      "[1,    92] loss: 2.01250, train_accuracy: 26.30\n",
      "[1,    93] loss: 1.99616, train_accuracy: 23.83\n",
      "[1,    94] loss: 2.03431, train_accuracy: 24.54\n",
      "[1,    95] loss: 2.03092, train_accuracy: 23.70\n",
      "[1,    96] loss: 2.03473, train_accuracy: 24.74\n",
      "[1,    97] loss: 2.06312, train_accuracy: 23.76\n",
      "[1,    98] loss: 1.99822, train_accuracy: 27.68\n",
      "duration: 353.1993157863617 - train loss:  19.75298612215081  - train accuracy:  190.92081587099128  - validation accuracy:  34.82  - validation loss:  1.7801462471485139\n",
      "duration: 353 s - train loss: 19.75299 - train accuracy: 190.92 - validation loss: 1.78 - validation accuracy: 34.82 \n",
      "Finished Training\n"
     ]
    },
    {
     "data": {
      "text/plain": [
       "{'criterion': CrossEntropyLoss(),\n",
       " 'optimizer': Adam (\n",
       " Parameter Group 0\n",
       "     amsgrad: False\n",
       "     betas: (0.9, 0.999)\n",
       "     eps: 1e-08\n",
       "     lr: 0.001\n",
       "     weight_decay: 0\n",
       " ),\n",
       " 'hist': 'Not implemented',\n",
       " 'val_accuracy': 34.82}"
      ]
     },
     "execution_count": 4,
     "metadata": {},
     "output_type": "execute_result"
    }
   ],
   "source": [
    "model.fit_free(train_loader, test_loader, 1, device, number_of_replays=3, eps = 8/255)"
   ]
  },
  {
   "cell_type": "code",
   "execution_count": 5,
   "metadata": {},
   "outputs": [
    {
     "name": "stdout",
     "output_type": "stream",
     "text": [
      "[1,     1] loss: 1.96565, train_accuracy: 28.91\n",
      "[1,    11] loss: 1.97713, train_accuracy: 27.93\n",
      "[1,    21] loss: 1.93998, train_accuracy: 27.34\n",
      "[1,    31] loss: 1.85866, train_accuracy: 31.05\n",
      "[1,    41] loss: 1.93476, train_accuracy: 29.88\n",
      "[1,    51] loss: 1.81361, train_accuracy: 33.79\n",
      "[1,    61] loss: 1.79394, train_accuracy: 34.96\n",
      "[1,    71] loss: 1.87157, train_accuracy: 32.42\n",
      "[1,    81] loss: 1.81604, train_accuracy: 33.98\n",
      "[1,    91] loss: 1.78834, train_accuracy: 31.84\n",
      "duration: 255 s - train loss: 1.84690 - train accuracy: 32.50 - validation loss: 1.53757 - validation accuracy: 44.68 \n",
      "Finished Training\n"
     ]
    },
    {
     "data": {
      "text/plain": [
       "{'criterion': CrossEntropyLoss(),\n",
       " 'optimizer': Adam (\n",
       " Parameter Group 0\n",
       "     amsgrad: False\n",
       "     betas: (0.9, 0.999)\n",
       "     eps: 1e-08\n",
       "     lr: 0.001\n",
       "     weight_decay: 0\n",
       " ),\n",
       " 'hist': 'Not implemented',\n",
       " 'val_accuracy': 44.68}"
      ]
     },
     "execution_count": 5,
     "metadata": {},
     "output_type": "execute_result"
    }
   ],
   "source": [
    "model.fit_fast(train_loader, test_loader, 1, device,eps = 8/255)"
   ]
  },
  {
   "cell_type": "code",
   "execution_count": 6,
   "metadata": {},
   "outputs": [
    {
     "name": "stdout",
     "output_type": "stream",
     "text": [
      "[1,     1] loss: 1.70809, train_accuracy: 39.65\n",
      "[1,    11] loss: 1.82264, train_accuracy: 33.59\n",
      "[1,    21] loss: 1.73971, train_accuracy: 32.81\n",
      "[1,    31] loss: 1.81496, train_accuracy: 35.94\n",
      "[1,    41] loss: 1.78697, train_accuracy: 31.45\n",
      "[1,    51] loss: 1.78453, train_accuracy: 33.20\n",
      "[1,    61] loss: 1.72529, train_accuracy: 35.55\n",
      "[1,    71] loss: 1.67665, train_accuracy: 38.67\n",
      "[1,    81] loss: 1.74809, train_accuracy: 35.55\n",
      "[1,    91] loss: 1.71799, train_accuracy: 38.67\n",
      "duration: 320 s - train loss: 1.76333 - train accuracy: 35.67 - validation loss: 1.45301 - validation accuracy: 48.06 \n",
      "Finished Training\n"
     ]
    },
    {
     "data": {
      "text/plain": [
       "{'criterion': CrossEntropyLoss(),\n",
       " 'optimizer': Adam (\n",
       " Parameter Group 0\n",
       "     amsgrad: False\n",
       "     betas: (0.9, 0.999)\n",
       "     eps: 1e-08\n",
       "     lr: 0.001\n",
       "     weight_decay: 0\n",
       " ),\n",
       " 'hist': 'Not implemented',\n",
       " 'val_accuracy': 48.06}"
      ]
     },
     "execution_count": 6,
     "metadata": {},
     "output_type": "execute_result"
    }
   ],
   "source": [
    "model.fit_fast_with_double_update(train_loader, test_loader, 1, device,eps = 8/255)"
   ]
  },
  {
   "cell_type": "code",
   "execution_count": null,
   "metadata": {},
   "outputs": [],
   "source": [
    "losses = [10, 9, 8,7,6,5,4,3,2,2]\n",
    "patience = 3\n",
    "check_early_stopping(losses, patience)"
   ]
  },
  {
   "cell_type": "code",
   "execution_count": 17,
   "metadata": {},
   "outputs": [
    {
     "data": {
      "text/plain": [
       "[]"
      ]
     },
     "execution_count": 17,
     "metadata": {},
     "output_type": "execute_result"
    }
   ],
   "source": [
    "a = 4\n",
    "b = [5,6,7]\n",
    "list(filter(lambda x: x<a, b))"
   ]
  },
  {
   "cell_type": "code",
   "execution_count": 20,
   "metadata": {},
   "outputs": [
    {
     "data": {
      "text/plain": [
       "[7]"
      ]
     },
     "execution_count": 20,
     "metadata": {},
     "output_type": "execute_result"
    }
   ],
   "source": [
    "b[-1:]"
   ]
  },
  {
   "cell_type": "code",
   "execution_count": null,
   "metadata": {},
   "outputs": [],
   "source": [
    "def check_early_stopping(val_loss_hist, patience):\n",
    "    filter(lambda x: val_loss_hist[-1:] > x, val_loss_hist[patience:])\n",
    "    return list(filter(lambda x: val_loss_hist[-1:][0] > x, val_loss_hist[patience:]))"
   ]
  },
  {
   "cell_type": "code",
   "execution_count": null,
   "metadata": {},
   "outputs": [],
   "source": []
  }
 ],
 "metadata": {
  "kernelspec": {
   "display_name": "Python 3",
   "language": "python",
   "name": "python3"
  },
  "language_info": {
   "codemirror_mode": {
    "name": "ipython",
    "version": 3
   },
   "file_extension": ".py",
   "mimetype": "text/x-python",
   "name": "python",
   "nbconvert_exporter": "python",
   "pygments_lexer": "ipython3",
   "version": "3.8.5"
  }
 },
 "nbformat": 4,
 "nbformat_minor": 4
}
