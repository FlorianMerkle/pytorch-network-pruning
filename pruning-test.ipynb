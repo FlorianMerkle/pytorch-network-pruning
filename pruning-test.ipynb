{
 "cells": [
  {
   "cell_type": "code",
   "execution_count": 1,
   "metadata": {},
   "outputs": [],
   "source": [
    "import torch\n",
    "import torch.nn as nn\n",
    "import torch.nn.functional as F\n",
    "import torchvision\n",
    "import torch.optim as optim\n",
    "\n",
    "from src.models import CifarResNet, MNIST_CNN, CIFAR_CNN\n",
    "from src.helpers import evaluate_rob_accuracy, evaluate_clean_accuracy, load_model, safe_model,_evaluate_model\n",
    "from src.data_loader import load_torchvision_dataset, load_imagenette\n",
    "#from src.pruning import identify_layers, _evaluate_sparsity\n",
    "\n",
    "#device = torch.device(\"cuda:0\")\n",
    "device = torch.device(\"cpu\")\n",
    "\n",
    "dtype = torch.float32"
   ]
  },
  {
   "cell_type": "markdown",
   "metadata": {},
   "source": [
    "# Initialization"
   ]
  },
  {
   "cell_type": "code",
   "execution_count": 2,
   "metadata": {},
   "outputs": [
    {
     "name": "stdout",
     "output_type": "stream",
     "text": [
      "identifying layers\n"
     ]
    }
   ],
   "source": [
    "#model = ResNet()\n",
    "#model = MNIST_CNN()\n",
    "model = CifarResNet()\n"
   ]
  },
  {
   "cell_type": "code",
   "execution_count": 3,
   "metadata": {
    "scrolled": true
   },
   "outputs": [
    {
     "name": "stdout",
     "output_type": "stream",
     "text": [
      "Files already downloaded and verified\n",
      "Files already downloaded and verified\n"
     ]
    }
   ],
   "source": [
    "train_loader, test_loader = load_torchvision_dataset('CIFAR10')"
   ]
  },
  {
   "cell_type": "markdown",
   "metadata": {},
   "source": [
    "# before"
   ]
  },
  {
   "cell_type": "code",
   "execution_count": null,
   "metadata": {},
   "outputs": [],
   "source": []
  },
  {
   "cell_type": "code",
   "execution_count": null,
   "metadata": {},
   "outputs": [],
   "source": []
  },
  {
   "cell_type": "code",
   "execution_count": null,
   "metadata": {},
   "outputs": [],
   "source": []
  },
  {
   "cell_type": "code",
   "execution_count": null,
   "metadata": {},
   "outputs": [],
   "source": []
  },
  {
   "cell_type": "code",
   "execution_count": null,
   "metadata": {},
   "outputs": [],
   "source": []
  },
  {
   "cell_type": "markdown",
   "metadata": {},
   "source": [
    "# Testing"
   ]
  },
  {
   "cell_type": "code",
   "execution_count": 4,
   "metadata": {},
   "outputs": [
    {
     "data": {
      "text/plain": [
       "({'c1.mask': 0.0,\n",
       "  'r1.c1.mask': 0.00048828125,\n",
       "  'r1.c2.mask': 0.000244140625,\n",
       "  'r2.c1.mask': 0.00048828125,\n",
       "  'r2.c2.mask': 0.0,\n",
       "  'r3.c1.mask': 0.0013427734375,\n",
       "  'r3.c2.mask': 0.0037841796875,\n",
       "  'r3.c3.mask': 0.0673828125,\n",
       "  'r4.c1.mask': 0.00274658203125,\n",
       "  'r4.c2.mask': 0.0029296875,\n",
       "  'r5.c1.mask': 0.01751708984375,\n",
       "  'r5.c2.mask': 0.0554656982421875,\n",
       "  'r5.c3.mask': 0.09869384765625,\n",
       "  'r6.c1.mask': 0.0527191162109375,\n",
       "  'r6.c2.mask': 0.054443359375,\n",
       "  'r7.c1.mask': 0.2152862548828125,\n",
       "  'r7.c2.mask': 0.4518585205078125,\n",
       "  'r7.c3.mask': 0.14070892333984375,\n",
       "  'r8.c1.mask': 0.4535713195800781,\n",
       "  'r8.c2.mask': 0.4526023864746094},\n",
       " 0.3210631340938158)"
      ]
     },
     "execution_count": 4,
     "metadata": {},
     "output_type": "execute_result"
    }
   ],
   "source": [
    "model.prune_magnitude_global_struct(.3, structure='kernel', device=device)"
   ]
  },
  {
   "cell_type": "code",
   "execution_count": 5,
   "metadata": {},
   "outputs": [
    {
     "data": {
      "text/plain": [
       "(10.02, 0.0)"
      ]
     },
     "execution_count": 5,
     "metadata": {},
     "output_type": "execute_result"
    }
   ],
   "source": [
    "evaluate_clean_accuracy(model, test_loader, device)"
   ]
  },
  {
   "cell_type": "code",
   "execution_count": null,
   "metadata": {},
   "outputs": [],
   "source": [
    "evaluate_rob_accuracy(model, test_loader, device, epsilon=8/255, attack='FGSM')"
   ]
  },
  {
   "cell_type": "code",
   "execution_count": null,
   "metadata": {},
   "outputs": [],
   "source": [
    "model = load_model(model, PATH)"
   ]
  },
  {
   "cell_type": "code",
   "execution_count": null,
   "metadata": {},
   "outputs": [],
   "source": []
  },
  {
   "cell_type": "code",
   "execution_count": null,
   "metadata": {},
   "outputs": [],
   "source": [
    "model.prune_magnitude_global_struct(.3, structure='filter')"
   ]
  },
  {
   "cell_type": "code",
   "execution_count": null,
   "metadata": {},
   "outputs": [],
   "source": [
    "evaluate_clean_accuracy(model, test_loader, device)"
   ]
  },
  {
   "cell_type": "code",
   "execution_count": null,
   "metadata": {},
   "outputs": [],
   "source": [
    "evaluate_rob_accuracy(model, test_loader, device, epsilon=8/255, attack='FGSM')"
   ]
  },
  {
   "cell_type": "code",
   "execution_count": null,
   "metadata": {},
   "outputs": [],
   "source": [
    "model = load_model(model, PATH)"
   ]
  },
  {
   "cell_type": "code",
   "execution_count": null,
   "metadata": {},
   "outputs": [],
   "source": []
  },
  {
   "cell_type": "code",
   "execution_count": null,
   "metadata": {},
   "outputs": [],
   "source": [
    "model.prune_magnitude_global_unstruct(.3)"
   ]
  },
  {
   "cell_type": "code",
   "execution_count": null,
   "metadata": {
    "scrolled": true
   },
   "outputs": [],
   "source": [
    "evaluate_clean_accuracy(model, test_loader, device)"
   ]
  },
  {
   "cell_type": "code",
   "execution_count": null,
   "metadata": {},
   "outputs": [],
   "source": [
    "evaluate_rob_accuracy(model, test_loader, device, epsilon=8/255, attack='FGSM')"
   ]
  },
  {
   "cell_type": "code",
   "execution_count": null,
   "metadata": {},
   "outputs": [],
   "source": [
    "model = load_model(model, PATH)"
   ]
  },
  {
   "cell_type": "code",
   "execution_count": null,
   "metadata": {},
   "outputs": [],
   "source": []
  },
  {
   "cell_type": "code",
   "execution_count": null,
   "metadata": {},
   "outputs": [],
   "source": [
    "model.prune_magnitude_local_struct(.3, structure='kernel')"
   ]
  },
  {
   "cell_type": "code",
   "execution_count": null,
   "metadata": {},
   "outputs": [],
   "source": [
    "evaluate_clean_accuracy(model, test_loader, device)"
   ]
  },
  {
   "cell_type": "code",
   "execution_count": null,
   "metadata": {},
   "outputs": [],
   "source": [
    "evaluate_rob_accuracy(model, test_loader, device, epsilon=8/255, attack='FGSM')"
   ]
  },
  {
   "cell_type": "code",
   "execution_count": null,
   "metadata": {},
   "outputs": [],
   "source": [
    "model = load_model(model, PATH)"
   ]
  },
  {
   "cell_type": "code",
   "execution_count": null,
   "metadata": {},
   "outputs": [],
   "source": []
  },
  {
   "cell_type": "code",
   "execution_count": null,
   "metadata": {},
   "outputs": [],
   "source": [
    "model.prune_magnitude_local_struct(.3, structure='filter')"
   ]
  },
  {
   "cell_type": "code",
   "execution_count": null,
   "metadata": {
    "scrolled": true
   },
   "outputs": [],
   "source": [
    "evaluate_clean_accuracy(model, test_loader, device)"
   ]
  },
  {
   "cell_type": "code",
   "execution_count": null,
   "metadata": {},
   "outputs": [],
   "source": [
    "evaluate_rob_accuracy(model, test_loader, device, epsilon=8/255, attack='FGSM')"
   ]
  },
  {
   "cell_type": "code",
   "execution_count": null,
   "metadata": {},
   "outputs": [],
   "source": [
    "model = load_model(model, PATH)"
   ]
  },
  {
   "cell_type": "code",
   "execution_count": null,
   "metadata": {},
   "outputs": [],
   "source": []
  },
  {
   "cell_type": "code",
   "execution_count": null,
   "metadata": {},
   "outputs": [],
   "source": [
    "model.prune_magnitude_local_unstruct(.3, scope='layer')"
   ]
  },
  {
   "cell_type": "code",
   "execution_count": null,
   "metadata": {},
   "outputs": [],
   "source": [
    "evaluate_clean_accuracy(model, test_loader, device)"
   ]
  },
  {
   "cell_type": "code",
   "execution_count": null,
   "metadata": {},
   "outputs": [],
   "source": [
    "evaluate_rob_accuracy(model, test_loader, device, epsilon=8/255, attack='FGSM')"
   ]
  },
  {
   "cell_type": "code",
   "execution_count": null,
   "metadata": {},
   "outputs": [],
   "source": [
    "model = load_model(model, PATH)"
   ]
  },
  {
   "cell_type": "code",
   "execution_count": null,
   "metadata": {},
   "outputs": [],
   "source": []
  },
  {
   "cell_type": "code",
   "execution_count": null,
   "metadata": {},
   "outputs": [],
   "source": [
    "model.prune_magnitude_local_unstruct(.3, scope='filter')"
   ]
  },
  {
   "cell_type": "code",
   "execution_count": null,
   "metadata": {
    "scrolled": true
   },
   "outputs": [],
   "source": [
    "evaluate_clean_accuracy(model, test_loader, device)"
   ]
  },
  {
   "cell_type": "code",
   "execution_count": null,
   "metadata": {},
   "outputs": [],
   "source": [
    "evaluate_rob_accuracy(model, test_loader, device, epsilon=8/255, attack='FGSM')"
   ]
  },
  {
   "cell_type": "code",
   "execution_count": null,
   "metadata": {},
   "outputs": [],
   "source": [
    "model = load_model(model, PATH)"
   ]
  },
  {
   "cell_type": "code",
   "execution_count": null,
   "metadata": {},
   "outputs": [],
   "source": []
  },
  {
   "cell_type": "code",
   "execution_count": null,
   "metadata": {},
   "outputs": [],
   "source": [
    "model.prune_random_local_struct(.3, structure='kernel')"
   ]
  },
  {
   "cell_type": "code",
   "execution_count": null,
   "metadata": {
    "scrolled": true
   },
   "outputs": [],
   "source": [
    "evaluate_clean_accuracy(model, test_loader, device)"
   ]
  },
  {
   "cell_type": "code",
   "execution_count": null,
   "metadata": {},
   "outputs": [],
   "source": [
    "evaluate_rob_accuracy(model, test_loader, device, epsilon=8/255, attack='FGSM')"
   ]
  },
  {
   "cell_type": "code",
   "execution_count": null,
   "metadata": {},
   "outputs": [],
   "source": [
    "model = load_model(model, PATH)"
   ]
  },
  {
   "cell_type": "code",
   "execution_count": null,
   "metadata": {},
   "outputs": [],
   "source": []
  },
  {
   "cell_type": "code",
   "execution_count": null,
   "metadata": {},
   "outputs": [],
   "source": [
    "model.prune_random_local_struct(.3, structure='filter')"
   ]
  },
  {
   "cell_type": "code",
   "execution_count": null,
   "metadata": {},
   "outputs": [],
   "source": [
    "evaluate_clean_accuracy(model, test_loader, device)"
   ]
  },
  {
   "cell_type": "code",
   "execution_count": null,
   "metadata": {},
   "outputs": [],
   "source": [
    "evaluate_rob_accuracy(model, test_loader, device, epsilon=8/255, attack='FGSM')"
   ]
  },
  {
   "cell_type": "code",
   "execution_count": null,
   "metadata": {},
   "outputs": [],
   "source": [
    "model = load_model(model, PATH)"
   ]
  },
  {
   "cell_type": "code",
   "execution_count": null,
   "metadata": {},
   "outputs": [],
   "source": []
  },
  {
   "cell_type": "code",
   "execution_count": null,
   "metadata": {},
   "outputs": [],
   "source": [
    "model.prune_random_local_unstruct(.3)"
   ]
  },
  {
   "cell_type": "code",
   "execution_count": null,
   "metadata": {},
   "outputs": [],
   "source": [
    "evaluate_clean_accuracy(model, test_loader, device)"
   ]
  },
  {
   "cell_type": "code",
   "execution_count": null,
   "metadata": {},
   "outputs": [],
   "source": [
    "evaluate_rob_accuracy(model, test_loader, device, epsilon=8/255, attack='FGSM')"
   ]
  },
  {
   "cell_type": "code",
   "execution_count": null,
   "metadata": {},
   "outputs": [],
   "source": [
    "model = load_model(model, PATH)"
   ]
  },
  {
   "cell_type": "code",
   "execution_count": null,
   "metadata": {},
   "outputs": [],
   "source": []
  },
  {
   "cell_type": "code",
   "execution_count": null,
   "metadata": {},
   "outputs": [],
   "source": []
  },
  {
   "cell_type": "code",
   "execution_count": null,
   "metadata": {},
   "outputs": [],
   "source": []
  },
  {
   "cell_type": "code",
   "execution_count": null,
   "metadata": {},
   "outputs": [],
   "source": []
  },
  {
   "cell_type": "code",
   "execution_count": null,
   "metadata": {},
   "outputs": [],
   "source": []
  },
  {
   "cell_type": "code",
   "execution_count": null,
   "metadata": {},
   "outputs": [],
   "source": []
  },
  {
   "cell_type": "code",
   "execution_count": null,
   "metadata": {
    "scrolled": true
   },
   "outputs": [],
   "source": [
    "_prune_magnitude_local_unstruct(model, .6, scope='layer')"
   ]
  },
  {
   "cell_type": "code",
   "execution_count": null,
   "metadata": {},
   "outputs": [],
   "source": [
    "evaluate_clean_accuracy(model, test_loader, device)"
   ]
  },
  {
   "cell_type": "code",
   "execution_count": null,
   "metadata": {},
   "outputs": [],
   "source": [
    "def prune_filters(model, ratio, weights):\n",
    "        all_filters = []\n",
    "        all_masks = []\n",
    "        vals = []\n",
    "        for i, layer_to_prune in enumerate(conv_weights):\n",
    "            # convert from e.g. (3,3,64,128) to (128,64,3,3)\n",
    "            oihw_weights = helpers.convert_from_hwio_to_oihw(weights[layer_to_prune])\n",
    "            oihw_mask = helpers.convert_from_hwio_to_oihw(weights[model.conv_masks[i]])\n",
    "            no_of_filters = oihw_weights.shape[0]\n",
    "            \n",
    "            #calculate average magnitude for each filter\n",
    "            vals = vals + [np.sum(np.abs(single_filter)) / np.prod(single_filter.shape) for single_filter in oihw_weights]\n",
    "            all_filters = list(all_filters) +  list(oihw_weights)\n",
    "            all_masks = list(all_masks) + list(oihw_mask)\n",
    "        no_of_filters_to_prune = int(np.round(ratio * len(vals)))\n",
    "        filters_to_prune = np.argsort(vals)[:no_of_filters_to_prune]\n",
    "        \n",
    "        for filter_to_prune in filters_to_prune:\n",
    "            all_filters[filter_to_prune] = tf.zeros(all_filters[filter_to_prune].shape) \n",
    "            all_masks[filter_to_prune] = tf.zeros(all_filters[filter_to_prune].shape) \n",
    "        z = 0\n",
    "        for i, _ in enumerate(conv_weights):\n",
    "            original_shape = helpers.convert_from_hwio_to_oihw(weights[layer_to_prune]).shape\n",
    "            pruned_layer = tf.reshape(all_filters[z:z + original_shape[0]], original_shape)\n",
    "            pruned_mask = tf.reshape(all_masks[z:z + original_shape[0]], original_shape)\n",
    "            weights[layer_to_prune] = helpers.convert_from_oihw_to_hwio(pruned_layer)\n",
    "            weights[model.conv_masks[i]] = helpers.convert_from_oihw_to_hwio(pruned_mask)\n",
    "            z = z + original_shape[0]"
   ]
  },
  {
   "cell_type": "code",
   "execution_count": null,
   "metadata": {},
   "outputs": [],
   "source": []
  },
  {
   "cell_type": "code",
   "execution_count": null,
   "metadata": {},
   "outputs": [],
   "source": []
  },
  {
   "cell_type": "code",
   "execution_count": null,
   "metadata": {},
   "outputs": [],
   "source": []
  },
  {
   "cell_type": "code",
   "execution_count": null,
   "metadata": {},
   "outputs": [],
   "source": []
  },
  {
   "cell_type": "code",
   "execution_count": null,
   "metadata": {},
   "outputs": [],
   "source": []
  },
  {
   "cell_type": "code",
   "execution_count": null,
   "metadata": {},
   "outputs": [],
   "source": []
  },
  {
   "cell_type": "code",
   "execution_count": null,
   "metadata": {},
   "outputs": [],
   "source": [
    "for p in model.parameters():\n",
    "    print(p)"
   ]
  },
  {
   "cell_type": "code",
   "execution_count": null,
   "metadata": {},
   "outputs": [],
   "source": []
  },
  {
   "cell_type": "code",
   "execution_count": null,
   "metadata": {},
   "outputs": [],
   "source": [
    "conv_weights, conv_masks, fully_connected_weights, fully_connected_masks = find_layers(model)"
   ]
  },
  {
   "cell_type": "code",
   "execution_count": null,
   "metadata": {},
   "outputs": [],
   "source": [
    "\n",
    "ratio = .1\n",
    "params = model.state_dict()\n",
    "for i, _ in enumerate(conv_weights):\n",
    "    weights = params[conv_weights[i]]\n",
    "    mask = params[conv_masks[i]]\n",
    "    shape = weights.shape\n",
    "    flat_weights = weights.flatten()\n",
    "    flat_mask = mask.flatten()\n",
    "    \n",
    "    no_of_weights_to_prune = int(round(ratio * len(flat_weights)))\n",
    "    non_zero_weights = torch.nonzero(flat_weights)\n",
    "    no_of_weights_to_prune_left = int(no_of_weights_to_prune - (len(flat_weights) - len(non_zero_weights)) )\n",
    "    non_zero_weights = non_zero_weights[torch.randperm(non_zero_weights.nelement())] #shuffle tensor\n",
    "    indices_to_delete = non_zero_weights[:no_of_weights_to_prune_left]\n",
    "    \n",
    "    for idx_to_delete in indices_to_delete:\n",
    "        flat_mask[idx_to_delete] = 0\n",
    "        flat_weights[idx_to_delete] = 0\n",
    "\n",
    "    params[conv_weights[i]] = flat_weights.view(shape)\n",
    "    params[conv_masks[i]] = flat_mask.view(shape)\n",
    "model.load_state_dict(params)"
   ]
  },
  {
   "cell_type": "code",
   "execution_count": null,
   "metadata": {},
   "outputs": [],
   "source": [
    "\n",
    "ratio = .1\n",
    "params = model.state_dict()\n",
    "for i, _ in enumerate(fully_connected_weights):\n",
    "    weights = params[fully_connected_weights[i]]\n",
    "    mask = params[fully_connected_masks[i]]\n",
    "    shape = weights.shape\n",
    "    flat_weights = weights.flatten()\n",
    "    flat_mask = mask.flatten()\n",
    "    \n",
    "    no_of_weights_to_prune = int(round(ratio * len(flat_weights)))\n",
    "    non_zero_weights = torch.nonzero(flat_weights)\n",
    "    no_of_weights_to_prune_left = int(no_of_weights_to_prune - (len(flat_weights) - len(non_zero_weights)) )\n",
    "    non_zero_weights = non_zero_weights[torch.randperm(non_zero_weights.nelement())] #shuffle tensor\n",
    "    indices_to_delete = non_zero_weights[:no_of_weights_to_prune_left]\n",
    "    \n",
    "    for idx_to_delete in indices_to_delete:\n",
    "        flat_mask[idx_to_delete] = 0\n",
    "        flat_weights[idx_to_delete] = 0\n",
    "\n",
    "    params[fully_connected_weights[i]] = flat_weights.view(shape)\n",
    "    params[fully_connected_masks[i]] = flat_mask.view(shape)\n",
    "model.load_state_dict(params)"
   ]
  },
  {
   "cell_type": "code",
   "execution_count": null,
   "metadata": {},
   "outputs": [],
   "source": [
    "for key in model.state_dict().keys():\n",
    "    p = model.state_dict()[key]\n",
    "    total = p.nelement()\n",
    "    non_zero = len(torch.nonzero(p.view(-1)))\n",
    "    print(total)\n",
    "    print(non_zero)\n",
    "    print('ratio: ', non_zero/total)"
   ]
  },
  {
   "cell_type": "code",
   "execution_count": null,
   "metadata": {},
   "outputs": [],
   "source": []
  },
  {
   "cell_type": "code",
   "execution_count": null,
   "metadata": {},
   "outputs": [],
   "source": []
  }
 ],
 "metadata": {
  "kernelspec": {
   "display_name": "Python 3 (ipykernel)",
   "language": "python",
   "name": "python3"
  },
  "language_info": {
   "codemirror_mode": {
    "name": "ipython",
    "version": 3
   },
   "file_extension": ".py",
   "mimetype": "text/x-python",
   "name": "python",
   "nbconvert_exporter": "python",
   "pygments_lexer": "ipython3",
   "version": "3.9.7"
  }
 },
 "nbformat": 4,
 "nbformat_minor": 4
}
