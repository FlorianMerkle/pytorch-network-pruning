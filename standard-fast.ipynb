{
 "cells": [
  {
   "cell_type": "code",
   "execution_count": 9,
   "metadata": {},
   "outputs": [
    {
     "name": "stdout",
     "output_type": "stream",
     "text": [
      "cuda:0\n"
     ]
    }
   ],
   "source": [
    "import torch\n",
    "import torch.nn as nn\n",
    "import torch.nn.functional as F\n",
    "import torchvision\n",
    "import torch.optim as optim\n",
    "\n",
    "\n",
    "from src.models  import CifarResNet, MNIST_CNN, CIFAR_CNN\n",
    "from src.helpers import evaluate_rob_accuracy, evaluate_clean_accuracy, load_model, safe_model,_evaluate_model\n",
    "from src.data_loader import load_torchvision_dataset, load_imagenette\n",
    "#from src.pruning import identify_layers, _evaluate_sparsity\n",
    "\n",
    "import time\n",
    "\n",
    "if torch.cuda.is_available() == True:\n",
    "    device = torch.device(\"cuda:0\")\n",
    "else:\n",
    "    device = torch.device(\"cpu\")\n",
    "print(device)\n",
    "dtype = torch.float32"
   ]
  },
  {
   "cell_type": "code",
   "execution_count": 10,
   "metadata": {},
   "outputs": [
    {
     "name": "stdout",
     "output_type": "stream",
     "text": [
      "identifying layers\n",
      "Files already downloaded and verified\n",
      "Files already downloaded and verified\n"
     ]
    }
   ],
   "source": [
    "model = CifarResNet()\n",
    "model.to(device)\n",
    "train_loader, test_loader = load_torchvision_dataset('CIFAR10', data_augmentation=True)"
   ]
  },
  {
   "cell_type": "code",
   "execution_count": null,
   "metadata": {},
   "outputs": [
    {
     "name": "stdout",
     "output_type": "stream",
     "text": [
      "[1,     1] loss: 2.86151, train_accuracy: 10.94\n",
      "[1,    11] loss: 5.11607, train_accuracy: 13.67\n",
      "[1,    21] loss: 3.89320, train_accuracy: 17.19\n",
      "[1,    31] loss: 2.59977, train_accuracy: 19.73\n",
      "[1,    41] loss: 2.84274, train_accuracy: 18.55\n",
      "[1,    51] loss: 2.90041, train_accuracy: 22.66\n",
      "[1,    61] loss: 2.23360, train_accuracy: 19.14\n",
      "[1,    71] loss: 2.14534, train_accuracy: 26.56\n",
      "[1,    81] loss: 2.65038, train_accuracy: 25.98\n",
      "[1,    91] loss: 2.30333, train_accuracy: 24.02\n",
      "duration: 191 s - train loss: 4.01494 - train accuracy: 20.41 - validation loss: 2.22422 - validation accuracy: 28.33 \n",
      "[2,     1] loss: 2.13229, train_accuracy: 22.66\n",
      "[2,    11] loss: 2.17772, train_accuracy: 21.48\n",
      "[2,    21] loss: 2.36908, train_accuracy: 25.98\n",
      "[2,    31] loss: 1.93846, train_accuracy: 26.76\n",
      "[2,    41] loss: 2.35091, train_accuracy: 29.30\n",
      "[2,    51] loss: 1.99823, train_accuracy: 29.49\n",
      "[2,    61] loss: 2.15333, train_accuracy: 26.17\n",
      "[2,    71] loss: 1.94948, train_accuracy: 33.20\n",
      "[2,    81] loss: 1.88156, train_accuracy: 28.52\n",
      "[2,    91] loss: 2.09683, train_accuracy: 28.52\n",
      "duration: 198 s - train loss: 2.11798 - train accuracy: 27.77 - validation loss: 1.75627 - validation accuracy: 37.62 \n",
      "[3,     1] loss: 1.94892, train_accuracy: 31.25\n",
      "[3,    11] loss: 2.07015, train_accuracy: 32.03\n",
      "[3,    21] loss: 1.84289, train_accuracy: 33.79\n",
      "[3,    31] loss: 1.92084, train_accuracy: 31.45\n",
      "[3,    41] loss: 1.76276, train_accuracy: 37.50\n",
      "[3,    51] loss: 1.77725, train_accuracy: 38.09\n",
      "[3,    61] loss: 1.71301, train_accuracy: 37.50\n",
      "[3,    71] loss: 1.75004, train_accuracy: 35.35\n",
      "[3,    81] loss: 1.69690, train_accuracy: 37.50\n",
      "[3,    91] loss: 1.70027, train_accuracy: 41.02\n",
      "duration: 203 s - train loss: 1.81750 - train accuracy: 35.02 - validation loss: 1.57431 - validation accuracy: 43.83 \n",
      "[4,     1] loss: 1.74871, train_accuracy: 35.35\n",
      "[4,    11] loss: 1.69342, train_accuracy: 36.52\n",
      "[4,    21] loss: 1.67460, train_accuracy: 39.06\n",
      "[4,    31] loss: 1.77482, train_accuracy: 36.33\n",
      "[4,    41] loss: 1.69310, train_accuracy: 36.33\n",
      "[4,    51] loss: 1.67976, train_accuracy: 37.50\n",
      "[4,    61] loss: 1.68873, train_accuracy: 41.02\n",
      "[4,    71] loss: 1.70244, train_accuracy: 39.65\n",
      "[4,    81] loss: 1.61353, train_accuracy: 40.23\n",
      "[4,    91] loss: 1.62066, train_accuracy: 38.87\n",
      "duration: 193 s - train loss: 1.69919 - train accuracy: 38.85 - validation loss: 1.52557 - validation accuracy: 46.40 \n",
      "[5,     1] loss: 1.66278, train_accuracy: 39.06\n",
      "[5,    11] loss: 1.58205, train_accuracy: 39.45\n",
      "[5,    21] loss: 1.67485, train_accuracy: 42.97\n",
      "[5,    31] loss: 1.69580, train_accuracy: 40.82\n",
      "[5,    41] loss: 1.57602, train_accuracy: 44.34\n",
      "[5,    51] loss: 1.66626, train_accuracy: 41.60\n",
      "[5,    61] loss: 1.50756, train_accuracy: 46.29\n",
      "[5,    71] loss: 1.58645, train_accuracy: 41.60\n",
      "[5,    81] loss: 1.50649, train_accuracy: 44.73\n",
      "[5,    91] loss: 1.56807, train_accuracy: 42.97\n",
      "duration: 194 s - train loss: 1.61418 - train accuracy: 42.09 - validation loss: 1.38552 - validation accuracy: 51.32 \n",
      "[6,     1] loss: 1.58619, train_accuracy: 43.75\n",
      "[6,    11] loss: 1.68250, train_accuracy: 42.38\n",
      "[6,    21] loss: 1.52811, train_accuracy: 45.70\n",
      "[6,    31] loss: 1.60576, train_accuracy: 39.26\n",
      "[6,    41] loss: 1.50721, train_accuracy: 45.31\n",
      "[6,    51] loss: 1.61867, train_accuracy: 41.99\n",
      "[6,    61] loss: 1.52406, train_accuracy: 43.75\n",
      "[6,    71] loss: 1.47760, train_accuracy: 44.53\n",
      "[6,    81] loss: 1.52218, train_accuracy: 47.07\n",
      "[6,    91] loss: 1.48007, train_accuracy: 45.70\n",
      "duration: 193 s - train loss: 1.53006 - train accuracy: 44.85 - validation loss: 1.31372 - validation accuracy: 54.30 \n",
      "[7,     1] loss: 1.62152, train_accuracy: 44.73\n",
      "[7,    11] loss: 1.56035, train_accuracy: 43.75\n",
      "[7,    21] loss: 1.51966, train_accuracy: 47.27\n",
      "[7,    31] loss: 1.50623, train_accuracy: 43.36\n",
      "[7,    41] loss: 1.45752, train_accuracy: 47.66\n",
      "[7,    51] loss: 1.44344, train_accuracy: 47.85\n",
      "[7,    61] loss: 1.47256, train_accuracy: 45.90\n",
      "[7,    71] loss: 1.42504, train_accuracy: 45.51\n",
      "[7,    81] loss: 1.44887, train_accuracy: 47.27\n",
      "[7,    91] loss: 1.34694, train_accuracy: 50.98\n",
      "duration: 197 s - train loss: 1.48611 - train accuracy: 46.87 - validation loss: 1.22416 - validation accuracy: 56.73 \n",
      "[8,     1] loss: 1.38960, train_accuracy: 46.88\n",
      "[8,    11] loss: 1.50158, train_accuracy: 46.48\n",
      "[8,    21] loss: 1.57001, train_accuracy: 47.07\n",
      "[8,    31] loss: 1.44527, train_accuracy: 50.20\n",
      "[8,    41] loss: 1.36702, train_accuracy: 53.32\n",
      "[8,    51] loss: 1.47645, train_accuracy: 47.07\n",
      "[8,    61] loss: 1.45210, train_accuracy: 46.88\n",
      "[8,    71] loss: 1.46112, train_accuracy: 48.83\n",
      "[8,    81] loss: 1.47313, train_accuracy: 48.44\n",
      "[8,    91] loss: 1.41136, train_accuracy: 50.00\n",
      "duration: 193 s - train loss: 1.41528 - train accuracy: 49.30 - validation loss: 1.16012 - validation accuracy: 59.88 \n",
      "[9,     1] loss: 1.39189, train_accuracy: 51.95\n",
      "[9,    11] loss: 1.43312, train_accuracy: 49.02\n",
      "[9,    21] loss: 1.36597, train_accuracy: 51.76\n",
      "[9,    31] loss: 1.34733, train_accuracy: 53.12\n",
      "[9,    41] loss: 1.31347, train_accuracy: 51.95\n",
      "[9,    51] loss: 1.27538, train_accuracy: 55.86\n",
      "[9,    61] loss: 1.49042, train_accuracy: 49.22\n",
      "[9,    71] loss: 1.34446, train_accuracy: 50.20\n",
      "[9,    81] loss: 1.39942, train_accuracy: 49.41\n",
      "[9,    91] loss: 1.34131, train_accuracy: 53.52\n",
      "duration: 193 s - train loss: 1.35780 - train accuracy: 51.98 - validation loss: 1.07468 - validation accuracy: 63.00 \n",
      "[10,     1] loss: 1.23672, train_accuracy: 54.69\n",
      "[10,    11] loss: 1.23727, train_accuracy: 55.47\n",
      "[10,    21] loss: 1.25412, train_accuracy: 52.34\n",
      "[10,    31] loss: 1.32511, train_accuracy: 50.20\n",
      "[10,    41] loss: 1.28813, train_accuracy: 53.91\n",
      "[10,    51] loss: 1.19899, train_accuracy: 57.62\n",
      "[10,    61] loss: 1.20512, train_accuracy: 57.03\n",
      "[10,    71] loss: 1.29315, train_accuracy: 53.71\n",
      "[10,    81] loss: 1.24181, train_accuracy: 55.08\n",
      "[10,    91] loss: 1.30475, train_accuracy: 52.93\n",
      "duration: 194 s - train loss: 1.30255 - train accuracy: 53.92 - validation loss: 1.02306 - validation accuracy: 63.86 \n",
      "[11,     1] loss: 1.25505, train_accuracy: 55.86\n",
      "[11,    11] loss: 1.18788, train_accuracy: 57.81\n",
      "[11,    21] loss: 1.31250, train_accuracy: 54.30\n",
      "[11,    31] loss: 1.23960, train_accuracy: 55.66\n",
      "[11,    41] loss: 1.26778, train_accuracy: 51.95\n",
      "[11,    51] loss: 1.28876, train_accuracy: 55.08\n",
      "[11,    61] loss: 1.16548, train_accuracy: 58.40\n",
      "[11,    71] loss: 1.23116, train_accuracy: 57.23\n",
      "[11,    81] loss: 1.24243, train_accuracy: 54.88\n",
      "[11,    91] loss: 1.32415, train_accuracy: 52.73\n",
      "duration: 196 s - train loss: 1.24872 - train accuracy: 56.13 - validation loss: 0.94799 - validation accuracy: 67.08 \n",
      "[12,     1] loss: 1.24180, train_accuracy: 58.20\n",
      "[12,    11] loss: 1.16870, train_accuracy: 57.42\n",
      "[12,    21] loss: 1.25596, train_accuracy: 57.42\n",
      "[12,    31] loss: 1.27890, train_accuracy: 55.47\n",
      "[12,    41] loss: 1.25377, train_accuracy: 57.03\n"
     ]
    }
   ],
   "source": [
    "train_stats = model.fit_fast(train_loader, test_loader, 200, device, patience=10)"
   ]
  },
  {
   "cell_type": "code",
   "execution_count": null,
   "metadata": {
    "scrolled": true
   },
   "outputs": [],
   "source": [
    "model.train_stats"
   ]
  },
  {
   "cell_type": "code",
   "execution_count": null,
   "metadata": {},
   "outputs": [],
   "source": []
  },
  {
   "cell_type": "code",
   "execution_count": null,
   "metadata": {},
   "outputs": [],
   "source": [
    "PATH='./saved-models/fast-double-vs-standard-experiment-double-update-fast-training.pt'\n",
    "optimizer = train_stats['optimizer'][0]\n",
    "safe_model(PATH, model, optimizer, description='Comparing fast adversarial training with single and double updates', loss='N/A',epoch='94')"
   ]
  },
  {
   "cell_type": "code",
   "execution_count": null,
   "metadata": {},
   "outputs": [],
   "source": []
  }
 ],
 "metadata": {
  "kernelspec": {
   "display_name": "Python 3",
   "language": "python",
   "name": "python3"
  },
  "language_info": {
   "codemirror_mode": {
    "name": "ipython",
    "version": 3
   },
   "file_extension": ".py",
   "mimetype": "text/x-python",
   "name": "python",
   "nbconvert_exporter": "python",
   "pygments_lexer": "ipython3",
   "version": "3.8.5"
  }
 },
 "nbformat": 4,
 "nbformat_minor": 4
}
